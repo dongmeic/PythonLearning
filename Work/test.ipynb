{
 "cells": [
  {
   "cell_type": "code",
   "execution_count": 3,
   "metadata": {},
   "outputs": [],
   "source": [
    "import geopandas as gpd"
   ]
  },
  {
   "cell_type": "code",
   "execution_count": 1,
   "metadata": {},
   "outputs": [
    {
     "name": "stdout",
     "output_type": "stream",
     "text": [
      "/cygdrive/c/Users/clid1852/OneDrive - lanecouncilofgovernments/GitHub/PythonLearning/Work\n"
     ]
    }
   ],
   "source": [
    "!pwd"
   ]
  },
  {
   "cell_type": "code",
   "execution_count": 3,
   "metadata": {},
   "outputs": [
    {
     "name": "stdout",
     "output_type": "stream",
     "text": [
      "/cygdrive/c/ProgramData/Anaconda3/python\n"
     ]
    }
   ],
   "source": [
    "!which python"
   ]
  },
  {
   "cell_type": "code",
   "execution_count": 4,
   "metadata": {},
   "outputs": [
    {
     "name": "stdout",
     "output_type": "stream",
     "text": [
      "C:\\Users\\clid1852\\AppData\\Local\\Programs\\ArcGIS\\Pro\\bin\\Python\\envs\\arcgispro-py3\\python.exe\n",
      "C:\\Python27\\python.exe\n",
      "C:\\Program Files\\INRO\\Emme\\Emme 4\\Emme-4.4.4.2\\Python27\\python.exe\n",
      "C:\\Python27\\ArcGIS10.7\\python.exe\n"
     ]
    }
   ],
   "source": [
    "!where python"
   ]
  },
  {
   "cell_type": "code",
   "execution_count": 2,
   "metadata": {},
   "outputs": [
    {
     "name": "stdout",
     "output_type": "stream",
     "text": [
      "Package             Version\n",
      "------------------- -------------------\n",
      "argon2-cffi         20.1.0\n",
      "async-generator     1.10\n",
      "attrs               20.3.0\n",
      "backcall            0.2.0\n",
      "bleach              3.3.0\n",
      "certifi             2020.12.5\n",
      "cffi                1.14.5\n",
      "click               7.1.2\n",
      "click-plugins       1.1.1\n",
      "cligj               0.7.1\n",
      "colorama            0.4.4\n",
      "decorator           4.4.2\n",
      "defusedxml          0.6.0\n",
      "entrypoints         0.3\n",
      "Fiona               1.8.13.post1\n",
      "GDAL                3.0.2\n",
      "geopandas           0.8.1\n",
      "importlib-metadata  2.0.0\n",
      "ipykernel           5.3.4\n",
      "ipython             7.21.0\n",
      "ipython-genutils    0.2.0\n",
      "ipywidgets          7.6.3\n",
      "jedi                0.17.0\n",
      "Jinja2              2.11.3\n",
      "jsonschema          3.2.0\n",
      "jupyter             1.0.0\n",
      "jupyter-client      6.1.7\n",
      "jupyter-console     6.2.0\n",
      "jupyter-core        4.7.1\n",
      "jupyterlab-pygments 0.1.2\n",
      "jupyterlab-widgets  1.0.0\n",
      "MarkupSafe          1.1.1\n",
      "mistune             0.8.4\n",
      "mkl-fft             1.3.0\n",
      "mkl-random          1.1.1\n",
      "mkl-service         2.3.0\n",
      "munch               2.5.0\n",
      "nbclient            0.5.3\n",
      "nbconvert           6.0.7\n",
      "nbformat            5.1.2\n",
      "nest-asyncio        1.5.1\n",
      "notebook            6.2.0\n",
      "numpy               1.19.2\n",
      "packaging           20.9\n",
      "pandas              1.2.3\n",
      "pandocfilters       1.4.3\n",
      "parso               0.8.1\n",
      "pickleshare         0.7.5\n",
      "pip                 21.0.1\n",
      "prometheus-client   0.9.0\n",
      "prompt-toolkit      3.0.8\n",
      "pycparser           2.20\n",
      "Pygments            2.8.0\n",
      "pyparsing           2.4.7\n",
      "pyproj              2.6.1.post1\n",
      "pyrsistent          0.17.3\n",
      "python-dateutil     2.8.1\n",
      "pytz                2021.1\n",
      "pywin32             227\n",
      "pywinpty            0.5.7\n",
      "pyzmq               20.0.0\n",
      "qtconsole           5.0.2\n",
      "QtPy                1.9.0\n",
      "Rtree               0.9.4\n",
      "Send2Trash          1.5.0\n",
      "setuptools          52.0.0.post20210125\n",
      "Shapely             1.7.1\n",
      "sip                 4.19.13\n",
      "six                 1.15.0\n",
      "terminado           0.9.2\n",
      "testpath            0.4.4\n",
      "tornado             6.1\n",
      "traitlets           5.0.5\n",
      "wcwidth             0.2.5\n",
      "webencodings        0.5.1\n",
      "wheel               0.36.2\n",
      "widgetsnbextension  3.5.1\n",
      "wincertstore        0.2\n",
      "zipp                3.4.0\n"
     ]
    }
   ],
   "source": [
    "!pip list"
   ]
  },
  {
   "cell_type": "code",
   "execution_count": null,
   "metadata": {},
   "outputs": [],
   "source": [
    "!conda install descartes"
   ]
  },
  {
   "cell_type": "code",
   "execution_count": null,
   "metadata": {},
   "outputs": [],
   "source": []
  }
 ],
 "metadata": {
  "kernelspec": {
   "display_name": "Python 3",
   "language": "python",
   "name": "python3"
  },
  "language_info": {
   "codemirror_mode": {
    "name": "ipython",
    "version": 3
   },
   "file_extension": ".py",
   "mimetype": "text/x-python",
   "name": "python",
   "nbconvert_exporter": "python",
   "pygments_lexer": "ipython3",
   "version": "3.8.8"
  }
 },
 "nbformat": 4,
 "nbformat_minor": 4
}
