{
 "cells": [
  {
   "cell_type": "code",
   "execution_count": 1,
   "metadata": {},
   "outputs": [],
   "source": [
    "import pyodbc\n",
    "import pandas as pd"
   ]
  },
  {
   "cell_type": "code",
   "execution_count": 2,
   "metadata": {},
   "outputs": [],
   "source": [
    "cnxn = pyodbc.connect(\"Driver={SQL Server};\"\n",
    "                      \"Server=rliddb.int.lcog.org,5433;\"\n",
    "                      \"Database=RLIDGeo;\"\n",
    "                      \"Trusted_Connection=yes;\")"
   ]
  },
  {
   "cell_type": "code",
   "execution_count": 3,
   "metadata": {},
   "outputs": [
    {
     "data": {
      "text/html": [
       "<div>\n",
       "<style scoped>\n",
       "    .dataframe tbody tr th:only-of-type {\n",
       "        vertical-align: middle;\n",
       "    }\n",
       "\n",
       "    .dataframe tbody tr th {\n",
       "        vertical-align: top;\n",
       "    }\n",
       "\n",
       "    .dataframe thead th {\n",
       "        text-align: right;\n",
       "    }\n",
       "</style>\n",
       "<table border=\"1\" class=\"dataframe\">\n",
       "  <thead>\n",
       "    <tr style=\"text-align: right;\">\n",
       "      <th></th>\n",
       "      <th>OBJECTID</th>\n",
       "      <th>label</th>\n",
       "      <th>label_full</th>\n",
       "      <th>label_add</th>\n",
       "      <th>type</th>\n",
       "      <th>type_full</th>\n",
       "      <th>eug_amenity</th>\n",
       "      <th>school_district</th>\n",
       "      <th>address_geofeat_id</th>\n",
       "      <th>address_uuid</th>\n",
       "      <th>x_coordinate</th>\n",
       "      <th>y_coordinate</th>\n",
       "      <th>longitude</th>\n",
       "      <th>latitude</th>\n",
       "      <th>Shape</th>\n",
       "    </tr>\n",
       "  </thead>\n",
       "  <tbody>\n",
       "    <tr>\n",
       "      <th>0</th>\n",
       "      <td>1</td>\n",
       "      <td>DEADWOOD CREEK</td>\n",
       "      <td>Deadwood Creek Fire Station</td>\n",
       "      <td>None</td>\n",
       "      <td>fire</td>\n",
       "      <td>Fire Station</td>\n",
       "      <td>N</td>\n",
       "      <td>None</td>\n",
       "      <td>12141.0</td>\n",
       "      <td>63D88B67-47FF-4795-AFE6-165B0AE0D122</td>\n",
       "      <td>4.073655e+06</td>\n",
       "      <td>917816.688648</td>\n",
       "      <td>-123.729353</td>\n",
       "      <td>44.140081</td>\n",
       "      <td>b'b\\x0b\\x00\\x00\\x01\\x0c\\x80&gt;\\x9f\\x9f[\\x14OA\\x8...</td>\n",
       "    </tr>\n",
       "    <tr>\n",
       "      <th>1</th>\n",
       "      <td>2</td>\n",
       "      <td>SWISSHOME-DEADWOOD 1</td>\n",
       "      <td>Swisshome-Deadwood Fire District Station 1</td>\n",
       "      <td>None</td>\n",
       "      <td>fire</td>\n",
       "      <td>Fire Station</td>\n",
       "      <td>N</td>\n",
       "      <td>None</td>\n",
       "      <td>12228.0</td>\n",
       "      <td>3B788A64-AA70-4BF7-B48E-2A21A70D3F76</td>\n",
       "      <td>4.071873e+06</td>\n",
       "      <td>902011.647966</td>\n",
       "      <td>-123.733814</td>\n",
       "      <td>44.096571</td>\n",
       "      <td>b'b\\x0b\\x00\\x00\\x01\\x0c\\xe0t:M\\xe0\\x10OA\\x00/\\...</td>\n",
       "    </tr>\n",
       "    <tr>\n",
       "      <th>2</th>\n",
       "      <td>3</td>\n",
       "      <td>SWISSHOME-DEADWOOD 2</td>\n",
       "      <td>Swisshome-Deadwood Fire District Station 2</td>\n",
       "      <td>None</td>\n",
       "      <td>fire</td>\n",
       "      <td>Fire Station</td>\n",
       "      <td>N</td>\n",
       "      <td>None</td>\n",
       "      <td>146663.0</td>\n",
       "      <td>E31FC259-2EAB-45FA-B010-1772CA2632A1</td>\n",
       "      <td>4.053745e+06</td>\n",
       "      <td>888501.169947</td>\n",
       "      <td>-123.800733</td>\n",
       "      <td>44.057599</td>\n",
       "      <td>b'b\\x0b\\x00\\x00\\x01\\x0c\\x00%=yx\\xedNA\\x00\\\\\\x0...</td>\n",
       "    </tr>\n",
       "    <tr>\n",
       "      <th>3</th>\n",
       "      <td>4</td>\n",
       "      <td>MAPLETON</td>\n",
       "      <td>Mapleton Fire Station</td>\n",
       "      <td>None</td>\n",
       "      <td>fire</td>\n",
       "      <td>Fire Station</td>\n",
       "      <td>N</td>\n",
       "      <td>None</td>\n",
       "      <td>112388.0</td>\n",
       "      <td>033F11AE-66C1-4AF0-BAB9-B0561EA77DAE</td>\n",
       "      <td>4.036936e+06</td>\n",
       "      <td>881435.188976</td>\n",
       "      <td>-123.863540</td>\n",
       "      <td>44.036398</td>\n",
       "      <td>b'b\\x0b\\x00\\x00\\x01\\x0c \\x14\\n\\x15\\xa4\\xccNA\\x...</td>\n",
       "    </tr>\n",
       "    <tr>\n",
       "      <th>4</th>\n",
       "      <td>5</td>\n",
       "      <td>MAPLETON</td>\n",
       "      <td>Mapleton High School</td>\n",
       "      <td>None</td>\n",
       "      <td>high</td>\n",
       "      <td>High School</td>\n",
       "      <td>N</td>\n",
       "      <td>32</td>\n",
       "      <td>112474.0</td>\n",
       "      <td>5367BB9D-6281-496D-82F6-677C3A289A2A</td>\n",
       "      <td>4.039136e+06</td>\n",
       "      <td>881262.722441</td>\n",
       "      <td>-123.855157</td>\n",
       "      <td>44.036167</td>\n",
       "      <td>b'b\\x0b\\x00\\x00\\x01\\x0c\\x80&lt;\\x1e\\xcf\\xef\\xd0NA...</td>\n",
       "    </tr>\n",
       "  </tbody>\n",
       "</table>\n",
       "</div>"
      ],
      "text/plain": [
       "   OBJECTID                 label                                  label_full  \\\n",
       "0         1        DEADWOOD CREEK                 Deadwood Creek Fire Station   \n",
       "1         2  SWISSHOME-DEADWOOD 1  Swisshome-Deadwood Fire District Station 1   \n",
       "2         3  SWISSHOME-DEADWOOD 2  Swisshome-Deadwood Fire District Station 2   \n",
       "3         4              MAPLETON                       Mapleton Fire Station   \n",
       "4         5              MAPLETON                        Mapleton High School   \n",
       "\n",
       "  label_add  type     type_full eug_amenity school_district  \\\n",
       "0      None  fire  Fire Station           N            None   \n",
       "1      None  fire  Fire Station           N            None   \n",
       "2      None  fire  Fire Station           N            None   \n",
       "3      None  fire  Fire Station           N            None   \n",
       "4      None  high   High School           N              32   \n",
       "\n",
       "   address_geofeat_id                          address_uuid  x_coordinate  \\\n",
       "0             12141.0  63D88B67-47FF-4795-AFE6-165B0AE0D122  4.073655e+06   \n",
       "1             12228.0  3B788A64-AA70-4BF7-B48E-2A21A70D3F76  4.071873e+06   \n",
       "2            146663.0  E31FC259-2EAB-45FA-B010-1772CA2632A1  4.053745e+06   \n",
       "3            112388.0  033F11AE-66C1-4AF0-BAB9-B0561EA77DAE  4.036936e+06   \n",
       "4            112474.0  5367BB9D-6281-496D-82F6-677C3A289A2A  4.039136e+06   \n",
       "\n",
       "    y_coordinate   longitude   latitude  \\\n",
       "0  917816.688648 -123.729353  44.140081   \n",
       "1  902011.647966 -123.733814  44.096571   \n",
       "2  888501.169947 -123.800733  44.057599   \n",
       "3  881435.188976 -123.863540  44.036398   \n",
       "4  881262.722441 -123.855157  44.036167   \n",
       "\n",
       "                                               Shape  \n",
       "0  b'b\\x0b\\x00\\x00\\x01\\x0c\\x80>\\x9f\\x9f[\\x14OA\\x8...  \n",
       "1  b'b\\x0b\\x00\\x00\\x01\\x0c\\xe0t:M\\xe0\\x10OA\\x00/\\...  \n",
       "2  b'b\\x0b\\x00\\x00\\x01\\x0c\\x00%=yx\\xedNA\\x00\\\\\\x0...  \n",
       "3  b'b\\x0b\\x00\\x00\\x01\\x0c \\x14\\n\\x15\\xa4\\xccNA\\x...  \n",
       "4  b'b\\x0b\\x00\\x00\\x01\\x0c\\x80<\\x1e\\xcf\\xef\\xd0NA...  "
      ]
     },
     "execution_count": 3,
     "metadata": {},
     "output_type": "execute_result"
    }
   ],
   "source": [
    "df = pd.read_sql_query('select * from dbo.Facility', cnxn)\n",
    "df.head()"
   ]
  },
  {
   "cell_type": "code",
   "execution_count": 4,
   "metadata": {},
   "outputs": [
    {
     "data": {
      "text/plain": [
       "['OBJECTID',\n",
       " 'label',\n",
       " 'label_full',\n",
       " 'label_add',\n",
       " 'type',\n",
       " 'type_full',\n",
       " 'eug_amenity',\n",
       " 'school_district',\n",
       " 'address_geofeat_id',\n",
       " 'address_uuid',\n",
       " 'x_coordinate',\n",
       " 'y_coordinate',\n",
       " 'longitude',\n",
       " 'latitude',\n",
       " 'Shape']"
      ]
     },
     "execution_count": 4,
     "metadata": {},
     "output_type": "execute_result"
    }
   ],
   "source": [
    "list(df)"
   ]
  },
  {
   "cell_type": "code",
   "execution_count": 5,
   "metadata": {},
   "outputs": [
    {
     "data": {
      "text/plain": [
       "array(['Fire Station', 'High School', 'Middle School', 'Elementary Sch',\n",
       "       'Treatment', 'Wastewater', 'ElementaryCLSD', 'City Hall',\n",
       "       'Reservoir', 'Community Cntr', 'Post Office', 'Jail',\n",
       "       'School Dist Off', 'Pub Charter Sch', 'Golf Course',\n",
       "       'LTD Park & Ride', 'Hospital', 'Public Works Sh',\n",
       "       '911 Comm.Center', 'Alternative Sch', 'Shopping Center',\n",
       "       'LTD Transit Sta', 'Library', 'Recreation', 'Transportation',\n",
       "       'Water Pump Sta.', 'Police Station', 'Park', 'University',\n",
       "       'Police Sta/Comm', 'Clinic', 'Museum', 'Grange', 'Airport',\n",
       "       'Winery', 'The Arts', 'Boat Ramp', 'Beach Access', 'Dunes NRA',\n",
       "       'Dam', 'Solid Waste Tfr', 'US Courthouse', 'Campground',\n",
       "       'Private School', 'Port Office', 'Animal Shelter', 'Landfill',\n",
       "       'Fish Hatchery', 'Co. Courthouse', 'Government Office',\n",
       "       'Landing Zone', 'Public Utility', 'Covered Bridge',\n",
       "       'Ranger Station', 'Retirement Ctr', 'Care Facility',\n",
       "       'Senior Mfd Park', 'Powerhouse', 'Bike Share Hub',\n",
       "       'Social Services'], dtype=object)"
      ]
     },
     "execution_count": 5,
     "metadata": {},
     "output_type": "execute_result"
    }
   ],
   "source": [
    "df.type_full.unique()"
   ]
  },
  {
   "cell_type": "code",
   "execution_count": null,
   "metadata": {},
   "outputs": [],
   "source": []
  }
 ],
 "metadata": {
  "kernelspec": {
   "display_name": "Python 3",
   "language": "python",
   "name": "python3"
  },
  "language_info": {
   "codemirror_mode": {
    "name": "ipython",
    "version": 3
   },
   "file_extension": ".py",
   "mimetype": "text/x-python",
   "name": "python",
   "nbconvert_exporter": "python",
   "pygments_lexer": "ipython3",
   "version": "3.7.9"
  }
 },
 "nbformat": 4,
 "nbformat_minor": 4
}
