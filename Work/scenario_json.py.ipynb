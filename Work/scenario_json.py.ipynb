{
 "cells": [
  {
   "cell_type": "code",
   "execution_count": 1,
   "metadata": {},
   "outputs": [],
   "source": [
    "import json\n",
    "import pandas as pd"
   ]
  },
  {
   "cell_type": "code",
   "execution_count": 2,
   "metadata": {},
   "outputs": [],
   "source": [
    "inpath = '/Users/dongmeichen/OneDrive - lanecouncilofgovernments/VE-RSPM'"
   ]
  },
  {
   "cell_type": "code",
   "execution_count": 3,
   "metadata": {},
   "outputs": [],
   "source": [
    "scen = pd.read_csv(f'{inpath}/sensitivity_tests/scenario_list.csv')"
   ]
  },
  {
   "cell_type": "code",
   "execution_count": 4,
   "metadata": {},
   "outputs": [
    {
     "data": {
      "text/html": [
       "<div>\n",
       "<style scoped>\n",
       "    .dataframe tbody tr th:only-of-type {\n",
       "        vertical-align: middle;\n",
       "    }\n",
       "\n",
       "    .dataframe tbody tr th {\n",
       "        vertical-align: top;\n",
       "    }\n",
       "\n",
       "    .dataframe thead th {\n",
       "        text-align: right;\n",
       "    }\n",
       "</style>\n",
       "<table border=\"1\" class=\"dataframe\">\n",
       "  <thead>\n",
       "    <tr style=\"text-align: right;\">\n",
       "      <th></th>\n",
       "      <th>B</th>\n",
       "      <th>C</th>\n",
       "      <th>D</th>\n",
       "      <th>E</th>\n",
       "      <th>F</th>\n",
       "      <th>G</th>\n",
       "      <th>I</th>\n",
       "      <th>P</th>\n",
       "      <th>T</th>\n",
       "      <th>V</th>\n",
       "      <th>S</th>\n",
       "    </tr>\n",
       "  </thead>\n",
       "  <tbody>\n",
       "    <tr>\n",
       "      <th>0</th>\n",
       "      <td>0</td>\n",
       "      <td>1</td>\n",
       "      <td>1</td>\n",
       "      <td>1</td>\n",
       "      <td>0</td>\n",
       "      <td>1</td>\n",
       "      <td>1</td>\n",
       "      <td>0</td>\n",
       "      <td>1</td>\n",
       "      <td>1</td>\n",
       "      <td>B0C1D1E1F0G1I1P0T1V1</td>\n",
       "    </tr>\n",
       "    <tr>\n",
       "      <th>1</th>\n",
       "      <td>1</td>\n",
       "      <td>1</td>\n",
       "      <td>1</td>\n",
       "      <td>1</td>\n",
       "      <td>0</td>\n",
       "      <td>1</td>\n",
       "      <td>1</td>\n",
       "      <td>0</td>\n",
       "      <td>1</td>\n",
       "      <td>1</td>\n",
       "      <td>B1C1D1E1F0G1I1P0T1V1</td>\n",
       "    </tr>\n",
       "    <tr>\n",
       "      <th>2</th>\n",
       "      <td>2</td>\n",
       "      <td>1</td>\n",
       "      <td>1</td>\n",
       "      <td>1</td>\n",
       "      <td>0</td>\n",
       "      <td>1</td>\n",
       "      <td>1</td>\n",
       "      <td>0</td>\n",
       "      <td>1</td>\n",
       "      <td>1</td>\n",
       "      <td>B2C1D1E1F0G1I1P0T1V1</td>\n",
       "    </tr>\n",
       "    <tr>\n",
       "      <th>3</th>\n",
       "      <td>0</td>\n",
       "      <td>2</td>\n",
       "      <td>1</td>\n",
       "      <td>1</td>\n",
       "      <td>0</td>\n",
       "      <td>1</td>\n",
       "      <td>1</td>\n",
       "      <td>0</td>\n",
       "      <td>1</td>\n",
       "      <td>1</td>\n",
       "      <td>B0C2D1E1F0G1I1P0T1V1</td>\n",
       "    </tr>\n",
       "    <tr>\n",
       "      <th>4</th>\n",
       "      <td>1</td>\n",
       "      <td>2</td>\n",
       "      <td>1</td>\n",
       "      <td>1</td>\n",
       "      <td>0</td>\n",
       "      <td>1</td>\n",
       "      <td>1</td>\n",
       "      <td>0</td>\n",
       "      <td>1</td>\n",
       "      <td>1</td>\n",
       "      <td>B1C2D1E1F0G1I1P0T1V1</td>\n",
       "    </tr>\n",
       "  </tbody>\n",
       "</table>\n",
       "</div>"
      ],
      "text/plain": [
       "   B  C  D  E  F  G  I  P  T  V                     S\n",
       "0  0  1  1  1  0  1  1  0  1  1  B0C1D1E1F0G1I1P0T1V1\n",
       "1  1  1  1  1  0  1  1  0  1  1  B1C1D1E1F0G1I1P0T1V1\n",
       "2  2  1  1  1  0  1  1  0  1  1  B2C1D1E1F0G1I1P0T1V1\n",
       "3  0  2  1  1  0  1  1  0  1  1  B0C2D1E1F0G1I1P0T1V1\n",
       "4  1  2  1  1  0  1  1  0  1  1  B1C2D1E1F0G1I1P0T1V1"
      ]
     },
     "execution_count": 4,
     "metadata": {},
     "output_type": "execute_result"
    }
   ],
   "source": [
    "scen.head()"
   ]
  },
  {
   "cell_type": "code",
   "execution_count": 5,
   "metadata": {},
   "outputs": [
    {
     "data": {
      "text/html": [
       "<div>\n",
       "<style scoped>\n",
       "    .dataframe tbody tr th:only-of-type {\n",
       "        vertical-align: middle;\n",
       "    }\n",
       "\n",
       "    .dataframe tbody tr th {\n",
       "        vertical-align: top;\n",
       "    }\n",
       "\n",
       "    .dataframe thead th {\n",
       "        text-align: right;\n",
       "    }\n",
       "</style>\n",
       "<table border=\"1\" class=\"dataframe\">\n",
       "  <thead>\n",
       "    <tr style=\"text-align: right;\">\n",
       "      <th></th>\n",
       "      <th>Measure</th>\n",
       "      <th>Units</th>\n",
       "      <th>Description</th>\n",
       "      <th>Value2010</th>\n",
       "      <th>B0C1D1E1F0G1I1P0T1V1</th>\n",
       "      <th>B1C1D1E1F0G1I1P0T1V1</th>\n",
       "      <th>B2C1D1E1F0G1I1P0T1V1</th>\n",
       "      <th>B0C2D1E1F0G1I1P0T1V1</th>\n",
       "      <th>B1C2D1E1F0G1I1P0T1V1</th>\n",
       "    </tr>\n",
       "  </thead>\n",
       "  <tbody>\n",
       "    <tr>\n",
       "      <th>0</th>\n",
       "      <td>HhTotDailyOthParkingCost</td>\n",
       "      <td>USD per day</td>\n",
       "      <td>Total daily non-work parking expenditures by h...</td>\n",
       "      <td>28241.275835</td>\n",
       "      <td>10480.754212</td>\n",
       "      <td>10480.754212</td>\n",
       "      <td>10480.754212</td>\n",
       "      <td>10480.754212</td>\n",
       "      <td>10480.754212</td>\n",
       "    </tr>\n",
       "    <tr>\n",
       "      <th>1</th>\n",
       "      <td>HhTotDailyWkrParkingCost</td>\n",
       "      <td>USD per day</td>\n",
       "      <td>Total daily work parking expenditures by house...</td>\n",
       "      <td>37225.367097</td>\n",
       "      <td>11550.788950</td>\n",
       "      <td>11550.788950</td>\n",
       "      <td>11550.788950</td>\n",
       "      <td>11550.788950</td>\n",
       "      <td>11550.788950</td>\n",
       "    </tr>\n",
       "    <tr>\n",
       "      <th>2</th>\n",
       "      <td>HhVehTravCostShare</td>\n",
       "      <td>Proportion</td>\n",
       "      <td>Household vehicle Own &amp; out-of-pocket costs sh...</td>\n",
       "      <td>0.171750</td>\n",
       "      <td>0.044480</td>\n",
       "      <td>0.044178</td>\n",
       "      <td>0.043809</td>\n",
       "      <td>0.044701</td>\n",
       "      <td>0.044397</td>\n",
       "    </tr>\n",
       "    <tr>\n",
       "      <th>3</th>\n",
       "      <td>HhVehTravCostShareLowInc</td>\n",
       "      <td>Proportion</td>\n",
       "      <td>Low income (0to20K 2010$) household vehicle Ow...</td>\n",
       "      <td>0.312967</td>\n",
       "      <td>0.337755</td>\n",
       "      <td>0.337755</td>\n",
       "      <td>0.337754</td>\n",
       "      <td>0.341369</td>\n",
       "      <td>0.341369</td>\n",
       "    </tr>\n",
       "    <tr>\n",
       "      <th>4</th>\n",
       "      <td>MareaCarSvcAutoDvmtProp</td>\n",
       "      <td>Proportion</td>\n",
       "      <td>Average proportion car service vehicle DVMT in...</td>\n",
       "      <td>1.000000</td>\n",
       "      <td>0.983049</td>\n",
       "      <td>0.983047</td>\n",
       "      <td>0.983043</td>\n",
       "      <td>0.981926</td>\n",
       "      <td>0.981928</td>\n",
       "    </tr>\n",
       "  </tbody>\n",
       "</table>\n",
       "</div>"
      ],
      "text/plain": [
       "                    Measure        Units  \\\n",
       "0  HhTotDailyOthParkingCost  USD per day   \n",
       "1  HhTotDailyWkrParkingCost  USD per day   \n",
       "2        HhVehTravCostShare   Proportion   \n",
       "3  HhVehTravCostShareLowInc   Proportion   \n",
       "4   MareaCarSvcAutoDvmtProp   Proportion   \n",
       "\n",
       "                                         Description     Value2010  \\\n",
       "0  Total daily non-work parking expenditures by h...  28241.275835   \n",
       "1  Total daily work parking expenditures by house...  37225.367097   \n",
       "2  Household vehicle Own & out-of-pocket costs sh...      0.171750   \n",
       "3  Low income (0to20K 2010$) household vehicle Ow...      0.312967   \n",
       "4  Average proportion car service vehicle DVMT in...      1.000000   \n",
       "\n",
       "   B0C1D1E1F0G1I1P0T1V1  B1C1D1E1F0G1I1P0T1V1  B2C1D1E1F0G1I1P0T1V1  \\\n",
       "0          10480.754212          10480.754212          10480.754212   \n",
       "1          11550.788950          11550.788950          11550.788950   \n",
       "2              0.044480              0.044178              0.043809   \n",
       "3              0.337755              0.337755              0.337754   \n",
       "4              0.983049              0.983047              0.983043   \n",
       "\n",
       "   B0C2D1E1F0G1I1P0T1V1  B1C2D1E1F0G1I1P0T1V1  \n",
       "0          10480.754212          10480.754212  \n",
       "1          11550.788950          11550.788950  \n",
       "2              0.044701              0.044397  \n",
       "3              0.341369              0.341369  \n",
       "4              0.981926              0.981928  "
      ]
     },
     "execution_count": 5,
     "metadata": {},
     "output_type": "execute_result"
    }
   ],
   "source": [
    "meas = pd.read_csv(f'{inpath}/output/Measures_Sensitivity_Output_2.csv')\n",
    "meas.head()"
   ]
  },
  {
   "cell_type": "code",
   "execution_count": 6,
   "metadata": {},
   "outputs": [
    {
     "name": "stdout",
     "output_type": "stream",
     "text": [
      "(0, B                       0\n",
      "C                       1\n",
      "D                       1\n",
      "E                       1\n",
      "F                       0\n",
      "G                       1\n",
      "I                       1\n",
      "P                       0\n",
      "T                       1\n",
      "V                       1\n",
      "S    B0C1D1E1F0G1I1P0T1V1\n",
      "Name: 0, dtype: object)\n"
     ]
    }
   ],
   "source": [
    "for x in scen.iterrows():\n",
    "    print(x)\n",
    "    break"
   ]
  },
  {
   "cell_type": "code",
   "execution_count": 11,
   "metadata": {},
   "outputs": [],
   "source": [
    "def rows_to_dicts(df):\n",
    "    out = []\n",
    "    fields = list(df)\n",
    "    out = [{field:val for field, val in zip(fields, values)} \n",
    "           for _, values in df.iterrows()]\n",
    "    return out"
   ]
  },
  {
   "cell_type": "code",
   "execution_count": 26,
   "metadata": {},
   "outputs": [],
   "source": [
    "output = rows_to_dicts(scen)"
   ]
  },
  {
   "cell_type": "code",
   "execution_count": 27,
   "metadata": {},
   "outputs": [
    {
     "data": {
      "text/plain": [
       "{'B': 0,\n",
       " 'C': 1,\n",
       " 'D': 1,\n",
       " 'E': 1,\n",
       " 'F': 0,\n",
       " 'G': 1,\n",
       " 'I': 1,\n",
       " 'P': 0,\n",
       " 'T': 1,\n",
       " 'V': 1,\n",
       " 'S': 'B0C1D1E1F0G1I1P0T1V1'}"
      ]
     },
     "execution_count": 27,
     "metadata": {},
     "output_type": "execute_result"
    }
   ],
   "source": [
    "output[0]"
   ]
  },
  {
   "cell_type": "code",
   "execution_count": 16,
   "metadata": {},
   "outputs": [
    {
     "name": "stdout",
     "output_type": "stream",
     "text": [
      "69984\n"
     ]
    },
    {
     "data": {
      "text/plain": [
       "69984"
      ]
     },
     "execution_count": 16,
     "metadata": {},
     "output_type": "execute_result"
    }
   ],
   "source": [
    "print(len(test))\n",
    "len(scen.S.unique())"
   ]
  },
  {
   "cell_type": "code",
   "execution_count": 17,
   "metadata": {},
   "outputs": [
    {
     "data": {
      "text/plain": [
       "['UrbanBusCO2e',\n",
       " 'UrbanBusCO2eRate',\n",
       " 'UrbanComSvcCO2e',\n",
       " 'UrbanHhCO2e',\n",
       " 'UrbanHvyTrkAveCO2eRate',\n",
       " 'UrbanHvyTrkCO2e',\n",
       " 'UrbanLdvCO2e',\n",
       " 'UrbanLdvCO2eRate',\n",
       " 'UrbanRailCO2e',\n",
       " 'UrbanVanCO2e']"
      ]
     },
     "execution_count": 17,
     "metadata": {},
     "output_type": "execute_result"
    }
   ],
   "source": [
    "co2_vals = [x for x in meas['Measure'] if 'CO2' in x]\n",
    "co2_vals"
   ]
  },
  {
   "cell_type": "code",
   "execution_count": 18,
   "metadata": {},
   "outputs": [
    {
     "data": {
      "text/plain": [
       "10"
      ]
     },
     "execution_count": 18,
     "metadata": {},
     "output_type": "execute_result"
    }
   ],
   "source": [
    "len(co2_vals)"
   ]
  },
  {
   "cell_type": "code",
   "execution_count": 28,
   "metadata": {},
   "outputs": [],
   "source": [
    "def vals_from_scenario(scenario, meas_df, subset=None):\n",
    "    subset = meas_df.Measure.unique() if subset is None else subset\n",
    "    try:\n",
    "        out = {field: meas_df.loc[meas_df.Measure == field, scenario].values[0]\n",
    "              for field in subset}\n",
    "        return out\n",
    "    except KeyError:\n",
    "        return {}\n",
    "    except:\n",
    "        raise"
   ]
  },
  {
   "cell_type": "code",
   "execution_count": 29,
   "metadata": {},
   "outputs": [
    {
     "data": {
      "text/plain": [
       "{'UrbanBusCO2e': 6469.76823895145,\n",
       " 'UrbanBusCO2eRate': 1231.55839744099,\n",
       " 'UrbanComSvcCO2e': 34237.365820358,\n",
       " 'UrbanHhCO2e': 458407.02164538,\n",
       " 'UrbanHvyTrkAveCO2eRate': 855.711475785546,\n",
       " 'UrbanHvyTrkCO2e': 633054.431485929,\n",
       " 'UrbanLdvCO2e': 500437.687112108,\n",
       " 'UrbanLdvCO2eRate': 0.00016033916729636498,\n",
       " 'UrbanRailCO2e': 0.0,\n",
       " 'UrbanVanCO2e': 7793.299646370079}"
      ]
     },
     "execution_count": 29,
     "metadata": {},
     "output_type": "execute_result"
    }
   ],
   "source": [
    "vals_from_scenario('B0C1D1E1F0G1I1P0T1V1', meas, co2_vals)"
   ]
  },
  {
   "cell_type": "code",
   "execution_count": 33,
   "metadata": {},
   "outputs": [],
   "source": [
    "def append_scenario_vals(outputs, meas_df, subset=None):\n",
    "    for d in outputs:\n",
    "        scenario = d['S']\n",
    "        scenario_vals = vals_from_scenario(scenario, meas_df, subset)\n",
    "        d.update(scenario_vals)\n",
    "    return outputs"
   ]
  },
  {
   "cell_type": "code",
   "execution_count": 34,
   "metadata": {},
   "outputs": [],
   "source": [
    "test = append_scenario_vals(output, meas, co2_vals)"
   ]
  },
  {
   "cell_type": "code",
   "execution_count": 35,
   "metadata": {},
   "outputs": [
    {
     "data": {
      "text/plain": [
       "{'B': 0,\n",
       " 'C': 1,\n",
       " 'D': 1,\n",
       " 'E': 1,\n",
       " 'F': 0,\n",
       " 'G': 1,\n",
       " 'I': 1,\n",
       " 'P': 0,\n",
       " 'T': 1,\n",
       " 'V': 1,\n",
       " 'S': 'B0C1D1E1F0G1I1P0T1V1',\n",
       " 'UrbanBusCO2e': 6469.76823895145,\n",
       " 'UrbanBusCO2eRate': 1231.55839744099,\n",
       " 'UrbanComSvcCO2e': 34237.365820358,\n",
       " 'UrbanHhCO2e': 458407.02164538,\n",
       " 'UrbanHvyTrkAveCO2eRate': 855.711475785546,\n",
       " 'UrbanHvyTrkCO2e': 633054.431485929,\n",
       " 'UrbanLdvCO2e': 500437.687112108,\n",
       " 'UrbanLdvCO2eRate': 0.00016033916729636498,\n",
       " 'UrbanRailCO2e': 0.0,\n",
       " 'UrbanVanCO2e': 7793.299646370079}"
      ]
     },
     "execution_count": 35,
     "metadata": {},
     "output_type": "execute_result"
    }
   ],
   "source": [
    "test[0]"
   ]
  },
  {
   "cell_type": "code",
   "execution_count": 36,
   "metadata": {},
   "outputs": [
    {
     "data": {
      "text/plain": [
       "{'B': 2,\n",
       " 'C': 3,\n",
       " 'D': 3,\n",
       " 'E': 3,\n",
       " 'F': 3,\n",
       " 'G': 3,\n",
       " 'I': 3,\n",
       " 'P': 3,\n",
       " 'T': 3,\n",
       " 'V': 2,\n",
       " 'S': 'B2C3D3E3F3G3I3P3T3V2'}"
      ]
     },
     "execution_count": 36,
     "metadata": {},
     "output_type": "execute_result"
    }
   ],
   "source": [
    "test[-1]"
   ]
  },
  {
   "cell_type": "code",
   "execution_count": 40,
   "metadata": {},
   "outputs": [],
   "source": [
    "with open(f'{inpath}/VEScenarioViewer/test_out.json', 'w') as f:\n",
    "    json.dump(test, f)"
   ]
  },
  {
   "cell_type": "code",
   "execution_count": 38,
   "metadata": {},
   "outputs": [],
   "source": [
    "!open ./test_out.json"
   ]
  },
  {
   "cell_type": "code",
   "execution_count": 39,
   "metadata": {},
   "outputs": [],
   "source": [
    "!rm ./test_out.json"
   ]
  },
  {
   "cell_type": "code",
   "execution_count": null,
   "metadata": {},
   "outputs": [],
   "source": []
  }
 ],
 "metadata": {
  "kernelspec": {
   "display_name": "Python 3",
   "language": "python",
   "name": "python3"
  },
  "language_info": {
   "codemirror_mode": {
    "name": "ipython",
    "version": 3
   },
   "file_extension": ".py",
   "mimetype": "text/x-python",
   "name": "python",
   "nbconvert_exporter": "python",
   "pygments_lexer": "ipython3",
   "version": "3.8.3"
  }
 },
 "nbformat": 4,
 "nbformat_minor": 4
}
