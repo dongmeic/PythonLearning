{
 "cells": [
  {
   "cell_type": "code",
   "execution_count": 1,
   "metadata": {},
   "outputs": [],
   "source": [
    "import json\n",
    "import pandas as pd"
   ]
  },
  {
   "cell_type": "code",
   "execution_count": 2,
   "metadata": {},
   "outputs": [],
   "source": [
    "inpath = '/Users/dongmeichen/OneDrive - lanecouncilofgovernments/VE-RSPM'"
   ]
  },
  {
   "cell_type": "code",
   "execution_count": 140,
   "metadata": {},
   "outputs": [],
   "source": [
    "scen = pd.read_csv(f'{inpath}/sensitivity_tests/selected_scenario_list.csv')"
   ]
  },
  {
   "cell_type": "code",
   "execution_count": 141,
   "metadata": {},
   "outputs": [
    {
     "data": {
      "text/html": [
       "<div>\n",
       "<style scoped>\n",
       "    .dataframe tbody tr th:only-of-type {\n",
       "        vertical-align: middle;\n",
       "    }\n",
       "\n",
       "    .dataframe tbody tr th {\n",
       "        vertical-align: top;\n",
       "    }\n",
       "\n",
       "    .dataframe thead th {\n",
       "        text-align: right;\n",
       "    }\n",
       "</style>\n",
       "<table border=\"1\" class=\"dataframe\">\n",
       "  <thead>\n",
       "    <tr style=\"text-align: right;\">\n",
       "      <th></th>\n",
       "      <th>B</th>\n",
       "      <th>C</th>\n",
       "      <th>D</th>\n",
       "      <th>E</th>\n",
       "      <th>F</th>\n",
       "      <th>G</th>\n",
       "      <th>I</th>\n",
       "      <th>L</th>\n",
       "      <th>P</th>\n",
       "      <th>T</th>\n",
       "      <th>V</th>\n",
       "      <th>S</th>\n",
       "    </tr>\n",
       "  </thead>\n",
       "  <tbody>\n",
       "    <tr>\n",
       "      <th>0</th>\n",
       "      <td>1</td>\n",
       "      <td>1</td>\n",
       "      <td>1</td>\n",
       "      <td>1</td>\n",
       "      <td>1</td>\n",
       "      <td>1</td>\n",
       "      <td>1</td>\n",
       "      <td>1</td>\n",
       "      <td>1</td>\n",
       "      <td>1</td>\n",
       "      <td>1</td>\n",
       "      <td>B1C1D1E1F1G1I1L1P1T1V1</td>\n",
       "    </tr>\n",
       "    <tr>\n",
       "      <th>1</th>\n",
       "      <td>1</td>\n",
       "      <td>1</td>\n",
       "      <td>1</td>\n",
       "      <td>1</td>\n",
       "      <td>1</td>\n",
       "      <td>1</td>\n",
       "      <td>1</td>\n",
       "      <td>2</td>\n",
       "      <td>1</td>\n",
       "      <td>2</td>\n",
       "      <td>1</td>\n",
       "      <td>B1C1D1E1F1G1I1L2P1T2V1</td>\n",
       "    </tr>\n",
       "    <tr>\n",
       "      <th>2</th>\n",
       "      <td>1</td>\n",
       "      <td>1</td>\n",
       "      <td>1</td>\n",
       "      <td>1</td>\n",
       "      <td>1</td>\n",
       "      <td>1</td>\n",
       "      <td>1</td>\n",
       "      <td>2</td>\n",
       "      <td>2</td>\n",
       "      <td>3</td>\n",
       "      <td>1</td>\n",
       "      <td>B1C1D1E1F1G1I1L2P2T3V1</td>\n",
       "    </tr>\n",
       "    <tr>\n",
       "      <th>3</th>\n",
       "      <td>2</td>\n",
       "      <td>1</td>\n",
       "      <td>1</td>\n",
       "      <td>1</td>\n",
       "      <td>1</td>\n",
       "      <td>1</td>\n",
       "      <td>1</td>\n",
       "      <td>2</td>\n",
       "      <td>2</td>\n",
       "      <td>3</td>\n",
       "      <td>1</td>\n",
       "      <td>B2C1D1E1F1G1I1L2P2T3V1</td>\n",
       "    </tr>\n",
       "    <tr>\n",
       "      <th>4</th>\n",
       "      <td>1</td>\n",
       "      <td>1</td>\n",
       "      <td>2</td>\n",
       "      <td>2</td>\n",
       "      <td>1</td>\n",
       "      <td>1</td>\n",
       "      <td>1</td>\n",
       "      <td>1</td>\n",
       "      <td>1</td>\n",
       "      <td>1</td>\n",
       "      <td>1</td>\n",
       "      <td>B1C1D2E2F1G1I1L1P1T1V1</td>\n",
       "    </tr>\n",
       "  </tbody>\n",
       "</table>\n",
       "</div>"
      ],
      "text/plain": [
       "   B  C  D  E  F  G  I  L  P  T  V                       S\n",
       "0  1  1  1  1  1  1  1  1  1  1  1  B1C1D1E1F1G1I1L1P1T1V1\n",
       "1  1  1  1  1  1  1  1  2  1  2  1  B1C1D1E1F1G1I1L2P1T2V1\n",
       "2  1  1  1  1  1  1  1  2  2  3  1  B1C1D1E1F1G1I1L2P2T3V1\n",
       "3  2  1  1  1  1  1  1  2  2  3  1  B2C1D1E1F1G1I1L2P2T3V1\n",
       "4  1  1  2  2  1  1  1  1  1  1  1  B1C1D2E2F1G1I1L1P1T1V1"
      ]
     },
     "execution_count": 141,
     "metadata": {},
     "output_type": "execute_result"
    }
   ],
   "source": [
    "scen.head()"
   ]
  },
  {
   "cell_type": "code",
   "execution_count": 142,
   "metadata": {},
   "outputs": [
    {
     "data": {
      "text/html": [
       "<div>\n",
       "<style scoped>\n",
       "    .dataframe tbody tr th:only-of-type {\n",
       "        vertical-align: middle;\n",
       "    }\n",
       "\n",
       "    .dataframe tbody tr th {\n",
       "        vertical-align: top;\n",
       "    }\n",
       "\n",
       "    .dataframe thead th {\n",
       "        text-align: right;\n",
       "    }\n",
       "</style>\n",
       "<table border=\"1\" class=\"dataframe\">\n",
       "  <thead>\n",
       "    <tr style=\"text-align: right;\">\n",
       "      <th></th>\n",
       "      <th>B</th>\n",
       "      <th>C</th>\n",
       "      <th>D</th>\n",
       "      <th>E</th>\n",
       "      <th>F</th>\n",
       "      <th>G</th>\n",
       "      <th>I</th>\n",
       "      <th>L</th>\n",
       "      <th>P</th>\n",
       "      <th>T</th>\n",
       "      <th>V</th>\n",
       "      <th>Scenario</th>\n",
       "    </tr>\n",
       "  </thead>\n",
       "  <tbody>\n",
       "    <tr>\n",
       "      <th>0</th>\n",
       "      <td>1</td>\n",
       "      <td>1</td>\n",
       "      <td>1</td>\n",
       "      <td>1</td>\n",
       "      <td>1</td>\n",
       "      <td>1</td>\n",
       "      <td>1</td>\n",
       "      <td>1</td>\n",
       "      <td>1</td>\n",
       "      <td>1</td>\n",
       "      <td>1</td>\n",
       "      <td>B1C1D1E1F1G1I1L1P1T1V1</td>\n",
       "    </tr>\n",
       "    <tr>\n",
       "      <th>1</th>\n",
       "      <td>1</td>\n",
       "      <td>1</td>\n",
       "      <td>1</td>\n",
       "      <td>1</td>\n",
       "      <td>1</td>\n",
       "      <td>1</td>\n",
       "      <td>1</td>\n",
       "      <td>2</td>\n",
       "      <td>1</td>\n",
       "      <td>2</td>\n",
       "      <td>1</td>\n",
       "      <td>B1C1D1E1F1G1I1L2P1T2V1</td>\n",
       "    </tr>\n",
       "    <tr>\n",
       "      <th>2</th>\n",
       "      <td>1</td>\n",
       "      <td>1</td>\n",
       "      <td>1</td>\n",
       "      <td>1</td>\n",
       "      <td>1</td>\n",
       "      <td>1</td>\n",
       "      <td>1</td>\n",
       "      <td>2</td>\n",
       "      <td>2</td>\n",
       "      <td>3</td>\n",
       "      <td>1</td>\n",
       "      <td>B1C1D1E1F1G1I1L2P2T3V1</td>\n",
       "    </tr>\n",
       "    <tr>\n",
       "      <th>3</th>\n",
       "      <td>2</td>\n",
       "      <td>1</td>\n",
       "      <td>1</td>\n",
       "      <td>1</td>\n",
       "      <td>1</td>\n",
       "      <td>1</td>\n",
       "      <td>1</td>\n",
       "      <td>2</td>\n",
       "      <td>2</td>\n",
       "      <td>3</td>\n",
       "      <td>1</td>\n",
       "      <td>B2C1D1E1F1G1I1L2P2T3V1</td>\n",
       "    </tr>\n",
       "    <tr>\n",
       "      <th>4</th>\n",
       "      <td>1</td>\n",
       "      <td>1</td>\n",
       "      <td>2</td>\n",
       "      <td>2</td>\n",
       "      <td>1</td>\n",
       "      <td>1</td>\n",
       "      <td>1</td>\n",
       "      <td>1</td>\n",
       "      <td>1</td>\n",
       "      <td>1</td>\n",
       "      <td>1</td>\n",
       "      <td>B1C1D2E2F1G1I1L1P1T1V1</td>\n",
       "    </tr>\n",
       "  </tbody>\n",
       "</table>\n",
       "</div>"
      ],
      "text/plain": [
       "   B  C  D  E  F  G  I  L  P  T  V                Scenario\n",
       "0  1  1  1  1  1  1  1  1  1  1  1  B1C1D1E1F1G1I1L1P1T1V1\n",
       "1  1  1  1  1  1  1  1  2  1  2  1  B1C1D1E1F1G1I1L2P1T2V1\n",
       "2  1  1  1  1  1  1  1  2  2  3  1  B1C1D1E1F1G1I1L2P2T3V1\n",
       "3  2  1  1  1  1  1  1  2  2  3  1  B2C1D1E1F1G1I1L2P2T3V1\n",
       "4  1  1  2  2  1  1  1  1  1  1  1  B1C1D2E2F1G1I1L1P1T1V1"
      ]
     },
     "execution_count": 142,
     "metadata": {},
     "output_type": "execute_result"
    }
   ],
   "source": [
    "scen = scen.rename(columns={'S': 'Scenario'})\n",
    "#scen.rename(columns={'S': 'Scenario'}, inplace=True)\n",
    "scen.head()"
   ]
  },
  {
   "cell_type": "code",
   "execution_count": 143,
   "metadata": {},
   "outputs": [
    {
     "data": {
      "text/html": [
       "<div>\n",
       "<style scoped>\n",
       "    .dataframe tbody tr th:only-of-type {\n",
       "        vertical-align: middle;\n",
       "    }\n",
       "\n",
       "    .dataframe tbody tr th {\n",
       "        vertical-align: top;\n",
       "    }\n",
       "\n",
       "    .dataframe thead th {\n",
       "        text-align: right;\n",
       "    }\n",
       "</style>\n",
       "<table border=\"1\" class=\"dataframe\">\n",
       "  <thead>\n",
       "    <tr style=\"text-align: right;\">\n",
       "      <th></th>\n",
       "      <th>Measure</th>\n",
       "      <th>Units</th>\n",
       "      <th>Description</th>\n",
       "      <th>Value2010</th>\n",
       "      <th>B1C1D1E1F1G1I1L1P1T1V1</th>\n",
       "      <th>B1C1D1E1F1G1I1L2P1T2V1</th>\n",
       "      <th>B1C1D1E1F1G1I1L2P2T3V1</th>\n",
       "      <th>B2C1D1E1F1G1I1L2P2T3V1</th>\n",
       "      <th>B1C1D2E2F1G1I1L1P1T1V1</th>\n",
       "    </tr>\n",
       "  </thead>\n",
       "  <tbody>\n",
       "    <tr>\n",
       "      <th>0</th>\n",
       "      <td>HhTotDailyOthParkingCost</td>\n",
       "      <td>USD per day</td>\n",
       "      <td>Total daily non-work parking expenditures by h...</td>\n",
       "      <td>28241.275835</td>\n",
       "      <td>20961.508423</td>\n",
       "      <td>20964.109675</td>\n",
       "      <td>31446.164513</td>\n",
       "      <td>31446.164513</td>\n",
       "      <td>20961.508423</td>\n",
       "    </tr>\n",
       "    <tr>\n",
       "      <th>1</th>\n",
       "      <td>HhTotDailyWkrParkingCost</td>\n",
       "      <td>USD per day</td>\n",
       "      <td>Total daily work parking expenditures by house...</td>\n",
       "      <td>37225.367097</td>\n",
       "      <td>46029.338718</td>\n",
       "      <td>45697.798725</td>\n",
       "      <td>101436.752845</td>\n",
       "      <td>101436.752845</td>\n",
       "      <td>46029.338718</td>\n",
       "    </tr>\n",
       "    <tr>\n",
       "      <th>2</th>\n",
       "      <td>HhVehTravCostShare</td>\n",
       "      <td>Proportion</td>\n",
       "      <td>Household vehicle Own &amp; out-of-pocket costs sh...</td>\n",
       "      <td>0.171640</td>\n",
       "      <td>0.044528</td>\n",
       "      <td>0.044614</td>\n",
       "      <td>0.045369</td>\n",
       "      <td>0.044999</td>\n",
       "      <td>0.044241</td>\n",
       "    </tr>\n",
       "    <tr>\n",
       "      <th>3</th>\n",
       "      <td>HhVehTravCostShareLowInc</td>\n",
       "      <td>Proportion</td>\n",
       "      <td>Low income (0to20K 2010$) household vehicle Ow...</td>\n",
       "      <td>0.313677</td>\n",
       "      <td>0.338132</td>\n",
       "      <td>0.328408</td>\n",
       "      <td>0.330028</td>\n",
       "      <td>0.330027</td>\n",
       "      <td>0.338132</td>\n",
       "    </tr>\n",
       "    <tr>\n",
       "      <th>4</th>\n",
       "      <td>MareaCarSvcAutoDvmtProp</td>\n",
       "      <td>Proportion</td>\n",
       "      <td>Average proportion car service vehicle DVMT in...</td>\n",
       "      <td>1.000000</td>\n",
       "      <td>0.981329</td>\n",
       "      <td>0.981325</td>\n",
       "      <td>0.981637</td>\n",
       "      <td>0.981636</td>\n",
       "      <td>0.981324</td>\n",
       "    </tr>\n",
       "  </tbody>\n",
       "</table>\n",
       "</div>"
      ],
      "text/plain": [
       "                    Measure        Units  \\\n",
       "0  HhTotDailyOthParkingCost  USD per day   \n",
       "1  HhTotDailyWkrParkingCost  USD per day   \n",
       "2        HhVehTravCostShare   Proportion   \n",
       "3  HhVehTravCostShareLowInc   Proportion   \n",
       "4   MareaCarSvcAutoDvmtProp   Proportion   \n",
       "\n",
       "                                         Description     Value2010  \\\n",
       "0  Total daily non-work parking expenditures by h...  28241.275835   \n",
       "1  Total daily work parking expenditures by house...  37225.367097   \n",
       "2  Household vehicle Own & out-of-pocket costs sh...      0.171640   \n",
       "3  Low income (0to20K 2010$) household vehicle Ow...      0.313677   \n",
       "4  Average proportion car service vehicle DVMT in...      1.000000   \n",
       "\n",
       "   B1C1D1E1F1G1I1L1P1T1V1  B1C1D1E1F1G1I1L2P1T2V1  B1C1D1E1F1G1I1L2P2T3V1  \\\n",
       "0            20961.508423            20964.109675            31446.164513   \n",
       "1            46029.338718            45697.798725           101436.752845   \n",
       "2                0.044528                0.044614                0.045369   \n",
       "3                0.338132                0.328408                0.330028   \n",
       "4                0.981329                0.981325                0.981637   \n",
       "\n",
       "   B2C1D1E1F1G1I1L2P2T3V1  B1C1D2E2F1G1I1L1P1T1V1  \n",
       "0            31446.164513            20961.508423  \n",
       "1           101436.752845            46029.338718  \n",
       "2                0.044999                0.044241  \n",
       "3                0.330027                0.338132  \n",
       "4                0.981636                0.981324  "
      ]
     },
     "execution_count": 143,
     "metadata": {},
     "output_type": "execute_result"
    }
   ],
   "source": [
    "meas = pd.read_csv(f'{inpath}/output/Measures_Sensitivity_Output_6.csv')\n",
    "meas.head()"
   ]
  },
  {
   "cell_type": "code",
   "execution_count": 144,
   "metadata": {},
   "outputs": [
    {
     "name": "stdout",
     "output_type": "stream",
     "text": [
      "(0, B                                1\n",
      "C                                1\n",
      "D                                1\n",
      "E                                1\n",
      "F                                1\n",
      "G                                1\n",
      "I                                1\n",
      "L                                1\n",
      "P                                1\n",
      "T                                1\n",
      "V                                1\n",
      "Scenario    B1C1D1E1F1G1I1L1P1T1V1\n",
      "Name: 0, dtype: object)\n"
     ]
    }
   ],
   "source": [
    "for x in scen.iterrows():\n",
    "    print(x)\n",
    "    break"
   ]
  },
  {
   "cell_type": "code",
   "execution_count": 6,
   "metadata": {},
   "outputs": [],
   "source": [
    "def rows_to_dicts(df, data_info=['measure', 'scenario']):\n",
    "    out = []\n",
    "    fields = list(df)\n",
    "    if data_info == 'measure':\n",
    "        out = [{field: val for field, val in zip(fields, values)} \n",
    "           for _, values in df.iterrows()]\n",
    "    elif data_info == 'scenario':\n",
    "        out = [{field: [val] for field, val in zip(fields, values)} \n",
    "           for _, values in df.iterrows()]\n",
    "    return out"
   ]
  },
  {
   "cell_type": "code",
   "execution_count": 145,
   "metadata": {},
   "outputs": [],
   "source": [
    "scen = scen.astype(str)"
   ]
  },
  {
   "cell_type": "code",
   "execution_count": 146,
   "metadata": {},
   "outputs": [
    {
     "data": {
      "text/plain": [
       "'Scenario'"
      ]
     },
     "execution_count": 146,
     "metadata": {},
     "output_type": "execute_result"
    }
   ],
   "source": [
    "fields = list(scen)\n",
    "fields.pop(-1)"
   ]
  },
  {
   "cell_type": "code",
   "execution_count": 147,
   "metadata": {},
   "outputs": [
    {
     "data": {
      "text/plain": [
       "['B', 'C', 'D', 'E', 'F', 'G', 'I', 'L', 'P', 'T', 'V']"
      ]
     },
     "execution_count": 147,
     "metadata": {},
     "output_type": "execute_result"
    }
   ],
   "source": [
    "fields"
   ]
  },
  {
   "cell_type": "code",
   "execution_count": 148,
   "metadata": {},
   "outputs": [],
   "source": [
    "column_names = ['Scenario']\n",
    "for col in fields:\n",
    "    column_names.append(col)"
   ]
  },
  {
   "cell_type": "code",
   "execution_count": 149,
   "metadata": {},
   "outputs": [
    {
     "data": {
      "text/plain": [
       "['Scenario', 'B', 'C', 'D', 'E', 'F', 'G', 'I', 'L', 'P', 'T', 'V']"
      ]
     },
     "execution_count": 149,
     "metadata": {},
     "output_type": "execute_result"
    }
   ],
   "source": [
    "column_names"
   ]
  },
  {
   "cell_type": "code",
   "execution_count": 150,
   "metadata": {},
   "outputs": [],
   "source": [
    "scen = scen.reindex(columns=column_names)"
   ]
  },
  {
   "cell_type": "code",
   "execution_count": 151,
   "metadata": {},
   "outputs": [
    {
     "data": {
      "text/html": [
       "<div>\n",
       "<style scoped>\n",
       "    .dataframe tbody tr th:only-of-type {\n",
       "        vertical-align: middle;\n",
       "    }\n",
       "\n",
       "    .dataframe tbody tr th {\n",
       "        vertical-align: top;\n",
       "    }\n",
       "\n",
       "    .dataframe thead th {\n",
       "        text-align: right;\n",
       "    }\n",
       "</style>\n",
       "<table border=\"1\" class=\"dataframe\">\n",
       "  <thead>\n",
       "    <tr style=\"text-align: right;\">\n",
       "      <th></th>\n",
       "      <th>Scenario</th>\n",
       "      <th>B</th>\n",
       "      <th>C</th>\n",
       "      <th>D</th>\n",
       "      <th>E</th>\n",
       "      <th>F</th>\n",
       "      <th>G</th>\n",
       "      <th>I</th>\n",
       "      <th>L</th>\n",
       "      <th>P</th>\n",
       "      <th>T</th>\n",
       "      <th>V</th>\n",
       "    </tr>\n",
       "  </thead>\n",
       "  <tbody>\n",
       "    <tr>\n",
       "      <th>0</th>\n",
       "      <td>B1C1D1E1F1G1I1L1P1T1V1</td>\n",
       "      <td>1</td>\n",
       "      <td>1</td>\n",
       "      <td>1</td>\n",
       "      <td>1</td>\n",
       "      <td>1</td>\n",
       "      <td>1</td>\n",
       "      <td>1</td>\n",
       "      <td>1</td>\n",
       "      <td>1</td>\n",
       "      <td>1</td>\n",
       "      <td>1</td>\n",
       "    </tr>\n",
       "    <tr>\n",
       "      <th>1</th>\n",
       "      <td>B1C1D1E1F1G1I1L2P1T2V1</td>\n",
       "      <td>1</td>\n",
       "      <td>1</td>\n",
       "      <td>1</td>\n",
       "      <td>1</td>\n",
       "      <td>1</td>\n",
       "      <td>1</td>\n",
       "      <td>1</td>\n",
       "      <td>2</td>\n",
       "      <td>1</td>\n",
       "      <td>2</td>\n",
       "      <td>1</td>\n",
       "    </tr>\n",
       "    <tr>\n",
       "      <th>2</th>\n",
       "      <td>B1C1D1E1F1G1I1L2P2T3V1</td>\n",
       "      <td>1</td>\n",
       "      <td>1</td>\n",
       "      <td>1</td>\n",
       "      <td>1</td>\n",
       "      <td>1</td>\n",
       "      <td>1</td>\n",
       "      <td>1</td>\n",
       "      <td>2</td>\n",
       "      <td>2</td>\n",
       "      <td>3</td>\n",
       "      <td>1</td>\n",
       "    </tr>\n",
       "    <tr>\n",
       "      <th>3</th>\n",
       "      <td>B2C1D1E1F1G1I1L2P2T3V1</td>\n",
       "      <td>2</td>\n",
       "      <td>1</td>\n",
       "      <td>1</td>\n",
       "      <td>1</td>\n",
       "      <td>1</td>\n",
       "      <td>1</td>\n",
       "      <td>1</td>\n",
       "      <td>2</td>\n",
       "      <td>2</td>\n",
       "      <td>3</td>\n",
       "      <td>1</td>\n",
       "    </tr>\n",
       "    <tr>\n",
       "      <th>4</th>\n",
       "      <td>B1C1D2E2F1G1I1L1P1T1V1</td>\n",
       "      <td>1</td>\n",
       "      <td>1</td>\n",
       "      <td>2</td>\n",
       "      <td>2</td>\n",
       "      <td>1</td>\n",
       "      <td>1</td>\n",
       "      <td>1</td>\n",
       "      <td>1</td>\n",
       "      <td>1</td>\n",
       "      <td>1</td>\n",
       "      <td>1</td>\n",
       "    </tr>\n",
       "  </tbody>\n",
       "</table>\n",
       "</div>"
      ],
      "text/plain": [
       "                 Scenario  B  C  D  E  F  G  I  L  P  T  V\n",
       "0  B1C1D1E1F1G1I1L1P1T1V1  1  1  1  1  1  1  1  1  1  1  1\n",
       "1  B1C1D1E1F1G1I1L2P1T2V1  1  1  1  1  1  1  1  2  1  2  1\n",
       "2  B1C1D1E1F1G1I1L2P2T3V1  1  1  1  1  1  1  1  2  2  3  1\n",
       "3  B2C1D1E1F1G1I1L2P2T3V1  2  1  1  1  1  1  1  2  2  3  1\n",
       "4  B1C1D2E2F1G1I1L1P1T1V1  1  1  2  2  1  1  1  1  1  1  1"
      ]
     },
     "execution_count": 151,
     "metadata": {},
     "output_type": "execute_result"
    }
   ],
   "source": [
    "scen.head()"
   ]
  },
  {
   "cell_type": "code",
   "execution_count": 152,
   "metadata": {},
   "outputs": [],
   "source": [
    "output = rows_to_dicts(scen, data_info='measure')"
   ]
  },
  {
   "cell_type": "code",
   "execution_count": 153,
   "metadata": {},
   "outputs": [
    {
     "name": "stdout",
     "output_type": "stream",
     "text": [
      "5\n"
     ]
    },
    {
     "data": {
      "text/plain": [
       "5"
      ]
     },
     "execution_count": 153,
     "metadata": {},
     "output_type": "execute_result"
    }
   ],
   "source": [
    "print(len(output))\n",
    "len(scen.Scenario.unique())"
   ]
  },
  {
   "cell_type": "code",
   "execution_count": 87,
   "metadata": {},
   "outputs": [
    {
     "data": {
      "text/plain": [
       "['UrbanBusCO2e',\n",
       " 'UrbanBusCO2eRate',\n",
       " 'UrbanComSvcCO2e',\n",
       " 'UrbanHhCO2e',\n",
       " 'UrbanHvyTrkAveCO2eRate',\n",
       " 'UrbanHvyTrkCO2e',\n",
       " 'UrbanLdvCO2e',\n",
       " 'UrbanLdvCO2eRate',\n",
       " 'UrbanRailCO2e',\n",
       " 'UrbanVanCO2e']"
      ]
     },
     "execution_count": 87,
     "metadata": {},
     "output_type": "execute_result"
    }
   ],
   "source": [
    "co2_vals = [x for x in meas['Measure'] if 'CO2' in x]\n",
    "co2_vals"
   ]
  },
  {
   "cell_type": "code",
   "execution_count": 88,
   "metadata": {},
   "outputs": [
    {
     "data": {
      "text/plain": [
       "10"
      ]
     },
     "execution_count": 88,
     "metadata": {},
     "output_type": "execute_result"
    }
   ],
   "source": [
    "len(co2_vals)"
   ]
  },
  {
   "cell_type": "code",
   "execution_count": 7,
   "metadata": {},
   "outputs": [],
   "source": [
    "def vals_from_scenario(scenario, meas_df, subset=None):\n",
    "    subset = meas_df.Measure.unique() if subset is None else subset\n",
    "    try:\n",
    "        out = {field: meas_df.loc[meas_df.Measure == field, scenario].values[0]\n",
    "              for field in subset}\n",
    "        return out\n",
    "    except KeyError:\n",
    "        return {}\n",
    "    except:\n",
    "        raise"
   ]
  },
  {
   "cell_type": "code",
   "execution_count": 8,
   "metadata": {},
   "outputs": [],
   "source": [
    "def append_scenario_vals(outputs, meas_df, subset=None):\n",
    "    for d in outputs:\n",
    "        scenario = d['Scenario']\n",
    "        scenario_vals = vals_from_scenario(scenario, meas_df, subset)\n",
    "        d.update(scenario_vals)\n",
    "    return outputs"
   ]
  },
  {
   "cell_type": "code",
   "execution_count": 89,
   "metadata": {},
   "outputs": [],
   "source": [
    "test = append_scenario_vals(output, meas, co2_vals)"
   ]
  },
  {
   "cell_type": "code",
   "execution_count": 90,
   "metadata": {},
   "outputs": [
    {
     "data": {
      "text/plain": [
       "{'Scenario': 'B1C1D2E2F1G1I1L1P1T1V1',\n",
       " 'B': '1',\n",
       " 'C': '1',\n",
       " 'D': '2',\n",
       " 'E': '2',\n",
       " 'F': '1',\n",
       " 'G': '1',\n",
       " 'I': '1',\n",
       " 'L': '1',\n",
       " 'P': '1',\n",
       " 'T': '1',\n",
       " 'V': '1',\n",
       " 'UrbanBusCO2e': 6354.245369851839,\n",
       " 'UrbanBusCO2eRate': 1209.5679405526598,\n",
       " 'UrbanComSvcCO2e': 33372.1478263503,\n",
       " 'UrbanHhCO2e': 446230.554635875,\n",
       " 'UrbanHvyTrkAveCO2eRate': 855.281320819985,\n",
       " 'UrbanHvyTrkCO2e': 632736.203304024,\n",
       " 'UrbanLdvCO2e': 486834.841225057,\n",
       " 'UrbanLdvCO2eRate': 0.00016012709814450701,\n",
       " 'UrbanRailCO2e': 0.0,\n",
       " 'UrbanVanCO2e': 7232.13876283271}"
      ]
     },
     "execution_count": 90,
     "metadata": {},
     "output_type": "execute_result"
    }
   ],
   "source": [
    "test[-1]"
   ]
  },
  {
   "cell_type": "code",
   "execution_count": 91,
   "metadata": {},
   "outputs": [],
   "source": [
    "with open(f'{inpath}/VEScenarioViewer/test_out.json', 'w') as f:\n",
    "    json.dump(test, f)"
   ]
  },
  {
   "cell_type": "code",
   "execution_count": 38,
   "metadata": {},
   "outputs": [],
   "source": [
    "#!open ./test_out.json"
   ]
  },
  {
   "cell_type": "code",
   "execution_count": 39,
   "metadata": {},
   "outputs": [],
   "source": [
    "#!rm ./test_out.json"
   ]
  },
  {
   "cell_type": "code",
   "execution_count": 92,
   "metadata": {},
   "outputs": [],
   "source": [
    "# organize measure notes\n",
    "meas_notes = meas[[\"Measure\", \"Units\", \"Description\"]]"
   ]
  },
  {
   "cell_type": "code",
   "execution_count": 93,
   "metadata": {},
   "outputs": [
    {
     "data": {
      "text/html": [
       "<div>\n",
       "<style scoped>\n",
       "    .dataframe tbody tr th:only-of-type {\n",
       "        vertical-align: middle;\n",
       "    }\n",
       "\n",
       "    .dataframe tbody tr th {\n",
       "        vertical-align: top;\n",
       "    }\n",
       "\n",
       "    .dataframe thead th {\n",
       "        text-align: right;\n",
       "    }\n",
       "</style>\n",
       "<table border=\"1\" class=\"dataframe\">\n",
       "  <thead>\n",
       "    <tr style=\"text-align: right;\">\n",
       "      <th></th>\n",
       "      <th>Measure</th>\n",
       "      <th>Units</th>\n",
       "      <th>Description</th>\n",
       "    </tr>\n",
       "  </thead>\n",
       "  <tbody>\n",
       "    <tr>\n",
       "      <th>0</th>\n",
       "      <td>HhTotDailyOthParkingCost</td>\n",
       "      <td>USD per day</td>\n",
       "      <td>Total daily non-work parking expenditures by h...</td>\n",
       "    </tr>\n",
       "    <tr>\n",
       "      <th>1</th>\n",
       "      <td>HhTotDailyWkrParkingCost</td>\n",
       "      <td>USD per day</td>\n",
       "      <td>Total daily work parking expenditures by house...</td>\n",
       "    </tr>\n",
       "    <tr>\n",
       "      <th>2</th>\n",
       "      <td>HhVehTravCostShare</td>\n",
       "      <td>Proportion</td>\n",
       "      <td>Household vehicle Own &amp; out-of-pocket costs sh...</td>\n",
       "    </tr>\n",
       "    <tr>\n",
       "      <th>3</th>\n",
       "      <td>HhVehTravCostShareLowInc</td>\n",
       "      <td>Proportion</td>\n",
       "      <td>Low income (0to20K 2010$) household vehicle Ow...</td>\n",
       "    </tr>\n",
       "    <tr>\n",
       "      <th>4</th>\n",
       "      <td>MareaCarSvcAutoDvmtProp</td>\n",
       "      <td>Proportion</td>\n",
       "      <td>Average proportion car service vehicle DVMT in...</td>\n",
       "    </tr>\n",
       "  </tbody>\n",
       "</table>\n",
       "</div>"
      ],
      "text/plain": [
       "                    Measure        Units  \\\n",
       "0  HhTotDailyOthParkingCost  USD per day   \n",
       "1  HhTotDailyWkrParkingCost  USD per day   \n",
       "2        HhVehTravCostShare   Proportion   \n",
       "3  HhVehTravCostShareLowInc   Proportion   \n",
       "4   MareaCarSvcAutoDvmtProp   Proportion   \n",
       "\n",
       "                                         Description  \n",
       "0  Total daily non-work parking expenditures by h...  \n",
       "1  Total daily work parking expenditures by house...  \n",
       "2  Household vehicle Own & out-of-pocket costs sh...  \n",
       "3  Low income (0to20K 2010$) household vehicle Ow...  \n",
       "4  Average proportion car service vehicle DVMT in...  "
      ]
     },
     "execution_count": 93,
     "metadata": {},
     "output_type": "execute_result"
    }
   ],
   "source": [
    "meas_notes.head()"
   ]
  },
  {
   "cell_type": "code",
   "execution_count": 94,
   "metadata": {},
   "outputs": [],
   "source": [
    "# NAME, LABEL, DESCRIPTION, INSTRUCTIONS, METRIC, UNIT, COLUMN\n",
    "meas_notes = meas_notes.rename(columns={'Measure': 'NAME', 'Units': 'UNIT', 'Description':'DESCRIPTION'})"
   ]
  },
  {
   "cell_type": "code",
   "execution_count": 95,
   "metadata": {},
   "outputs": [
    {
     "data": {
      "text/html": [
       "<div>\n",
       "<style scoped>\n",
       "    .dataframe tbody tr th:only-of-type {\n",
       "        vertical-align: middle;\n",
       "    }\n",
       "\n",
       "    .dataframe tbody tr th {\n",
       "        vertical-align: top;\n",
       "    }\n",
       "\n",
       "    .dataframe thead th {\n",
       "        text-align: right;\n",
       "    }\n",
       "</style>\n",
       "<table border=\"1\" class=\"dataframe\">\n",
       "  <thead>\n",
       "    <tr style=\"text-align: right;\">\n",
       "      <th></th>\n",
       "      <th>NAME</th>\n",
       "      <th>UNIT</th>\n",
       "      <th>DESCRIPTION</th>\n",
       "    </tr>\n",
       "  </thead>\n",
       "  <tbody>\n",
       "    <tr>\n",
       "      <th>0</th>\n",
       "      <td>HhTotDailyOthParkingCost</td>\n",
       "      <td>USD per day</td>\n",
       "      <td>Total daily non-work parking expenditures by h...</td>\n",
       "    </tr>\n",
       "    <tr>\n",
       "      <th>1</th>\n",
       "      <td>HhTotDailyWkrParkingCost</td>\n",
       "      <td>USD per day</td>\n",
       "      <td>Total daily work parking expenditures by house...</td>\n",
       "    </tr>\n",
       "    <tr>\n",
       "      <th>2</th>\n",
       "      <td>HhVehTravCostShare</td>\n",
       "      <td>Proportion</td>\n",
       "      <td>Household vehicle Own &amp; out-of-pocket costs sh...</td>\n",
       "    </tr>\n",
       "    <tr>\n",
       "      <th>3</th>\n",
       "      <td>HhVehTravCostShareLowInc</td>\n",
       "      <td>Proportion</td>\n",
       "      <td>Low income (0to20K 2010$) household vehicle Ow...</td>\n",
       "    </tr>\n",
       "    <tr>\n",
       "      <th>4</th>\n",
       "      <td>MareaCarSvcAutoDvmtProp</td>\n",
       "      <td>Proportion</td>\n",
       "      <td>Average proportion car service vehicle DVMT in...</td>\n",
       "    </tr>\n",
       "  </tbody>\n",
       "</table>\n",
       "</div>"
      ],
      "text/plain": [
       "                       NAME         UNIT  \\\n",
       "0  HhTotDailyOthParkingCost  USD per day   \n",
       "1  HhTotDailyWkrParkingCost  USD per day   \n",
       "2        HhVehTravCostShare   Proportion   \n",
       "3  HhVehTravCostShareLowInc   Proportion   \n",
       "4   MareaCarSvcAutoDvmtProp   Proportion   \n",
       "\n",
       "                                         DESCRIPTION  \n",
       "0  Total daily non-work parking expenditures by h...  \n",
       "1  Total daily work parking expenditures by house...  \n",
       "2  Household vehicle Own & out-of-pocket costs sh...  \n",
       "3  Low income (0to20K 2010$) household vehicle Ow...  \n",
       "4  Average proportion car service vehicle DVMT in...  "
      ]
     },
     "execution_count": 95,
     "metadata": {},
     "output_type": "execute_result"
    }
   ],
   "source": [
    "meas_notes.head()"
   ]
  },
  {
   "cell_type": "code",
   "execution_count": 96,
   "metadata": {},
   "outputs": [],
   "source": [
    "meas_notes.loc[:,'LABEL'] = meas_notes.loc[:,'NAME']\n",
    "meas_notes.loc[:,'COLUMN']= meas_notes.loc[:,'NAME']"
   ]
  },
  {
   "cell_type": "code",
   "execution_count": 97,
   "metadata": {},
   "outputs": [
    {
     "data": {
      "text/html": [
       "<div>\n",
       "<style scoped>\n",
       "    .dataframe tbody tr th:only-of-type {\n",
       "        vertical-align: middle;\n",
       "    }\n",
       "\n",
       "    .dataframe tbody tr th {\n",
       "        vertical-align: top;\n",
       "    }\n",
       "\n",
       "    .dataframe thead th {\n",
       "        text-align: right;\n",
       "    }\n",
       "</style>\n",
       "<table border=\"1\" class=\"dataframe\">\n",
       "  <thead>\n",
       "    <tr style=\"text-align: right;\">\n",
       "      <th></th>\n",
       "      <th>NAME</th>\n",
       "      <th>UNIT</th>\n",
       "      <th>DESCRIPTION</th>\n",
       "      <th>LABEL</th>\n",
       "      <th>COLUMN</th>\n",
       "    </tr>\n",
       "  </thead>\n",
       "  <tbody>\n",
       "    <tr>\n",
       "      <th>0</th>\n",
       "      <td>HhTotDailyOthParkingCost</td>\n",
       "      <td>USD per day</td>\n",
       "      <td>Total daily non-work parking expenditures by h...</td>\n",
       "      <td>HhTotDailyOthParkingCost</td>\n",
       "      <td>HhTotDailyOthParkingCost</td>\n",
       "    </tr>\n",
       "    <tr>\n",
       "      <th>1</th>\n",
       "      <td>HhTotDailyWkrParkingCost</td>\n",
       "      <td>USD per day</td>\n",
       "      <td>Total daily work parking expenditures by house...</td>\n",
       "      <td>HhTotDailyWkrParkingCost</td>\n",
       "      <td>HhTotDailyWkrParkingCost</td>\n",
       "    </tr>\n",
       "    <tr>\n",
       "      <th>2</th>\n",
       "      <td>HhVehTravCostShare</td>\n",
       "      <td>Proportion</td>\n",
       "      <td>Household vehicle Own &amp; out-of-pocket costs sh...</td>\n",
       "      <td>HhVehTravCostShare</td>\n",
       "      <td>HhVehTravCostShare</td>\n",
       "    </tr>\n",
       "    <tr>\n",
       "      <th>3</th>\n",
       "      <td>HhVehTravCostShareLowInc</td>\n",
       "      <td>Proportion</td>\n",
       "      <td>Low income (0to20K 2010$) household vehicle Ow...</td>\n",
       "      <td>HhVehTravCostShareLowInc</td>\n",
       "      <td>HhVehTravCostShareLowInc</td>\n",
       "    </tr>\n",
       "    <tr>\n",
       "      <th>4</th>\n",
       "      <td>MareaCarSvcAutoDvmtProp</td>\n",
       "      <td>Proportion</td>\n",
       "      <td>Average proportion car service vehicle DVMT in...</td>\n",
       "      <td>MareaCarSvcAutoDvmtProp</td>\n",
       "      <td>MareaCarSvcAutoDvmtProp</td>\n",
       "    </tr>\n",
       "  </tbody>\n",
       "</table>\n",
       "</div>"
      ],
      "text/plain": [
       "                       NAME         UNIT  \\\n",
       "0  HhTotDailyOthParkingCost  USD per day   \n",
       "1  HhTotDailyWkrParkingCost  USD per day   \n",
       "2        HhVehTravCostShare   Proportion   \n",
       "3  HhVehTravCostShareLowInc   Proportion   \n",
       "4   MareaCarSvcAutoDvmtProp   Proportion   \n",
       "\n",
       "                                         DESCRIPTION  \\\n",
       "0  Total daily non-work parking expenditures by h...   \n",
       "1  Total daily work parking expenditures by house...   \n",
       "2  Household vehicle Own & out-of-pocket costs sh...   \n",
       "3  Low income (0to20K 2010$) household vehicle Ow...   \n",
       "4  Average proportion car service vehicle DVMT in...   \n",
       "\n",
       "                      LABEL                    COLUMN  \n",
       "0  HhTotDailyOthParkingCost  HhTotDailyOthParkingCost  \n",
       "1  HhTotDailyWkrParkingCost  HhTotDailyWkrParkingCost  \n",
       "2        HhVehTravCostShare        HhVehTravCostShare  \n",
       "3  HhVehTravCostShareLowInc  HhVehTravCostShareLowInc  \n",
       "4   MareaCarSvcAutoDvmtProp   MareaCarSvcAutoDvmtProp  "
      ]
     },
     "execution_count": 97,
     "metadata": {},
     "output_type": "execute_result"
    }
   ],
   "source": [
    "meas_notes.head()"
   ]
  },
  {
   "cell_type": "code",
   "execution_count": 98,
   "metadata": {},
   "outputs": [],
   "source": [
    "meas_notes.loc[:,'INSTRUCTIONS'] = meas_notes.loc[:,'DESCRIPTION']"
   ]
  },
  {
   "cell_type": "code",
   "execution_count": 99,
   "metadata": {},
   "outputs": [],
   "source": [
    "meas_notes.loc[:,'METRIC'] = 'Average'"
   ]
  },
  {
   "cell_type": "code",
   "execution_count": 100,
   "metadata": {},
   "outputs": [],
   "source": [
    "meas_notes = meas_notes[['NAME', 'LABEL', 'DESCRIPTION', 'INSTRUCTIONS', 'METRIC', 'UNIT', 'COLUMN']]"
   ]
  },
  {
   "cell_type": "code",
   "execution_count": 101,
   "metadata": {},
   "outputs": [
    {
     "data": {
      "text/html": [
       "<div>\n",
       "<style scoped>\n",
       "    .dataframe tbody tr th:only-of-type {\n",
       "        vertical-align: middle;\n",
       "    }\n",
       "\n",
       "    .dataframe tbody tr th {\n",
       "        vertical-align: top;\n",
       "    }\n",
       "\n",
       "    .dataframe thead th {\n",
       "        text-align: right;\n",
       "    }\n",
       "</style>\n",
       "<table border=\"1\" class=\"dataframe\">\n",
       "  <thead>\n",
       "    <tr style=\"text-align: right;\">\n",
       "      <th></th>\n",
       "      <th>NAME</th>\n",
       "      <th>LABEL</th>\n",
       "      <th>DESCRIPTION</th>\n",
       "      <th>INSTRUCTIONS</th>\n",
       "      <th>METRIC</th>\n",
       "      <th>UNIT</th>\n",
       "      <th>COLUMN</th>\n",
       "    </tr>\n",
       "  </thead>\n",
       "  <tbody>\n",
       "    <tr>\n",
       "      <th>0</th>\n",
       "      <td>HhTotDailyOthParkingCost</td>\n",
       "      <td>HhTotDailyOthParkingCost</td>\n",
       "      <td>Total daily non-work parking expenditures by h...</td>\n",
       "      <td>Total daily non-work parking expenditures by h...</td>\n",
       "      <td>Average</td>\n",
       "      <td>USD per day</td>\n",
       "      <td>HhTotDailyOthParkingCost</td>\n",
       "    </tr>\n",
       "    <tr>\n",
       "      <th>1</th>\n",
       "      <td>HhTotDailyWkrParkingCost</td>\n",
       "      <td>HhTotDailyWkrParkingCost</td>\n",
       "      <td>Total daily work parking expenditures by house...</td>\n",
       "      <td>Total daily work parking expenditures by house...</td>\n",
       "      <td>Average</td>\n",
       "      <td>USD per day</td>\n",
       "      <td>HhTotDailyWkrParkingCost</td>\n",
       "    </tr>\n",
       "    <tr>\n",
       "      <th>2</th>\n",
       "      <td>HhVehTravCostShare</td>\n",
       "      <td>HhVehTravCostShare</td>\n",
       "      <td>Household vehicle Own &amp; out-of-pocket costs sh...</td>\n",
       "      <td>Household vehicle Own &amp; out-of-pocket costs sh...</td>\n",
       "      <td>Average</td>\n",
       "      <td>Proportion</td>\n",
       "      <td>HhVehTravCostShare</td>\n",
       "    </tr>\n",
       "    <tr>\n",
       "      <th>3</th>\n",
       "      <td>HhVehTravCostShareLowInc</td>\n",
       "      <td>HhVehTravCostShareLowInc</td>\n",
       "      <td>Low income (0to20K 2010$) household vehicle Ow...</td>\n",
       "      <td>Low income (0to20K 2010$) household vehicle Ow...</td>\n",
       "      <td>Average</td>\n",
       "      <td>Proportion</td>\n",
       "      <td>HhVehTravCostShareLowInc</td>\n",
       "    </tr>\n",
       "    <tr>\n",
       "      <th>4</th>\n",
       "      <td>MareaCarSvcAutoDvmtProp</td>\n",
       "      <td>MareaCarSvcAutoDvmtProp</td>\n",
       "      <td>Average proportion car service vehicle DVMT in...</td>\n",
       "      <td>Average proportion car service vehicle DVMT in...</td>\n",
       "      <td>Average</td>\n",
       "      <td>Proportion</td>\n",
       "      <td>MareaCarSvcAutoDvmtProp</td>\n",
       "    </tr>\n",
       "  </tbody>\n",
       "</table>\n",
       "</div>"
      ],
      "text/plain": [
       "                       NAME                     LABEL  \\\n",
       "0  HhTotDailyOthParkingCost  HhTotDailyOthParkingCost   \n",
       "1  HhTotDailyWkrParkingCost  HhTotDailyWkrParkingCost   \n",
       "2        HhVehTravCostShare        HhVehTravCostShare   \n",
       "3  HhVehTravCostShareLowInc  HhVehTravCostShareLowInc   \n",
       "4   MareaCarSvcAutoDvmtProp   MareaCarSvcAutoDvmtProp   \n",
       "\n",
       "                                         DESCRIPTION  \\\n",
       "0  Total daily non-work parking expenditures by h...   \n",
       "1  Total daily work parking expenditures by house...   \n",
       "2  Household vehicle Own & out-of-pocket costs sh...   \n",
       "3  Low income (0to20K 2010$) household vehicle Ow...   \n",
       "4  Average proportion car service vehicle DVMT in...   \n",
       "\n",
       "                                        INSTRUCTIONS   METRIC         UNIT  \\\n",
       "0  Total daily non-work parking expenditures by h...  Average  USD per day   \n",
       "1  Total daily work parking expenditures by house...  Average  USD per day   \n",
       "2  Household vehicle Own & out-of-pocket costs sh...  Average   Proportion   \n",
       "3  Low income (0to20K 2010$) household vehicle Ow...  Average   Proportion   \n",
       "4  Average proportion car service vehicle DVMT in...  Average   Proportion   \n",
       "\n",
       "                     COLUMN  \n",
       "0  HhTotDailyOthParkingCost  \n",
       "1  HhTotDailyWkrParkingCost  \n",
       "2        HhVehTravCostShare  \n",
       "3  HhVehTravCostShareLowInc  \n",
       "4   MareaCarSvcAutoDvmtProp  "
      ]
     },
     "execution_count": 101,
     "metadata": {},
     "output_type": "execute_result"
    }
   ],
   "source": [
    "meas_notes.head()"
   ]
  },
  {
   "cell_type": "code",
   "execution_count": 102,
   "metadata": {},
   "outputs": [],
   "source": [
    "meas_notes_subset = meas_notes.loc[meas_notes['NAME'].isin(co2_vals)]"
   ]
  },
  {
   "cell_type": "code",
   "execution_count": 103,
   "metadata": {},
   "outputs": [],
   "source": [
    "output2 = rows_to_dicts(meas_notes_subset,data_info='measure')"
   ]
  },
  {
   "cell_type": "code",
   "execution_count": 104,
   "metadata": {},
   "outputs": [],
   "source": [
    "with open(f'{inpath}/VEScenarioViewer/test_out2.json', 'w') as f:\n",
    "    json.dump(output2, f)"
   ]
  },
  {
   "cell_type": "code",
   "execution_count": 105,
   "metadata": {},
   "outputs": [],
   "source": [
    "# organize category and levels\n",
    "cat_levels = pd.read_csv(f'{inpath}/sensitivity_tests/sensitivity_scenarios.csv')"
   ]
  },
  {
   "cell_type": "code",
   "execution_count": 106,
   "metadata": {},
   "outputs": [
    {
     "data": {
      "text/html": [
       "<div>\n",
       "<style scoped>\n",
       "    .dataframe tbody tr th:only-of-type {\n",
       "        vertical-align: middle;\n",
       "    }\n",
       "\n",
       "    .dataframe tbody tr th {\n",
       "        vertical-align: top;\n",
       "    }\n",
       "\n",
       "    .dataframe thead th {\n",
       "        text-align: right;\n",
       "    }\n",
       "</style>\n",
       "<table border=\"1\" class=\"dataframe\">\n",
       "  <thead>\n",
       "    <tr style=\"text-align: right;\">\n",
       "      <th></th>\n",
       "      <th>strategy_label</th>\n",
       "      <th>strategy_description</th>\n",
       "      <th>strategy_name</th>\n",
       "      <th>category_name</th>\n",
       "      <th>category_label</th>\n",
       "      <th>category_description</th>\n",
       "      <th>category_instructions</th>\n",
       "      <th>file</th>\n",
       "      <th>geo</th>\n",
       "      <th>policy_name</th>\n",
       "      <th>policy_label</th>\n",
       "      <th>policy_description</th>\n",
       "    </tr>\n",
       "  </thead>\n",
       "  <tbody>\n",
       "    <tr>\n",
       "      <th>0</th>\n",
       "      <td>Community Design</td>\n",
       "      <td>Local policies to enable shorter trips and tra...</td>\n",
       "      <td>C</td>\n",
       "      <td>B</td>\n",
       "      <td>Bicycles</td>\n",
       "      <td>Network improvements, incentives, and technolo...</td>\n",
       "      <td>The diversion of single-occupant vehicle trave...</td>\n",
       "      <td>azone_prop_sov_dvmt_diverted.csv</td>\n",
       "      <td>azone</td>\n",
       "      <td>1</td>\n",
       "      <td>Base</td>\n",
       "      <td>Baseline bicyling percentage of SOV tours less...</td>\n",
       "    </tr>\n",
       "    <tr>\n",
       "      <th>1</th>\n",
       "      <td>Community Design</td>\n",
       "      <td>Local policies to enable shorter trips and tra...</td>\n",
       "      <td>C</td>\n",
       "      <td>B</td>\n",
       "      <td>Bicycles</td>\n",
       "      <td>Network improvements, incentives, and technolo...</td>\n",
       "      <td>The diversion of single-occupant vehicle trave...</td>\n",
       "      <td>azone_prop_sov_dvmt_diverted.csv</td>\n",
       "      <td>azone</td>\n",
       "      <td>2</td>\n",
       "      <td>Increased</td>\n",
       "      <td>Increased bicyling percentage of SOV tours les...</td>\n",
       "    </tr>\n",
       "    <tr>\n",
       "      <th>2</th>\n",
       "      <td>Pricing</td>\n",
       "      <td>State-led policies that move towards true cost...</td>\n",
       "      <td>P</td>\n",
       "      <td>C</td>\n",
       "      <td>Vehicle Travel Cost</td>\n",
       "      <td>Combination of fuel prices and charges to pay ...</td>\n",
       "      <td>The combination of fuel prices and vehicle tra...</td>\n",
       "      <td>azone_hh_veh_own_taxes.csv</td>\n",
       "      <td>azone</td>\n",
       "      <td>1</td>\n",
       "      <td>Base</td>\n",
       "      <td>Baseline annual flat rate tax per vehicle in d...</td>\n",
       "    </tr>\n",
       "    <tr>\n",
       "      <th>3</th>\n",
       "      <td>Pricing</td>\n",
       "      <td>State-led policies that move towards true cost...</td>\n",
       "      <td>P</td>\n",
       "      <td>C</td>\n",
       "      <td>Vehicle Travel Cost</td>\n",
       "      <td>Combination of fuel prices and charges to pay ...</td>\n",
       "      <td>The combination of fuel prices and vehicle tra...</td>\n",
       "      <td>azone_hh_veh_own_taxes.csv</td>\n",
       "      <td>azone</td>\n",
       "      <td>2</td>\n",
       "      <td>Increased</td>\n",
       "      <td>Increased annual flat rate tax per vehicle in ...</td>\n",
       "    </tr>\n",
       "    <tr>\n",
       "      <th>4</th>\n",
       "      <td>Pricing</td>\n",
       "      <td>State-led policies that move towards true cost...</td>\n",
       "      <td>P</td>\n",
       "      <td>C</td>\n",
       "      <td>Vehicle Travel Cost</td>\n",
       "      <td>Combination of fuel prices and charges to pay ...</td>\n",
       "      <td>The combination of fuel prices and vehicle tra...</td>\n",
       "      <td>azone_hh_veh_own_taxes.csv</td>\n",
       "      <td>azone</td>\n",
       "      <td>3</td>\n",
       "      <td>100%</td>\n",
       "      <td>More increase in annual flat rate tax per vehi...</td>\n",
       "    </tr>\n",
       "  </tbody>\n",
       "</table>\n",
       "</div>"
      ],
      "text/plain": [
       "     strategy_label                               strategy_description  \\\n",
       "0  Community Design  Local policies to enable shorter trips and tra...   \n",
       "1  Community Design  Local policies to enable shorter trips and tra...   \n",
       "2           Pricing  State-led policies that move towards true cost...   \n",
       "3           Pricing  State-led policies that move towards true cost...   \n",
       "4           Pricing  State-led policies that move towards true cost...   \n",
       "\n",
       "  strategy_name category_name       category_label  \\\n",
       "0             C             B             Bicycles   \n",
       "1             C             B             Bicycles   \n",
       "2             P             C  Vehicle Travel Cost   \n",
       "3             P             C  Vehicle Travel Cost   \n",
       "4             P             C  Vehicle Travel Cost   \n",
       "\n",
       "                                category_description  \\\n",
       "0  Network improvements, incentives, and technolo...   \n",
       "1  Network improvements, incentives, and technolo...   \n",
       "2  Combination of fuel prices and charges to pay ...   \n",
       "3  Combination of fuel prices and charges to pay ...   \n",
       "4  Combination of fuel prices and charges to pay ...   \n",
       "\n",
       "                               category_instructions  \\\n",
       "0  The diversion of single-occupant vehicle trave...   \n",
       "1  The diversion of single-occupant vehicle trave...   \n",
       "2  The combination of fuel prices and vehicle tra...   \n",
       "3  The combination of fuel prices and vehicle tra...   \n",
       "4  The combination of fuel prices and vehicle tra...   \n",
       "\n",
       "                               file    geo  policy_name policy_label  \\\n",
       "0  azone_prop_sov_dvmt_diverted.csv  azone            1         Base   \n",
       "1  azone_prop_sov_dvmt_diverted.csv  azone            2    Increased   \n",
       "2        azone_hh_veh_own_taxes.csv  azone            1         Base   \n",
       "3        azone_hh_veh_own_taxes.csv  azone            2    Increased   \n",
       "4        azone_hh_veh_own_taxes.csv  azone            3         100%   \n",
       "\n",
       "                                  policy_description  \n",
       "0  Baseline bicyling percentage of SOV tours less...  \n",
       "1  Increased bicyling percentage of SOV tours les...  \n",
       "2  Baseline annual flat rate tax per vehicle in d...  \n",
       "3  Increased annual flat rate tax per vehicle in ...  \n",
       "4  More increase in annual flat rate tax per vehi...  "
      ]
     },
     "execution_count": 106,
     "metadata": {},
     "output_type": "execute_result"
    }
   ],
   "source": [
    "cat_levels.head()"
   ]
  },
  {
   "cell_type": "code",
   "execution_count": 107,
   "metadata": {},
   "outputs": [
    {
     "data": {
      "text/plain": [
       "['strategy_label',\n",
       " 'strategy_description',\n",
       " 'strategy_name',\n",
       " 'category_name',\n",
       " 'category_label',\n",
       " 'category_description',\n",
       " 'category_instructions',\n",
       " 'file',\n",
       " 'geo',\n",
       " 'policy_name',\n",
       " 'policy_label',\n",
       " 'policy_description']"
      ]
     },
     "execution_count": 107,
     "metadata": {},
     "output_type": "execute_result"
    }
   ],
   "source": [
    "list(cat_levels.columns)"
   ]
  },
  {
   "cell_type": "code",
   "execution_count": 108,
   "metadata": {},
   "outputs": [],
   "source": [
    "# NAME, LABEL, DESCRIPTION, INSTRUCTIONS, LEVELS (NAME, LABEL, DESCRIPTION)\n",
    "levels = cat_levels[['policy_name', 'policy_label', 'policy_description']]"
   ]
  },
  {
   "cell_type": "code",
   "execution_count": 109,
   "metadata": {},
   "outputs": [],
   "source": [
    "levels = levels.rename(columns={'policy_name': 'NAME', 'policy_label': 'LABEL', 'policy_description':'DESCRIPTION'})"
   ]
  },
  {
   "cell_type": "code",
   "execution_count": 110,
   "metadata": {},
   "outputs": [
    {
     "data": {
      "text/html": [
       "<div>\n",
       "<style scoped>\n",
       "    .dataframe tbody tr th:only-of-type {\n",
       "        vertical-align: middle;\n",
       "    }\n",
       "\n",
       "    .dataframe tbody tr th {\n",
       "        vertical-align: top;\n",
       "    }\n",
       "\n",
       "    .dataframe thead th {\n",
       "        text-align: right;\n",
       "    }\n",
       "</style>\n",
       "<table border=\"1\" class=\"dataframe\">\n",
       "  <thead>\n",
       "    <tr style=\"text-align: right;\">\n",
       "      <th></th>\n",
       "      <th>NAME</th>\n",
       "      <th>LABEL</th>\n",
       "      <th>DESCRIPTION</th>\n",
       "    </tr>\n",
       "  </thead>\n",
       "  <tbody>\n",
       "    <tr>\n",
       "      <th>0</th>\n",
       "      <td>1</td>\n",
       "      <td>Base</td>\n",
       "      <td>Baseline bicyling percentage of SOV tours less...</td>\n",
       "    </tr>\n",
       "    <tr>\n",
       "      <th>1</th>\n",
       "      <td>2</td>\n",
       "      <td>Increased</td>\n",
       "      <td>Increased bicyling percentage of SOV tours les...</td>\n",
       "    </tr>\n",
       "    <tr>\n",
       "      <th>2</th>\n",
       "      <td>1</td>\n",
       "      <td>Base</td>\n",
       "      <td>Baseline annual flat rate tax per vehicle in d...</td>\n",
       "    </tr>\n",
       "    <tr>\n",
       "      <th>3</th>\n",
       "      <td>2</td>\n",
       "      <td>Increased</td>\n",
       "      <td>Increased annual flat rate tax per vehicle in ...</td>\n",
       "    </tr>\n",
       "    <tr>\n",
       "      <th>4</th>\n",
       "      <td>3</td>\n",
       "      <td>100%</td>\n",
       "      <td>More increase in annual flat rate tax per vehi...</td>\n",
       "    </tr>\n",
       "  </tbody>\n",
       "</table>\n",
       "</div>"
      ],
      "text/plain": [
       "   NAME      LABEL                                        DESCRIPTION\n",
       "0     1       Base  Baseline bicyling percentage of SOV tours less...\n",
       "1     2  Increased  Increased bicyling percentage of SOV tours les...\n",
       "2     1       Base  Baseline annual flat rate tax per vehicle in d...\n",
       "3     2  Increased  Increased annual flat rate tax per vehicle in ...\n",
       "4     3       100%  More increase in annual flat rate tax per vehi..."
      ]
     },
     "execution_count": 110,
     "metadata": {},
     "output_type": "execute_result"
    }
   ],
   "source": [
    "levels.head()"
   ]
  },
  {
   "cell_type": "code",
   "execution_count": 111,
   "metadata": {},
   "outputs": [
    {
     "data": {
      "text/plain": [
       "{'NAME': [1],\n",
       " 'LABEL': ['Base'],\n",
       " 'DESCRIPTION': ['Baseline bicyling percentage of SOV tours less than 20 miles (19%)']}"
      ]
     },
     "execution_count": 111,
     "metadata": {},
     "output_type": "execute_result"
    }
   ],
   "source": [
    "level_output = rows_to_dicts(levels, data_info='scenario')\n",
    "level_output[0]"
   ]
  },
  {
   "cell_type": "code",
   "execution_count": 112,
   "metadata": {},
   "outputs": [],
   "source": [
    "categories = cat_levels[['category_name','category_label','category_description','category_instructions']]\n",
    "categories = categories.rename(columns={'category_name': 'NAME', \n",
    "                                        'category_label': 'LABEL', \n",
    "                                        'category_description':'DESCRIPTION',\n",
    "                                        'category_instructions': 'INSTRUCTIONS'})"
   ]
  },
  {
   "cell_type": "code",
   "execution_count": 113,
   "metadata": {},
   "outputs": [
    {
     "data": {
      "text/plain": [
       "{'NAME': ['B'],\n",
       " 'LABEL': ['Bicycles'],\n",
       " 'DESCRIPTION': ['Network improvements, incentives, and technologies that encourage bicycling and other light-weight vehicle travel'],\n",
       " 'INSTRUCTIONS': ['The diversion of single-occupant vehicle travel to bicycles, electric bicycles and other light-weight vehicles']}"
      ]
     },
     "execution_count": 113,
     "metadata": {},
     "output_type": "execute_result"
    }
   ],
   "source": [
    "category_output = rows_to_dicts(categories, data_info='scenario')\n",
    "category_output[0]"
   ]
  },
  {
   "cell_type": "code",
   "execution_count": 9,
   "metadata": {},
   "outputs": [],
   "source": [
    "def list_levels_in_cat(cat, cat_levels_df):\n",
    "    df = cat_levels_df.loc[cat_levels_df['category_name'] == cat]\n",
    "    df = df[['policy_name', 'policy_label', 'policy_description']]\n",
    "    df = df.rename(columns={'policy_name': 'NAME',\n",
    "                            'policy_label': 'LABEL',\n",
    "                            'policy_description':'DESCRIPTION'})\n",
    "    out = rows_to_dicts(df, data_info='scenario')\n",
    "    return out"
   ]
  },
  {
   "cell_type": "code",
   "execution_count": 10,
   "metadata": {},
   "outputs": [],
   "source": [
    "def list_cateory_info(cat, cat_levels_df):\n",
    "    df = cat_levels_df.loc[cat_levels_df['category_name'] == cat]\n",
    "    df = df[['category_name','category_label','category_description','category_instructions']].drop_duplicates()\n",
    "    df = df.rename(columns={'category_name': 'NAME', \n",
    "                            'category_label': 'LABEL', \n",
    "                            'category_description':'DESCRIPTION',\n",
    "                            'category_instructions': 'INSTRUCTIONS'})\n",
    "    out = rows_to_dicts(df, data_info='scenario')\n",
    "    return out    "
   ]
  },
  {
   "cell_type": "code",
   "execution_count": 114,
   "metadata": {},
   "outputs": [],
   "source": [
    "cat_levels.policy_name = cat_levels.policy_name.astype(str)"
   ]
  },
  {
   "cell_type": "code",
   "execution_count": 115,
   "metadata": {
    "scrolled": true
   },
   "outputs": [
    {
     "data": {
      "text/plain": [
       "[{'NAME': ['1'],\n",
       "  'LABEL': ['Base'],\n",
       "  'DESCRIPTION': ['Baseline bicyling percentage of SOV tours less than 20 miles (19%)']},\n",
       " {'NAME': ['2'],\n",
       "  'LABEL': ['Increased'],\n",
       "  'DESCRIPTION': ['Increased bicyling percentage of SOV tours less than 20 miles']}]"
      ]
     },
     "execution_count": 115,
     "metadata": {},
     "output_type": "execute_result"
    }
   ],
   "source": [
    "list_levels_in_cat('B', cat_levels)"
   ]
  },
  {
   "cell_type": "code",
   "execution_count": 116,
   "metadata": {},
   "outputs": [
    {
     "data": {
      "text/html": [
       "<div>\n",
       "<style scoped>\n",
       "    .dataframe tbody tr th:only-of-type {\n",
       "        vertical-align: middle;\n",
       "    }\n",
       "\n",
       "    .dataframe tbody tr th {\n",
       "        vertical-align: top;\n",
       "    }\n",
       "\n",
       "    .dataframe thead th {\n",
       "        text-align: right;\n",
       "    }\n",
       "</style>\n",
       "<table border=\"1\" class=\"dataframe\">\n",
       "  <thead>\n",
       "    <tr style=\"text-align: right;\">\n",
       "      <th></th>\n",
       "      <th>category_name</th>\n",
       "      <th>category_label</th>\n",
       "      <th>category_description</th>\n",
       "      <th>category_instructions</th>\n",
       "    </tr>\n",
       "  </thead>\n",
       "  <tbody>\n",
       "    <tr>\n",
       "      <th>0</th>\n",
       "      <td>B</td>\n",
       "      <td>Bicycles</td>\n",
       "      <td>Network improvements, incentives, and technolo...</td>\n",
       "      <td>The diversion of single-occupant vehicle trave...</td>\n",
       "    </tr>\n",
       "    <tr>\n",
       "      <th>2</th>\n",
       "      <td>C</td>\n",
       "      <td>Vehicle Travel Cost</td>\n",
       "      <td>Combination of fuel prices and charges to pay ...</td>\n",
       "      <td>The combination of fuel prices and vehicle tra...</td>\n",
       "    </tr>\n",
       "    <tr>\n",
       "      <th>5</th>\n",
       "      <td>D</td>\n",
       "      <td>Demand Management</td>\n",
       "      <td>Programs to encourage less private vehicle travel</td>\n",
       "      <td>Programs and incentives which encourage people...</td>\n",
       "    </tr>\n",
       "    <tr>\n",
       "      <th>7</th>\n",
       "      <td>E</td>\n",
       "      <td>Driving Efficiency</td>\n",
       "      <td>Driving efficiency by increasing implementatio...</td>\n",
       "      <td>DVMT affected by operations for different road...</td>\n",
       "    </tr>\n",
       "    <tr>\n",
       "      <th>9</th>\n",
       "      <td>F</td>\n",
       "      <td>Technology Mix and CI</td>\n",
       "      <td>Vehicle technology mix and carbon intensity of...</td>\n",
       "      <td>Transit powertrain proportions by transit vehi...</td>\n",
       "    </tr>\n",
       "  </tbody>\n",
       "</table>\n",
       "</div>"
      ],
      "text/plain": [
       "  category_name         category_label  \\\n",
       "0             B               Bicycles   \n",
       "2             C    Vehicle Travel Cost   \n",
       "5             D      Demand Management   \n",
       "7             E     Driving Efficiency   \n",
       "9             F  Technology Mix and CI   \n",
       "\n",
       "                                category_description  \\\n",
       "0  Network improvements, incentives, and technolo...   \n",
       "2  Combination of fuel prices and charges to pay ...   \n",
       "5  Programs to encourage less private vehicle travel   \n",
       "7  Driving efficiency by increasing implementatio...   \n",
       "9  Vehicle technology mix and carbon intensity of...   \n",
       "\n",
       "                               category_instructions  \n",
       "0  The diversion of single-occupant vehicle trave...  \n",
       "2  The combination of fuel prices and vehicle tra...  \n",
       "5  Programs and incentives which encourage people...  \n",
       "7  DVMT affected by operations for different road...  \n",
       "9  Transit powertrain proportions by transit vehi...  "
      ]
     },
     "execution_count": 116,
     "metadata": {},
     "output_type": "execute_result"
    }
   ],
   "source": [
    "cat_levels[['category_name','category_label','category_description','category_instructions']].drop_duplicates().head()"
   ]
  },
  {
   "cell_type": "code",
   "execution_count": 117,
   "metadata": {},
   "outputs": [
    {
     "data": {
      "text/plain": [
       "[{'NAME': ['B'],\n",
       "  'LABEL': ['Bicycles'],\n",
       "  'DESCRIPTION': ['Network improvements, incentives, and technologies that encourage bicycling and other light-weight vehicle travel'],\n",
       "  'INSTRUCTIONS': ['The diversion of single-occupant vehicle travel to bicycles, electric bicycles and other light-weight vehicles']}]"
      ]
     },
     "execution_count": 117,
     "metadata": {},
     "output_type": "execute_result"
    }
   ],
   "source": [
    "list_cateory_info('B', cat_levels)"
   ]
  },
  {
   "cell_type": "code",
   "execution_count": 11,
   "metadata": {},
   "outputs": [],
   "source": [
    "def add_nested_dicts(cat_dict, level_list):\n",
    "    cat_dict['LEVELS'] = level_list\n",
    "    return cat_dict"
   ]
  },
  {
   "cell_type": "code",
   "execution_count": 12,
   "metadata": {},
   "outputs": [],
   "source": [
    "def collect_scenario_info(cat_levels_df):\n",
    "    out = []\n",
    "    for cat in list(cat_levels_df.category_name.unique()):\n",
    "        list1 = list_cateory_info(cat, cat_levels_df)\n",
    "        list2 = list_levels_in_cat(cat, cat_levels_df)\n",
    "        out.append(add_nested_dicts(list1[0], list2))\n",
    "    return out"
   ]
  },
  {
   "cell_type": "code",
   "execution_count": 118,
   "metadata": {
    "scrolled": false
   },
   "outputs": [
    {
     "data": {
      "text/plain": [
       "{'NAME': ['B'],\n",
       " 'LABEL': ['Bicycles'],\n",
       " 'DESCRIPTION': ['Network improvements, incentives, and technologies that encourage bicycling and other light-weight vehicle travel'],\n",
       " 'INSTRUCTIONS': ['The diversion of single-occupant vehicle travel to bicycles, electric bicycles and other light-weight vehicles'],\n",
       " 'LEVELS': [{'NAME': ['1'],\n",
       "   'LABEL': ['Base'],\n",
       "   'DESCRIPTION': ['Baseline bicyling percentage of SOV tours less than 20 miles (19%)']},\n",
       "  {'NAME': ['2'],\n",
       "   'LABEL': ['Increased'],\n",
       "   'DESCRIPTION': ['Increased bicyling percentage of SOV tours less than 20 miles']}]}"
      ]
     },
     "execution_count": 118,
     "metadata": {},
     "output_type": "execute_result"
    }
   ],
   "source": [
    "collect_scenario_info(cat_levels)[0]"
   ]
  },
  {
   "cell_type": "code",
   "execution_count": 119,
   "metadata": {},
   "outputs": [],
   "source": [
    "output3 = collect_scenario_info(cat_levels)"
   ]
  },
  {
   "cell_type": "code",
   "execution_count": 120,
   "metadata": {},
   "outputs": [],
   "source": [
    "with open(f'{inpath}/VEScenarioViewer/test_out3.json', 'w') as f:\n",
    "    json.dump(output3, f)"
   ]
  },
  {
   "cell_type": "code",
   "execution_count": 121,
   "metadata": {
    "scrolled": true
   },
   "outputs": [],
   "source": [
    "# organize average values for output measures\n",
    "scen_fields = set(list(meas.columns)).intersection(set(list(scen.loc[:,'Scenario'])))"
   ]
  },
  {
   "cell_type": "code",
   "execution_count": 122,
   "metadata": {},
   "outputs": [],
   "source": [
    "meas['Avg'] = meas.loc[:, scen_fields].mean(axis=1)"
   ]
  },
  {
   "cell_type": "code",
   "execution_count": 123,
   "metadata": {},
   "outputs": [],
   "source": [
    "meas_s = meas.loc[meas.Measure.isin(co2_vals),:][['Measure', 'Avg']]"
   ]
  },
  {
   "cell_type": "code",
   "execution_count": 124,
   "metadata": {},
   "outputs": [
    {
     "data": {
      "text/html": [
       "<div>\n",
       "<style scoped>\n",
       "    .dataframe tbody tr th:only-of-type {\n",
       "        vertical-align: middle;\n",
       "    }\n",
       "\n",
       "    .dataframe tbody tr th {\n",
       "        vertical-align: top;\n",
       "    }\n",
       "\n",
       "    .dataframe thead th {\n",
       "        text-align: right;\n",
       "    }\n",
       "</style>\n",
       "<table border=\"1\" class=\"dataframe\">\n",
       "  <thead>\n",
       "    <tr style=\"text-align: right;\">\n",
       "      <th></th>\n",
       "      <th>Measure</th>\n",
       "      <th>Avg</th>\n",
       "    </tr>\n",
       "  </thead>\n",
       "  <tbody>\n",
       "    <tr>\n",
       "      <th>18</th>\n",
       "      <td>UrbanBusCO2e</td>\n",
       "      <td>6587.900735</td>\n",
       "    </tr>\n",
       "    <tr>\n",
       "      <th>19</th>\n",
       "      <td>UrbanBusCO2eRate</td>\n",
       "      <td>1209.567941</td>\n",
       "    </tr>\n",
       "    <tr>\n",
       "      <th>22</th>\n",
       "      <td>UrbanComSvcCO2e</td>\n",
       "      <td>33717.488697</td>\n",
       "    </tr>\n",
       "    <tr>\n",
       "      <th>26</th>\n",
       "      <td>UrbanHhCO2e</td>\n",
       "      <td>450090.370473</td>\n",
       "    </tr>\n",
       "    <tr>\n",
       "      <th>64</th>\n",
       "      <td>UrbanHvyTrkAveCO2eRate</td>\n",
       "      <td>855.535056</td>\n",
       "    </tr>\n",
       "  </tbody>\n",
       "</table>\n",
       "</div>"
      ],
      "text/plain": [
       "                   Measure            Avg\n",
       "18            UrbanBusCO2e    6587.900735\n",
       "19        UrbanBusCO2eRate    1209.567941\n",
       "22         UrbanComSvcCO2e   33717.488697\n",
       "26             UrbanHhCO2e  450090.370473\n",
       "64  UrbanHvyTrkAveCO2eRate     855.535056"
      ]
     },
     "execution_count": 124,
     "metadata": {},
     "output_type": "execute_result"
    }
   ],
   "source": [
    "meas_s.head()"
   ]
  },
  {
   "cell_type": "code",
   "execution_count": 125,
   "metadata": {},
   "outputs": [],
   "source": [
    "output4 = {m: a for m, a in zip(meas_s.Measure, meas_s.Avg)}"
   ]
  },
  {
   "cell_type": "code",
   "execution_count": 126,
   "metadata": {},
   "outputs": [],
   "source": [
    "with open(f'{inpath}/VEScenarioViewer/test_out4.json', 'w') as f:\n",
    "    json.dump(output4, f)"
   ]
  },
  {
   "cell_type": "code",
   "execution_count": 127,
   "metadata": {},
   "outputs": [
    {
     "data": {
      "text/plain": [
       "{'UrbanBusCO2e': 6587.90073456048,\n",
       " 'UrbanBusCO2eRate': 1209.5679405526598,\n",
       " 'UrbanComSvcCO2e': 33717.48869714824,\n",
       " 'UrbanHhCO2e': 450090.3704727252,\n",
       " 'UrbanHvyTrkAveCO2eRate': 855.5350560563704,\n",
       " 'UrbanHvyTrkCO2e': 633961.6820647881,\n",
       " 'UrbanLdvCO2e': 491039.9979327059,\n",
       " 'UrbanLdvCO2eRate': 0.0001599501670022726,\n",
       " 'UrbanRailCO2e': 0.0,\n",
       " 'UrbanVanCO2e': 7232.138762832709}"
      ]
     },
     "execution_count": 127,
     "metadata": {},
     "output_type": "execute_result"
    }
   ],
   "source": [
    "output4"
   ]
  },
  {
   "cell_type": "code",
   "execution_count": null,
   "metadata": {},
   "outputs": [],
   "source": []
  }
 ],
 "metadata": {
  "kernelspec": {
   "display_name": "Python 3",
   "language": "python",
   "name": "python3"
  },
  "language_info": {
   "codemirror_mode": {
    "name": "ipython",
    "version": 3
   },
   "file_extension": ".py",
   "mimetype": "text/x-python",
   "name": "python",
   "nbconvert_exporter": "python",
   "pygments_lexer": "ipython3",
   "version": "3.8.3"
  }
 },
 "nbformat": 4,
 "nbformat_minor": 4
}
