{
 "cells": [
  {
   "cell_type": "code",
   "execution_count": 1,
   "metadata": {},
   "outputs": [],
   "source": [
    "import json\n",
    "import pandas as pd"
   ]
  },
  {
   "cell_type": "code",
   "execution_count": 2,
   "metadata": {},
   "outputs": [],
   "source": [
    "inpath = '/Users/dongmeichen/OneDrive - lanecouncilofgovernments/VE-RSPM'"
   ]
  },
  {
   "cell_type": "code",
   "execution_count": 241,
   "metadata": {},
   "outputs": [],
   "source": [
    "scen = pd.read_csv(f'{inpath}/sensitivity_tests/selected_scenario_list.csv')"
   ]
  },
  {
   "cell_type": "code",
   "execution_count": 145,
   "metadata": {},
   "outputs": [
    {
     "data": {
      "text/html": [
       "<div>\n",
       "<style scoped>\n",
       "    .dataframe tbody tr th:only-of-type {\n",
       "        vertical-align: middle;\n",
       "    }\n",
       "\n",
       "    .dataframe tbody tr th {\n",
       "        vertical-align: top;\n",
       "    }\n",
       "\n",
       "    .dataframe thead th {\n",
       "        text-align: right;\n",
       "    }\n",
       "</style>\n",
       "<table border=\"1\" class=\"dataframe\">\n",
       "  <thead>\n",
       "    <tr style=\"text-align: right;\">\n",
       "      <th></th>\n",
       "      <th>B</th>\n",
       "      <th>C</th>\n",
       "      <th>D</th>\n",
       "      <th>E</th>\n",
       "      <th>F</th>\n",
       "      <th>G</th>\n",
       "      <th>I</th>\n",
       "      <th>P</th>\n",
       "      <th>T</th>\n",
       "      <th>V</th>\n",
       "      <th>S</th>\n",
       "    </tr>\n",
       "  </thead>\n",
       "  <tbody>\n",
       "    <tr>\n",
       "      <th>0</th>\n",
       "      <td>1</td>\n",
       "      <td>1</td>\n",
       "      <td>1</td>\n",
       "      <td>1</td>\n",
       "      <td>1</td>\n",
       "      <td>1</td>\n",
       "      <td>1</td>\n",
       "      <td>1</td>\n",
       "      <td>1</td>\n",
       "      <td>1</td>\n",
       "      <td>B1C1D1E1F1G1I1P1T1V1</td>\n",
       "    </tr>\n",
       "    <tr>\n",
       "      <th>1</th>\n",
       "      <td>2</td>\n",
       "      <td>1</td>\n",
       "      <td>1</td>\n",
       "      <td>1</td>\n",
       "      <td>1</td>\n",
       "      <td>1</td>\n",
       "      <td>1</td>\n",
       "      <td>1</td>\n",
       "      <td>1</td>\n",
       "      <td>1</td>\n",
       "      <td>B2C1D1E1F1G1I1P1T1V1</td>\n",
       "    </tr>\n",
       "    <tr>\n",
       "      <th>2</th>\n",
       "      <td>1</td>\n",
       "      <td>2</td>\n",
       "      <td>1</td>\n",
       "      <td>1</td>\n",
       "      <td>1</td>\n",
       "      <td>1</td>\n",
       "      <td>1</td>\n",
       "      <td>1</td>\n",
       "      <td>1</td>\n",
       "      <td>1</td>\n",
       "      <td>B1C2D1E1F1G1I1P1T1V1</td>\n",
       "    </tr>\n",
       "    <tr>\n",
       "      <th>3</th>\n",
       "      <td>2</td>\n",
       "      <td>2</td>\n",
       "      <td>1</td>\n",
       "      <td>1</td>\n",
       "      <td>1</td>\n",
       "      <td>1</td>\n",
       "      <td>1</td>\n",
       "      <td>1</td>\n",
       "      <td>1</td>\n",
       "      <td>1</td>\n",
       "      <td>B2C2D1E1F1G1I1P1T1V1</td>\n",
       "    </tr>\n",
       "    <tr>\n",
       "      <th>4</th>\n",
       "      <td>1</td>\n",
       "      <td>3</td>\n",
       "      <td>1</td>\n",
       "      <td>1</td>\n",
       "      <td>1</td>\n",
       "      <td>1</td>\n",
       "      <td>1</td>\n",
       "      <td>1</td>\n",
       "      <td>1</td>\n",
       "      <td>1</td>\n",
       "      <td>B1C3D1E1F1G1I1P1T1V1</td>\n",
       "    </tr>\n",
       "  </tbody>\n",
       "</table>\n",
       "</div>"
      ],
      "text/plain": [
       "   B  C  D  E  F  G  I  P  T  V                     S\n",
       "0  1  1  1  1  1  1  1  1  1  1  B1C1D1E1F1G1I1P1T1V1\n",
       "1  2  1  1  1  1  1  1  1  1  1  B2C1D1E1F1G1I1P1T1V1\n",
       "2  1  2  1  1  1  1  1  1  1  1  B1C2D1E1F1G1I1P1T1V1\n",
       "3  2  2  1  1  1  1  1  1  1  1  B2C2D1E1F1G1I1P1T1V1\n",
       "4  1  3  1  1  1  1  1  1  1  1  B1C3D1E1F1G1I1P1T1V1"
      ]
     },
     "execution_count": 145,
     "metadata": {},
     "output_type": "execute_result"
    }
   ],
   "source": [
    "scen.head()"
   ]
  },
  {
   "cell_type": "code",
   "execution_count": 242,
   "metadata": {},
   "outputs": [
    {
     "data": {
      "text/html": [
       "<div>\n",
       "<style scoped>\n",
       "    .dataframe tbody tr th:only-of-type {\n",
       "        vertical-align: middle;\n",
       "    }\n",
       "\n",
       "    .dataframe tbody tr th {\n",
       "        vertical-align: top;\n",
       "    }\n",
       "\n",
       "    .dataframe thead th {\n",
       "        text-align: right;\n",
       "    }\n",
       "</style>\n",
       "<table border=\"1\" class=\"dataframe\">\n",
       "  <thead>\n",
       "    <tr style=\"text-align: right;\">\n",
       "      <th></th>\n",
       "      <th>B</th>\n",
       "      <th>C</th>\n",
       "      <th>D</th>\n",
       "      <th>E</th>\n",
       "      <th>F</th>\n",
       "      <th>G</th>\n",
       "      <th>I</th>\n",
       "      <th>P</th>\n",
       "      <th>T</th>\n",
       "      <th>V</th>\n",
       "      <th>Scenario</th>\n",
       "    </tr>\n",
       "  </thead>\n",
       "  <tbody>\n",
       "    <tr>\n",
       "      <th>0</th>\n",
       "      <td>1</td>\n",
       "      <td>1</td>\n",
       "      <td>1</td>\n",
       "      <td>1</td>\n",
       "      <td>1</td>\n",
       "      <td>1</td>\n",
       "      <td>1</td>\n",
       "      <td>1</td>\n",
       "      <td>1</td>\n",
       "      <td>1</td>\n",
       "      <td>B1C1D1E1F1G1I1P1T1V1</td>\n",
       "    </tr>\n",
       "    <tr>\n",
       "      <th>1</th>\n",
       "      <td>2</td>\n",
       "      <td>1</td>\n",
       "      <td>1</td>\n",
       "      <td>1</td>\n",
       "      <td>1</td>\n",
       "      <td>1</td>\n",
       "      <td>1</td>\n",
       "      <td>1</td>\n",
       "      <td>1</td>\n",
       "      <td>1</td>\n",
       "      <td>B2C1D1E1F1G1I1P1T1V1</td>\n",
       "    </tr>\n",
       "    <tr>\n",
       "      <th>2</th>\n",
       "      <td>1</td>\n",
       "      <td>2</td>\n",
       "      <td>1</td>\n",
       "      <td>1</td>\n",
       "      <td>1</td>\n",
       "      <td>1</td>\n",
       "      <td>1</td>\n",
       "      <td>1</td>\n",
       "      <td>1</td>\n",
       "      <td>1</td>\n",
       "      <td>B1C2D1E1F1G1I1P1T1V1</td>\n",
       "    </tr>\n",
       "    <tr>\n",
       "      <th>3</th>\n",
       "      <td>2</td>\n",
       "      <td>2</td>\n",
       "      <td>1</td>\n",
       "      <td>1</td>\n",
       "      <td>1</td>\n",
       "      <td>1</td>\n",
       "      <td>1</td>\n",
       "      <td>1</td>\n",
       "      <td>1</td>\n",
       "      <td>1</td>\n",
       "      <td>B2C2D1E1F1G1I1P1T1V1</td>\n",
       "    </tr>\n",
       "    <tr>\n",
       "      <th>4</th>\n",
       "      <td>1</td>\n",
       "      <td>3</td>\n",
       "      <td>1</td>\n",
       "      <td>1</td>\n",
       "      <td>1</td>\n",
       "      <td>1</td>\n",
       "      <td>1</td>\n",
       "      <td>1</td>\n",
       "      <td>1</td>\n",
       "      <td>1</td>\n",
       "      <td>B1C3D1E1F1G1I1P1T1V1</td>\n",
       "    </tr>\n",
       "  </tbody>\n",
       "</table>\n",
       "</div>"
      ],
      "text/plain": [
       "   B  C  D  E  F  G  I  P  T  V              Scenario\n",
       "0  1  1  1  1  1  1  1  1  1  1  B1C1D1E1F1G1I1P1T1V1\n",
       "1  2  1  1  1  1  1  1  1  1  1  B2C1D1E1F1G1I1P1T1V1\n",
       "2  1  2  1  1  1  1  1  1  1  1  B1C2D1E1F1G1I1P1T1V1\n",
       "3  2  2  1  1  1  1  1  1  1  1  B2C2D1E1F1G1I1P1T1V1\n",
       "4  1  3  1  1  1  1  1  1  1  1  B1C3D1E1F1G1I1P1T1V1"
      ]
     },
     "execution_count": 242,
     "metadata": {},
     "output_type": "execute_result"
    }
   ],
   "source": [
    "scen = scen.rename(columns={'S': 'Scenario'})\n",
    "#scen.rename(columns={'S': 'Scenario'}, inplace=True)\n",
    "scen.head()"
   ]
  },
  {
   "cell_type": "code",
   "execution_count": 243,
   "metadata": {},
   "outputs": [
    {
     "data": {
      "text/html": [
       "<div>\n",
       "<style scoped>\n",
       "    .dataframe tbody tr th:only-of-type {\n",
       "        vertical-align: middle;\n",
       "    }\n",
       "\n",
       "    .dataframe tbody tr th {\n",
       "        vertical-align: top;\n",
       "    }\n",
       "\n",
       "    .dataframe thead th {\n",
       "        text-align: right;\n",
       "    }\n",
       "</style>\n",
       "<table border=\"1\" class=\"dataframe\">\n",
       "  <thead>\n",
       "    <tr style=\"text-align: right;\">\n",
       "      <th></th>\n",
       "      <th>Measure</th>\n",
       "      <th>Units</th>\n",
       "      <th>Description</th>\n",
       "      <th>Value2010</th>\n",
       "      <th>B1C1D1E1F1G1I1P1T1V1</th>\n",
       "      <th>B2C1D1E1F1G1I1P1T1V1</th>\n",
       "      <th>B1C2D1E1F1G1I1P1T1V1</th>\n",
       "      <th>B2C2D1E1F1G1I1P1T1V1</th>\n",
       "      <th>B1C3D1E1F1G1I1P1T1V1</th>\n",
       "      <th>B2C3D1E1F1G1I1P1T1V1</th>\n",
       "      <th>B1C1D2E1F1G1I1P1T1V1</th>\n",
       "      <th>B2C1D2E1F1G1I1P1T1V1</th>\n",
       "      <th>B1C2D2E1F1G1I1P1T1V1</th>\n",
       "      <th>B2C2D2E1F1G1I1P1T1V1</th>\n",
       "    </tr>\n",
       "  </thead>\n",
       "  <tbody>\n",
       "    <tr>\n",
       "      <th>0</th>\n",
       "      <td>HhTotDailyOthParkingCost</td>\n",
       "      <td>USD per day</td>\n",
       "      <td>Total daily non-work parking expenditures by h...</td>\n",
       "      <td>28241.275835</td>\n",
       "      <td>20961.508423</td>\n",
       "      <td>20961.508423</td>\n",
       "      <td>20961.508423</td>\n",
       "      <td>20961.508423</td>\n",
       "      <td>20961.508423</td>\n",
       "      <td>20961.508423</td>\n",
       "      <td>20961.508423</td>\n",
       "      <td>20961.508423</td>\n",
       "      <td>20961.508423</td>\n",
       "      <td>20961.508423</td>\n",
       "    </tr>\n",
       "    <tr>\n",
       "      <th>1</th>\n",
       "      <td>HhTotDailyWkrParkingCost</td>\n",
       "      <td>USD per day</td>\n",
       "      <td>Total daily work parking expenditures by house...</td>\n",
       "      <td>37225.367097</td>\n",
       "      <td>46029.338718</td>\n",
       "      <td>46029.338718</td>\n",
       "      <td>46029.338718</td>\n",
       "      <td>46029.338718</td>\n",
       "      <td>46029.338718</td>\n",
       "      <td>46029.338718</td>\n",
       "      <td>46029.338718</td>\n",
       "      <td>46029.338718</td>\n",
       "      <td>46029.338718</td>\n",
       "      <td>46029.338718</td>\n",
       "    </tr>\n",
       "    <tr>\n",
       "      <th>2</th>\n",
       "      <td>HhVehTravCostShare</td>\n",
       "      <td>Proportion</td>\n",
       "      <td>Household vehicle Own &amp; out-of-pocket costs sh...</td>\n",
       "      <td>0.171750</td>\n",
       "      <td>0.044645</td>\n",
       "      <td>0.044276</td>\n",
       "      <td>0.044850</td>\n",
       "      <td>0.044480</td>\n",
       "      <td>0.045082</td>\n",
       "      <td>0.044712</td>\n",
       "      <td>0.044531</td>\n",
       "      <td>0.044164</td>\n",
       "      <td>0.044737</td>\n",
       "      <td>0.044370</td>\n",
       "    </tr>\n",
       "    <tr>\n",
       "      <th>3</th>\n",
       "      <td>HhVehTravCostShareLowInc</td>\n",
       "      <td>Proportion</td>\n",
       "      <td>Low income (0to20K 2010$) household vehicle Ow...</td>\n",
       "      <td>0.312967</td>\n",
       "      <td>0.339122</td>\n",
       "      <td>0.339121</td>\n",
       "      <td>0.343208</td>\n",
       "      <td>0.343208</td>\n",
       "      <td>0.347504</td>\n",
       "      <td>0.347503</td>\n",
       "      <td>0.339122</td>\n",
       "      <td>0.339121</td>\n",
       "      <td>0.343208</td>\n",
       "      <td>0.343207</td>\n",
       "    </tr>\n",
       "    <tr>\n",
       "      <th>4</th>\n",
       "      <td>MareaCarSvcAutoDvmtProp</td>\n",
       "      <td>Proportion</td>\n",
       "      <td>Average proportion car service vehicle DVMT in...</td>\n",
       "      <td>1.000000</td>\n",
       "      <td>0.981836</td>\n",
       "      <td>0.981834</td>\n",
       "      <td>0.982353</td>\n",
       "      <td>0.982349</td>\n",
       "      <td>0.981308</td>\n",
       "      <td>0.981306</td>\n",
       "      <td>0.981838</td>\n",
       "      <td>0.981832</td>\n",
       "      <td>0.982352</td>\n",
       "      <td>0.982349</td>\n",
       "    </tr>\n",
       "  </tbody>\n",
       "</table>\n",
       "</div>"
      ],
      "text/plain": [
       "                    Measure        Units  \\\n",
       "0  HhTotDailyOthParkingCost  USD per day   \n",
       "1  HhTotDailyWkrParkingCost  USD per day   \n",
       "2        HhVehTravCostShare   Proportion   \n",
       "3  HhVehTravCostShareLowInc   Proportion   \n",
       "4   MareaCarSvcAutoDvmtProp   Proportion   \n",
       "\n",
       "                                         Description     Value2010  \\\n",
       "0  Total daily non-work parking expenditures by h...  28241.275835   \n",
       "1  Total daily work parking expenditures by house...  37225.367097   \n",
       "2  Household vehicle Own & out-of-pocket costs sh...      0.171750   \n",
       "3  Low income (0to20K 2010$) household vehicle Ow...      0.312967   \n",
       "4  Average proportion car service vehicle DVMT in...      1.000000   \n",
       "\n",
       "   B1C1D1E1F1G1I1P1T1V1  B2C1D1E1F1G1I1P1T1V1  B1C2D1E1F1G1I1P1T1V1  \\\n",
       "0          20961.508423          20961.508423          20961.508423   \n",
       "1          46029.338718          46029.338718          46029.338718   \n",
       "2              0.044645              0.044276              0.044850   \n",
       "3              0.339122              0.339121              0.343208   \n",
       "4              0.981836              0.981834              0.982353   \n",
       "\n",
       "   B2C2D1E1F1G1I1P1T1V1  B1C3D1E1F1G1I1P1T1V1  B2C3D1E1F1G1I1P1T1V1  \\\n",
       "0          20961.508423          20961.508423          20961.508423   \n",
       "1          46029.338718          46029.338718          46029.338718   \n",
       "2              0.044480              0.045082              0.044712   \n",
       "3              0.343208              0.347504              0.347503   \n",
       "4              0.982349              0.981308              0.981306   \n",
       "\n",
       "   B1C1D2E1F1G1I1P1T1V1  B2C1D2E1F1G1I1P1T1V1  B1C2D2E1F1G1I1P1T1V1  \\\n",
       "0          20961.508423          20961.508423          20961.508423   \n",
       "1          46029.338718          46029.338718          46029.338718   \n",
       "2              0.044531              0.044164              0.044737   \n",
       "3              0.339122              0.339121              0.343208   \n",
       "4              0.981838              0.981832              0.982352   \n",
       "\n",
       "   B2C2D2E1F1G1I1P1T1V1  \n",
       "0          20961.508423  \n",
       "1          46029.338718  \n",
       "2              0.044370  \n",
       "3              0.343207  \n",
       "4              0.982349  "
      ]
     },
     "execution_count": 243,
     "metadata": {},
     "output_type": "execute_result"
    }
   ],
   "source": [
    "meas = pd.read_csv(f'{inpath}/output/Measures_Sensitivity_Output_5.csv')\n",
    "meas.head()"
   ]
  },
  {
   "cell_type": "code",
   "execution_count": 102,
   "metadata": {},
   "outputs": [
    {
     "name": "stdout",
     "output_type": "stream",
     "text": [
      "(0, B                              2\n",
      "C                              3\n",
      "D                              3\n",
      "E                              1\n",
      "F                              2\n",
      "G                              2\n",
      "I                              3\n",
      "P                              2\n",
      "T                              1\n",
      "V                              1\n",
      "Scenario    B2C3D3E1F2G2I3P2T1V1\n",
      "Name: 0, dtype: object)\n"
     ]
    }
   ],
   "source": [
    "for x in scen.iterrows():\n",
    "    print(x)\n",
    "    break"
   ]
  },
  {
   "cell_type": "code",
   "execution_count": 8,
   "metadata": {},
   "outputs": [],
   "source": [
    "def rows_to_dicts(df, data_info=['measure', 'scenario']):\n",
    "    out = []\n",
    "    fields = list(df)\n",
    "    if data_info == 'measure':\n",
    "        out = [{field: val for field, val in zip(fields, values)} \n",
    "           for _, values in df.iterrows()]\n",
    "    elif data_info == 'scenario':\n",
    "        out = [{field: [val] for field, val in zip(fields, values)} \n",
    "           for _, values in df.iterrows()]\n",
    "    return out"
   ]
  },
  {
   "cell_type": "code",
   "execution_count": 244,
   "metadata": {},
   "outputs": [],
   "source": [
    "scen = scen.astype(str)"
   ]
  },
  {
   "cell_type": "code",
   "execution_count": 245,
   "metadata": {},
   "outputs": [
    {
     "data": {
      "text/plain": [
       "'Scenario'"
      ]
     },
     "execution_count": 245,
     "metadata": {},
     "output_type": "execute_result"
    }
   ],
   "source": [
    "fields = list(scen)\n",
    "fields.pop(-1)"
   ]
  },
  {
   "cell_type": "code",
   "execution_count": 246,
   "metadata": {},
   "outputs": [
    {
     "data": {
      "text/plain": [
       "['B', 'C', 'D', 'E', 'F', 'G', 'I', 'P', 'T', 'V']"
      ]
     },
     "execution_count": 246,
     "metadata": {},
     "output_type": "execute_result"
    }
   ],
   "source": [
    "fields"
   ]
  },
  {
   "cell_type": "code",
   "execution_count": 247,
   "metadata": {},
   "outputs": [],
   "source": [
    "column_names = ['Scenario']\n",
    "for col in fields:\n",
    "    column_names.append(col)"
   ]
  },
  {
   "cell_type": "code",
   "execution_count": 248,
   "metadata": {},
   "outputs": [
    {
     "data": {
      "text/plain": [
       "['Scenario', 'B', 'C', 'D', 'E', 'F', 'G', 'I', 'P', 'T', 'V']"
      ]
     },
     "execution_count": 248,
     "metadata": {},
     "output_type": "execute_result"
    }
   ],
   "source": [
    "column_names"
   ]
  },
  {
   "cell_type": "code",
   "execution_count": 249,
   "metadata": {},
   "outputs": [],
   "source": [
    "scen = scen.reindex(columns=column_names)"
   ]
  },
  {
   "cell_type": "code",
   "execution_count": 250,
   "metadata": {},
   "outputs": [
    {
     "data": {
      "text/html": [
       "<div>\n",
       "<style scoped>\n",
       "    .dataframe tbody tr th:only-of-type {\n",
       "        vertical-align: middle;\n",
       "    }\n",
       "\n",
       "    .dataframe tbody tr th {\n",
       "        vertical-align: top;\n",
       "    }\n",
       "\n",
       "    .dataframe thead th {\n",
       "        text-align: right;\n",
       "    }\n",
       "</style>\n",
       "<table border=\"1\" class=\"dataframe\">\n",
       "  <thead>\n",
       "    <tr style=\"text-align: right;\">\n",
       "      <th></th>\n",
       "      <th>Scenario</th>\n",
       "      <th>B</th>\n",
       "      <th>C</th>\n",
       "      <th>D</th>\n",
       "      <th>E</th>\n",
       "      <th>F</th>\n",
       "      <th>G</th>\n",
       "      <th>I</th>\n",
       "      <th>P</th>\n",
       "      <th>T</th>\n",
       "      <th>V</th>\n",
       "    </tr>\n",
       "  </thead>\n",
       "  <tbody>\n",
       "    <tr>\n",
       "      <th>0</th>\n",
       "      <td>B1C1D1E1F1G1I1P1T1V1</td>\n",
       "      <td>1</td>\n",
       "      <td>1</td>\n",
       "      <td>1</td>\n",
       "      <td>1</td>\n",
       "      <td>1</td>\n",
       "      <td>1</td>\n",
       "      <td>1</td>\n",
       "      <td>1</td>\n",
       "      <td>1</td>\n",
       "      <td>1</td>\n",
       "    </tr>\n",
       "    <tr>\n",
       "      <th>1</th>\n",
       "      <td>B2C1D1E1F1G1I1P1T1V1</td>\n",
       "      <td>2</td>\n",
       "      <td>1</td>\n",
       "      <td>1</td>\n",
       "      <td>1</td>\n",
       "      <td>1</td>\n",
       "      <td>1</td>\n",
       "      <td>1</td>\n",
       "      <td>1</td>\n",
       "      <td>1</td>\n",
       "      <td>1</td>\n",
       "    </tr>\n",
       "    <tr>\n",
       "      <th>2</th>\n",
       "      <td>B1C2D1E1F1G1I1P1T1V1</td>\n",
       "      <td>1</td>\n",
       "      <td>2</td>\n",
       "      <td>1</td>\n",
       "      <td>1</td>\n",
       "      <td>1</td>\n",
       "      <td>1</td>\n",
       "      <td>1</td>\n",
       "      <td>1</td>\n",
       "      <td>1</td>\n",
       "      <td>1</td>\n",
       "    </tr>\n",
       "    <tr>\n",
       "      <th>3</th>\n",
       "      <td>B2C2D1E1F1G1I1P1T1V1</td>\n",
       "      <td>2</td>\n",
       "      <td>2</td>\n",
       "      <td>1</td>\n",
       "      <td>1</td>\n",
       "      <td>1</td>\n",
       "      <td>1</td>\n",
       "      <td>1</td>\n",
       "      <td>1</td>\n",
       "      <td>1</td>\n",
       "      <td>1</td>\n",
       "    </tr>\n",
       "    <tr>\n",
       "      <th>4</th>\n",
       "      <td>B1C3D1E1F1G1I1P1T1V1</td>\n",
       "      <td>1</td>\n",
       "      <td>3</td>\n",
       "      <td>1</td>\n",
       "      <td>1</td>\n",
       "      <td>1</td>\n",
       "      <td>1</td>\n",
       "      <td>1</td>\n",
       "      <td>1</td>\n",
       "      <td>1</td>\n",
       "      <td>1</td>\n",
       "    </tr>\n",
       "  </tbody>\n",
       "</table>\n",
       "</div>"
      ],
      "text/plain": [
       "               Scenario  B  C  D  E  F  G  I  P  T  V\n",
       "0  B1C1D1E1F1G1I1P1T1V1  1  1  1  1  1  1  1  1  1  1\n",
       "1  B2C1D1E1F1G1I1P1T1V1  2  1  1  1  1  1  1  1  1  1\n",
       "2  B1C2D1E1F1G1I1P1T1V1  1  2  1  1  1  1  1  1  1  1\n",
       "3  B2C2D1E1F1G1I1P1T1V1  2  2  1  1  1  1  1  1  1  1\n",
       "4  B1C3D1E1F1G1I1P1T1V1  1  3  1  1  1  1  1  1  1  1"
      ]
     },
     "execution_count": 250,
     "metadata": {},
     "output_type": "execute_result"
    }
   ],
   "source": [
    "scen.head()"
   ]
  },
  {
   "cell_type": "code",
   "execution_count": 251,
   "metadata": {},
   "outputs": [],
   "source": [
    "output = rows_to_dicts(scen, data_info='measure')"
   ]
  },
  {
   "cell_type": "code",
   "execution_count": 252,
   "metadata": {},
   "outputs": [
    {
     "name": "stdout",
     "output_type": "stream",
     "text": [
      "10\n"
     ]
    },
    {
     "data": {
      "text/plain": [
       "10"
      ]
     },
     "execution_count": 252,
     "metadata": {},
     "output_type": "execute_result"
    }
   ],
   "source": [
    "print(len(output))\n",
    "len(scen.Scenario.unique())"
   ]
  },
  {
   "cell_type": "code",
   "execution_count": 24,
   "metadata": {},
   "outputs": [
    {
     "data": {
      "text/plain": [
       "['UrbanBusCO2e',\n",
       " 'UrbanBusCO2eRate',\n",
       " 'UrbanComSvcCO2e',\n",
       " 'UrbanHhCO2e',\n",
       " 'UrbanHvyTrkAveCO2eRate',\n",
       " 'UrbanHvyTrkCO2e',\n",
       " 'UrbanLdvCO2e',\n",
       " 'UrbanLdvCO2eRate',\n",
       " 'UrbanRailCO2e',\n",
       " 'UrbanVanCO2e']"
      ]
     },
     "execution_count": 24,
     "metadata": {},
     "output_type": "execute_result"
    }
   ],
   "source": [
    "co2_vals = [x for x in meas['Measure'] if 'CO2' in x]\n",
    "co2_vals"
   ]
  },
  {
   "cell_type": "code",
   "execution_count": 25,
   "metadata": {},
   "outputs": [
    {
     "data": {
      "text/plain": [
       "10"
      ]
     },
     "execution_count": 25,
     "metadata": {},
     "output_type": "execute_result"
    }
   ],
   "source": [
    "len(co2_vals)"
   ]
  },
  {
   "cell_type": "code",
   "execution_count": 26,
   "metadata": {},
   "outputs": [],
   "source": [
    "def vals_from_scenario(scenario, meas_df, subset=None):\n",
    "    subset = meas_df.Measure.unique() if subset is None else subset\n",
    "    try:\n",
    "        out = {field: meas_df.loc[meas_df.Measure == field, scenario].values[0]\n",
    "              for field in subset}\n",
    "        return out\n",
    "    except KeyError:\n",
    "        return {}\n",
    "    except:\n",
    "        raise"
   ]
  },
  {
   "cell_type": "code",
   "execution_count": 29,
   "metadata": {},
   "outputs": [],
   "source": [
    "def append_scenario_vals(outputs, meas_df, subset=None):\n",
    "    for d in outputs:\n",
    "        scenario = d['Scenario']\n",
    "        scenario_vals = vals_from_scenario(scenario, meas_df, subset)\n",
    "        d.update(scenario_vals)\n",
    "    return outputs"
   ]
  },
  {
   "cell_type": "code",
   "execution_count": 253,
   "metadata": {},
   "outputs": [],
   "source": [
    "test = append_scenario_vals(output, meas, co2_vals)"
   ]
  },
  {
   "cell_type": "code",
   "execution_count": 254,
   "metadata": {},
   "outputs": [
    {
     "data": {
      "text/plain": [
       "{'Scenario': 'B2C2D2E1F1G1I1P1T1V1',\n",
       " 'B': '2',\n",
       " 'C': '2',\n",
       " 'D': '2',\n",
       " 'E': '1',\n",
       " 'F': '1',\n",
       " 'G': '1',\n",
       " 'I': '1',\n",
       " 'P': '1',\n",
       " 'T': '1',\n",
       " 'V': '1',\n",
       " 'UrbanBusCO2e': 6354.245369851839,\n",
       " 'UrbanBusCO2eRate': 1209.5679405526598,\n",
       " 'UrbanComSvcCO2e': 33065.147048568,\n",
       " 'UrbanHhCO2e': 442204.77486043295,\n",
       " 'UrbanHvyTrkAveCO2eRate': 855.3373801353861,\n",
       " 'UrbanHvyTrkCO2e': 632777.675925398,\n",
       " 'UrbanLdvCO2e': 482502.060671834,\n",
       " 'UrbanLdvCO2eRate': 0.00016008580337814398,\n",
       " 'UrbanRailCO2e': 0.0,\n",
       " 'UrbanVanCO2e': 7232.13876283271}"
      ]
     },
     "execution_count": 254,
     "metadata": {},
     "output_type": "execute_result"
    }
   ],
   "source": [
    "test[-1]"
   ]
  },
  {
   "cell_type": "code",
   "execution_count": 255,
   "metadata": {},
   "outputs": [],
   "source": [
    "with open(f'{inpath}/VEScenarioViewer/test_out.json', 'w') as f:\n",
    "    json.dump(test, f)"
   ]
  },
  {
   "cell_type": "code",
   "execution_count": 38,
   "metadata": {},
   "outputs": [],
   "source": [
    "#!open ./test_out.json"
   ]
  },
  {
   "cell_type": "code",
   "execution_count": 39,
   "metadata": {},
   "outputs": [],
   "source": [
    "#!rm ./test_out.json"
   ]
  },
  {
   "cell_type": "code",
   "execution_count": 33,
   "metadata": {},
   "outputs": [],
   "source": [
    "# organize measure notes\n",
    "meas_notes = meas[[\"Measure\", \"Units\", \"Description\"]]"
   ]
  },
  {
   "cell_type": "code",
   "execution_count": 34,
   "metadata": {},
   "outputs": [
    {
     "data": {
      "text/html": [
       "<div>\n",
       "<style scoped>\n",
       "    .dataframe tbody tr th:only-of-type {\n",
       "        vertical-align: middle;\n",
       "    }\n",
       "\n",
       "    .dataframe tbody tr th {\n",
       "        vertical-align: top;\n",
       "    }\n",
       "\n",
       "    .dataframe thead th {\n",
       "        text-align: right;\n",
       "    }\n",
       "</style>\n",
       "<table border=\"1\" class=\"dataframe\">\n",
       "  <thead>\n",
       "    <tr style=\"text-align: right;\">\n",
       "      <th></th>\n",
       "      <th>Measure</th>\n",
       "      <th>Units</th>\n",
       "      <th>Description</th>\n",
       "    </tr>\n",
       "  </thead>\n",
       "  <tbody>\n",
       "    <tr>\n",
       "      <th>0</th>\n",
       "      <td>HhTotDailyOthParkingCost</td>\n",
       "      <td>USD per day</td>\n",
       "      <td>Total daily non-work parking expenditures by h...</td>\n",
       "    </tr>\n",
       "    <tr>\n",
       "      <th>1</th>\n",
       "      <td>HhTotDailyWkrParkingCost</td>\n",
       "      <td>USD per day</td>\n",
       "      <td>Total daily work parking expenditures by house...</td>\n",
       "    </tr>\n",
       "    <tr>\n",
       "      <th>2</th>\n",
       "      <td>HhVehTravCostShare</td>\n",
       "      <td>Proportion</td>\n",
       "      <td>Household vehicle Own &amp; out-of-pocket costs sh...</td>\n",
       "    </tr>\n",
       "    <tr>\n",
       "      <th>3</th>\n",
       "      <td>HhVehTravCostShareLowInc</td>\n",
       "      <td>Proportion</td>\n",
       "      <td>Low income (0to20K 2010$) household vehicle Ow...</td>\n",
       "    </tr>\n",
       "    <tr>\n",
       "      <th>4</th>\n",
       "      <td>MareaCarSvcAutoDvmtProp</td>\n",
       "      <td>Proportion</td>\n",
       "      <td>Average proportion car service vehicle DVMT in...</td>\n",
       "    </tr>\n",
       "  </tbody>\n",
       "</table>\n",
       "</div>"
      ],
      "text/plain": [
       "                    Measure        Units  \\\n",
       "0  HhTotDailyOthParkingCost  USD per day   \n",
       "1  HhTotDailyWkrParkingCost  USD per day   \n",
       "2        HhVehTravCostShare   Proportion   \n",
       "3  HhVehTravCostShareLowInc   Proportion   \n",
       "4   MareaCarSvcAutoDvmtProp   Proportion   \n",
       "\n",
       "                                         Description  \n",
       "0  Total daily non-work parking expenditures by h...  \n",
       "1  Total daily work parking expenditures by house...  \n",
       "2  Household vehicle Own & out-of-pocket costs sh...  \n",
       "3  Low income (0to20K 2010$) household vehicle Ow...  \n",
       "4  Average proportion car service vehicle DVMT in...  "
      ]
     },
     "execution_count": 34,
     "metadata": {},
     "output_type": "execute_result"
    }
   ],
   "source": [
    "meas_notes.head()"
   ]
  },
  {
   "cell_type": "code",
   "execution_count": 35,
   "metadata": {},
   "outputs": [],
   "source": [
    "# NAME, LABEL, DESCRIPTION, INSTRUCTIONS, METRIC, UNIT, COLUMN\n",
    "meas_notes = meas_notes.rename(columns={'Measure': 'NAME', 'Units': 'UNIT', 'Description':'DESCRIPTION'})"
   ]
  },
  {
   "cell_type": "code",
   "execution_count": 36,
   "metadata": {},
   "outputs": [
    {
     "data": {
      "text/html": [
       "<div>\n",
       "<style scoped>\n",
       "    .dataframe tbody tr th:only-of-type {\n",
       "        vertical-align: middle;\n",
       "    }\n",
       "\n",
       "    .dataframe tbody tr th {\n",
       "        vertical-align: top;\n",
       "    }\n",
       "\n",
       "    .dataframe thead th {\n",
       "        text-align: right;\n",
       "    }\n",
       "</style>\n",
       "<table border=\"1\" class=\"dataframe\">\n",
       "  <thead>\n",
       "    <tr style=\"text-align: right;\">\n",
       "      <th></th>\n",
       "      <th>NAME</th>\n",
       "      <th>UNIT</th>\n",
       "      <th>DESCRIPTION</th>\n",
       "    </tr>\n",
       "  </thead>\n",
       "  <tbody>\n",
       "    <tr>\n",
       "      <th>0</th>\n",
       "      <td>HhTotDailyOthParkingCost</td>\n",
       "      <td>USD per day</td>\n",
       "      <td>Total daily non-work parking expenditures by h...</td>\n",
       "    </tr>\n",
       "    <tr>\n",
       "      <th>1</th>\n",
       "      <td>HhTotDailyWkrParkingCost</td>\n",
       "      <td>USD per day</td>\n",
       "      <td>Total daily work parking expenditures by house...</td>\n",
       "    </tr>\n",
       "    <tr>\n",
       "      <th>2</th>\n",
       "      <td>HhVehTravCostShare</td>\n",
       "      <td>Proportion</td>\n",
       "      <td>Household vehicle Own &amp; out-of-pocket costs sh...</td>\n",
       "    </tr>\n",
       "    <tr>\n",
       "      <th>3</th>\n",
       "      <td>HhVehTravCostShareLowInc</td>\n",
       "      <td>Proportion</td>\n",
       "      <td>Low income (0to20K 2010$) household vehicle Ow...</td>\n",
       "    </tr>\n",
       "    <tr>\n",
       "      <th>4</th>\n",
       "      <td>MareaCarSvcAutoDvmtProp</td>\n",
       "      <td>Proportion</td>\n",
       "      <td>Average proportion car service vehicle DVMT in...</td>\n",
       "    </tr>\n",
       "  </tbody>\n",
       "</table>\n",
       "</div>"
      ],
      "text/plain": [
       "                       NAME         UNIT  \\\n",
       "0  HhTotDailyOthParkingCost  USD per day   \n",
       "1  HhTotDailyWkrParkingCost  USD per day   \n",
       "2        HhVehTravCostShare   Proportion   \n",
       "3  HhVehTravCostShareLowInc   Proportion   \n",
       "4   MareaCarSvcAutoDvmtProp   Proportion   \n",
       "\n",
       "                                         DESCRIPTION  \n",
       "0  Total daily non-work parking expenditures by h...  \n",
       "1  Total daily work parking expenditures by house...  \n",
       "2  Household vehicle Own & out-of-pocket costs sh...  \n",
       "3  Low income (0to20K 2010$) household vehicle Ow...  \n",
       "4  Average proportion car service vehicle DVMT in...  "
      ]
     },
     "execution_count": 36,
     "metadata": {},
     "output_type": "execute_result"
    }
   ],
   "source": [
    "meas_notes.head()"
   ]
  },
  {
   "cell_type": "code",
   "execution_count": 37,
   "metadata": {},
   "outputs": [],
   "source": [
    "meas_notes.loc[:,'LABEL'] = meas_notes.loc[:,'NAME']\n",
    "meas_notes.loc[:,'COLUMN']= meas_notes.loc[:,'NAME']"
   ]
  },
  {
   "cell_type": "code",
   "execution_count": 38,
   "metadata": {},
   "outputs": [
    {
     "data": {
      "text/html": [
       "<div>\n",
       "<style scoped>\n",
       "    .dataframe tbody tr th:only-of-type {\n",
       "        vertical-align: middle;\n",
       "    }\n",
       "\n",
       "    .dataframe tbody tr th {\n",
       "        vertical-align: top;\n",
       "    }\n",
       "\n",
       "    .dataframe thead th {\n",
       "        text-align: right;\n",
       "    }\n",
       "</style>\n",
       "<table border=\"1\" class=\"dataframe\">\n",
       "  <thead>\n",
       "    <tr style=\"text-align: right;\">\n",
       "      <th></th>\n",
       "      <th>NAME</th>\n",
       "      <th>UNIT</th>\n",
       "      <th>DESCRIPTION</th>\n",
       "      <th>LABEL</th>\n",
       "      <th>COLUMN</th>\n",
       "    </tr>\n",
       "  </thead>\n",
       "  <tbody>\n",
       "    <tr>\n",
       "      <th>0</th>\n",
       "      <td>HhTotDailyOthParkingCost</td>\n",
       "      <td>USD per day</td>\n",
       "      <td>Total daily non-work parking expenditures by h...</td>\n",
       "      <td>HhTotDailyOthParkingCost</td>\n",
       "      <td>HhTotDailyOthParkingCost</td>\n",
       "    </tr>\n",
       "    <tr>\n",
       "      <th>1</th>\n",
       "      <td>HhTotDailyWkrParkingCost</td>\n",
       "      <td>USD per day</td>\n",
       "      <td>Total daily work parking expenditures by house...</td>\n",
       "      <td>HhTotDailyWkrParkingCost</td>\n",
       "      <td>HhTotDailyWkrParkingCost</td>\n",
       "    </tr>\n",
       "    <tr>\n",
       "      <th>2</th>\n",
       "      <td>HhVehTravCostShare</td>\n",
       "      <td>Proportion</td>\n",
       "      <td>Household vehicle Own &amp; out-of-pocket costs sh...</td>\n",
       "      <td>HhVehTravCostShare</td>\n",
       "      <td>HhVehTravCostShare</td>\n",
       "    </tr>\n",
       "    <tr>\n",
       "      <th>3</th>\n",
       "      <td>HhVehTravCostShareLowInc</td>\n",
       "      <td>Proportion</td>\n",
       "      <td>Low income (0to20K 2010$) household vehicle Ow...</td>\n",
       "      <td>HhVehTravCostShareLowInc</td>\n",
       "      <td>HhVehTravCostShareLowInc</td>\n",
       "    </tr>\n",
       "    <tr>\n",
       "      <th>4</th>\n",
       "      <td>MareaCarSvcAutoDvmtProp</td>\n",
       "      <td>Proportion</td>\n",
       "      <td>Average proportion car service vehicle DVMT in...</td>\n",
       "      <td>MareaCarSvcAutoDvmtProp</td>\n",
       "      <td>MareaCarSvcAutoDvmtProp</td>\n",
       "    </tr>\n",
       "  </tbody>\n",
       "</table>\n",
       "</div>"
      ],
      "text/plain": [
       "                       NAME         UNIT  \\\n",
       "0  HhTotDailyOthParkingCost  USD per day   \n",
       "1  HhTotDailyWkrParkingCost  USD per day   \n",
       "2        HhVehTravCostShare   Proportion   \n",
       "3  HhVehTravCostShareLowInc   Proportion   \n",
       "4   MareaCarSvcAutoDvmtProp   Proportion   \n",
       "\n",
       "                                         DESCRIPTION  \\\n",
       "0  Total daily non-work parking expenditures by h...   \n",
       "1  Total daily work parking expenditures by house...   \n",
       "2  Household vehicle Own & out-of-pocket costs sh...   \n",
       "3  Low income (0to20K 2010$) household vehicle Ow...   \n",
       "4  Average proportion car service vehicle DVMT in...   \n",
       "\n",
       "                      LABEL                    COLUMN  \n",
       "0  HhTotDailyOthParkingCost  HhTotDailyOthParkingCost  \n",
       "1  HhTotDailyWkrParkingCost  HhTotDailyWkrParkingCost  \n",
       "2        HhVehTravCostShare        HhVehTravCostShare  \n",
       "3  HhVehTravCostShareLowInc  HhVehTravCostShareLowInc  \n",
       "4   MareaCarSvcAutoDvmtProp   MareaCarSvcAutoDvmtProp  "
      ]
     },
     "execution_count": 38,
     "metadata": {},
     "output_type": "execute_result"
    }
   ],
   "source": [
    "meas_notes.head()"
   ]
  },
  {
   "cell_type": "code",
   "execution_count": 39,
   "metadata": {},
   "outputs": [],
   "source": [
    "meas_notes.loc[:,'INSTRUCTIONS'] = meas_notes.loc[:,'DESCRIPTION']"
   ]
  },
  {
   "cell_type": "code",
   "execution_count": 40,
   "metadata": {},
   "outputs": [],
   "source": [
    "meas_notes.loc[:,'METRIC'] = 'Average'"
   ]
  },
  {
   "cell_type": "code",
   "execution_count": 41,
   "metadata": {},
   "outputs": [],
   "source": [
    "meas_notes = meas_notes[['NAME', 'LABEL', 'DESCRIPTION', 'INSTRUCTIONS', 'METRIC', 'UNIT', 'COLUMN']]"
   ]
  },
  {
   "cell_type": "code",
   "execution_count": 42,
   "metadata": {},
   "outputs": [
    {
     "data": {
      "text/html": [
       "<div>\n",
       "<style scoped>\n",
       "    .dataframe tbody tr th:only-of-type {\n",
       "        vertical-align: middle;\n",
       "    }\n",
       "\n",
       "    .dataframe tbody tr th {\n",
       "        vertical-align: top;\n",
       "    }\n",
       "\n",
       "    .dataframe thead th {\n",
       "        text-align: right;\n",
       "    }\n",
       "</style>\n",
       "<table border=\"1\" class=\"dataframe\">\n",
       "  <thead>\n",
       "    <tr style=\"text-align: right;\">\n",
       "      <th></th>\n",
       "      <th>NAME</th>\n",
       "      <th>LABEL</th>\n",
       "      <th>DESCRIPTION</th>\n",
       "      <th>INSTRUCTIONS</th>\n",
       "      <th>METRIC</th>\n",
       "      <th>UNIT</th>\n",
       "      <th>COLUMN</th>\n",
       "    </tr>\n",
       "  </thead>\n",
       "  <tbody>\n",
       "    <tr>\n",
       "      <th>0</th>\n",
       "      <td>HhTotDailyOthParkingCost</td>\n",
       "      <td>HhTotDailyOthParkingCost</td>\n",
       "      <td>Total daily non-work parking expenditures by h...</td>\n",
       "      <td>Total daily non-work parking expenditures by h...</td>\n",
       "      <td>Average</td>\n",
       "      <td>USD per day</td>\n",
       "      <td>HhTotDailyOthParkingCost</td>\n",
       "    </tr>\n",
       "    <tr>\n",
       "      <th>1</th>\n",
       "      <td>HhTotDailyWkrParkingCost</td>\n",
       "      <td>HhTotDailyWkrParkingCost</td>\n",
       "      <td>Total daily work parking expenditures by house...</td>\n",
       "      <td>Total daily work parking expenditures by house...</td>\n",
       "      <td>Average</td>\n",
       "      <td>USD per day</td>\n",
       "      <td>HhTotDailyWkrParkingCost</td>\n",
       "    </tr>\n",
       "    <tr>\n",
       "      <th>2</th>\n",
       "      <td>HhVehTravCostShare</td>\n",
       "      <td>HhVehTravCostShare</td>\n",
       "      <td>Household vehicle Own &amp; out-of-pocket costs sh...</td>\n",
       "      <td>Household vehicle Own &amp; out-of-pocket costs sh...</td>\n",
       "      <td>Average</td>\n",
       "      <td>Proportion</td>\n",
       "      <td>HhVehTravCostShare</td>\n",
       "    </tr>\n",
       "    <tr>\n",
       "      <th>3</th>\n",
       "      <td>HhVehTravCostShareLowInc</td>\n",
       "      <td>HhVehTravCostShareLowInc</td>\n",
       "      <td>Low income (0to20K 2010$) household vehicle Ow...</td>\n",
       "      <td>Low income (0to20K 2010$) household vehicle Ow...</td>\n",
       "      <td>Average</td>\n",
       "      <td>Proportion</td>\n",
       "      <td>HhVehTravCostShareLowInc</td>\n",
       "    </tr>\n",
       "    <tr>\n",
       "      <th>4</th>\n",
       "      <td>MareaCarSvcAutoDvmtProp</td>\n",
       "      <td>MareaCarSvcAutoDvmtProp</td>\n",
       "      <td>Average proportion car service vehicle DVMT in...</td>\n",
       "      <td>Average proportion car service vehicle DVMT in...</td>\n",
       "      <td>Average</td>\n",
       "      <td>Proportion</td>\n",
       "      <td>MareaCarSvcAutoDvmtProp</td>\n",
       "    </tr>\n",
       "  </tbody>\n",
       "</table>\n",
       "</div>"
      ],
      "text/plain": [
       "                       NAME                     LABEL  \\\n",
       "0  HhTotDailyOthParkingCost  HhTotDailyOthParkingCost   \n",
       "1  HhTotDailyWkrParkingCost  HhTotDailyWkrParkingCost   \n",
       "2        HhVehTravCostShare        HhVehTravCostShare   \n",
       "3  HhVehTravCostShareLowInc  HhVehTravCostShareLowInc   \n",
       "4   MareaCarSvcAutoDvmtProp   MareaCarSvcAutoDvmtProp   \n",
       "\n",
       "                                         DESCRIPTION  \\\n",
       "0  Total daily non-work parking expenditures by h...   \n",
       "1  Total daily work parking expenditures by house...   \n",
       "2  Household vehicle Own & out-of-pocket costs sh...   \n",
       "3  Low income (0to20K 2010$) household vehicle Ow...   \n",
       "4  Average proportion car service vehicle DVMT in...   \n",
       "\n",
       "                                        INSTRUCTIONS   METRIC         UNIT  \\\n",
       "0  Total daily non-work parking expenditures by h...  Average  USD per day   \n",
       "1  Total daily work parking expenditures by house...  Average  USD per day   \n",
       "2  Household vehicle Own & out-of-pocket costs sh...  Average   Proportion   \n",
       "3  Low income (0to20K 2010$) household vehicle Ow...  Average   Proportion   \n",
       "4  Average proportion car service vehicle DVMT in...  Average   Proportion   \n",
       "\n",
       "                     COLUMN  \n",
       "0  HhTotDailyOthParkingCost  \n",
       "1  HhTotDailyWkrParkingCost  \n",
       "2        HhVehTravCostShare  \n",
       "3  HhVehTravCostShareLowInc  \n",
       "4   MareaCarSvcAutoDvmtProp  "
      ]
     },
     "execution_count": 42,
     "metadata": {},
     "output_type": "execute_result"
    }
   ],
   "source": [
    "meas_notes.head()"
   ]
  },
  {
   "cell_type": "code",
   "execution_count": 43,
   "metadata": {},
   "outputs": [],
   "source": [
    "meas_notes_subset = meas_notes.loc[meas_notes['NAME'].isin(co2_vals)]"
   ]
  },
  {
   "cell_type": "code",
   "execution_count": 51,
   "metadata": {},
   "outputs": [],
   "source": [
    "output2 = rows_to_dicts(meas_notes_subset,data_info='measure')"
   ]
  },
  {
   "cell_type": "code",
   "execution_count": 53,
   "metadata": {},
   "outputs": [],
   "source": [
    "with open(f'{inpath}/VEScenarioViewer/test_out2.json', 'w') as f:\n",
    "    json.dump(output2, f)"
   ]
  },
  {
   "cell_type": "code",
   "execution_count": 224,
   "metadata": {},
   "outputs": [],
   "source": [
    "# organize category and levels\n",
    "cat_levels = pd.read_csv(f'{inpath}/sensitivity_tests/sensitivity_scenarios.csv')"
   ]
  },
  {
   "cell_type": "code",
   "execution_count": 225,
   "metadata": {},
   "outputs": [
    {
     "data": {
      "text/html": [
       "<div>\n",
       "<style scoped>\n",
       "    .dataframe tbody tr th:only-of-type {\n",
       "        vertical-align: middle;\n",
       "    }\n",
       "\n",
       "    .dataframe tbody tr th {\n",
       "        vertical-align: top;\n",
       "    }\n",
       "\n",
       "    .dataframe thead th {\n",
       "        text-align: right;\n",
       "    }\n",
       "</style>\n",
       "<table border=\"1\" class=\"dataframe\">\n",
       "  <thead>\n",
       "    <tr style=\"text-align: right;\">\n",
       "      <th></th>\n",
       "      <th>strategy_label</th>\n",
       "      <th>strategy_description</th>\n",
       "      <th>strategy_level</th>\n",
       "      <th>category_name</th>\n",
       "      <th>category_label</th>\n",
       "      <th>category_description</th>\n",
       "      <th>category_instructions</th>\n",
       "      <th>file</th>\n",
       "      <th>geo</th>\n",
       "      <th>policy_name</th>\n",
       "      <th>policy_label</th>\n",
       "      <th>policy_description</th>\n",
       "    </tr>\n",
       "  </thead>\n",
       "  <tbody>\n",
       "    <tr>\n",
       "      <th>0</th>\n",
       "      <td>Community Design</td>\n",
       "      <td>Local policies to enable shorter trips and tra...</td>\n",
       "      <td>1</td>\n",
       "      <td>B</td>\n",
       "      <td>Bicycles</td>\n",
       "      <td>Network improvements, incentives, and technolo...</td>\n",
       "      <td>The diversion of single-occupant vehicle trave...</td>\n",
       "      <td>azone_prop_sov_dvmt_diverted.csv</td>\n",
       "      <td>azone</td>\n",
       "      <td>1</td>\n",
       "      <td>Base</td>\n",
       "      <td>Baseline bicyling percentage of SOV tours less...</td>\n",
       "    </tr>\n",
       "    <tr>\n",
       "      <th>1</th>\n",
       "      <td>Community Design</td>\n",
       "      <td>Local policies to enable shorter trips and tra...</td>\n",
       "      <td>2</td>\n",
       "      <td>B</td>\n",
       "      <td>Bicycles</td>\n",
       "      <td>Network improvements, incentives, and technolo...</td>\n",
       "      <td>The diversion of single-occupant vehicle trave...</td>\n",
       "      <td>azone_prop_sov_dvmt_diverted.csv</td>\n",
       "      <td>azone</td>\n",
       "      <td>2</td>\n",
       "      <td>Increased</td>\n",
       "      <td>Increased bicyling percentage of SOV tours les...</td>\n",
       "    </tr>\n",
       "    <tr>\n",
       "      <th>2</th>\n",
       "      <td>Community Design</td>\n",
       "      <td>Local policies to enable shorter trips and tra...</td>\n",
       "      <td>1</td>\n",
       "      <td>P</td>\n",
       "      <td>Parking</td>\n",
       "      <td>Extent of and charges for priced parking</td>\n",
       "      <td>The extent of paid parking and its price</td>\n",
       "      <td>bzone_parking.csv</td>\n",
       "      <td>bzone</td>\n",
       "      <td>1</td>\n",
       "      <td>Base</td>\n",
       "      <td>Baseline average daily cost for long-term park...</td>\n",
       "    </tr>\n",
       "    <tr>\n",
       "      <th>3</th>\n",
       "      <td>Community Design</td>\n",
       "      <td>Local policies to enable shorter trips and tra...</td>\n",
       "      <td>2</td>\n",
       "      <td>P</td>\n",
       "      <td>Parking</td>\n",
       "      <td>Extent of and charges for priced parking</td>\n",
       "      <td>The extent of paid parking and its price</td>\n",
       "      <td>bzone_parking.csv</td>\n",
       "      <td>bzone</td>\n",
       "      <td>2</td>\n",
       "      <td>Increased by 50%</td>\n",
       "      <td>Increased average daily cost for long-term par...</td>\n",
       "    </tr>\n",
       "    <tr>\n",
       "      <th>4</th>\n",
       "      <td>Community Design</td>\n",
       "      <td>Local policies to enable shorter trips and tra...</td>\n",
       "      <td>3</td>\n",
       "      <td>P</td>\n",
       "      <td>Parking</td>\n",
       "      <td>Extent of and charges for priced parking</td>\n",
       "      <td>The extent of paid parking and its price</td>\n",
       "      <td>bzone_parking.csv</td>\n",
       "      <td>bzone</td>\n",
       "      <td>3</td>\n",
       "      <td>Double</td>\n",
       "      <td>Double average daily cost for long-term parkin...</td>\n",
       "    </tr>\n",
       "  </tbody>\n",
       "</table>\n",
       "</div>"
      ],
      "text/plain": [
       "     strategy_label                               strategy_description  \\\n",
       "0  Community Design  Local policies to enable shorter trips and tra...   \n",
       "1  Community Design  Local policies to enable shorter trips and tra...   \n",
       "2  Community Design  Local policies to enable shorter trips and tra...   \n",
       "3  Community Design  Local policies to enable shorter trips and tra...   \n",
       "4  Community Design  Local policies to enable shorter trips and tra...   \n",
       "\n",
       "   strategy_level category_name category_label  \\\n",
       "0               1             B       Bicycles   \n",
       "1               2             B       Bicycles   \n",
       "2               1             P        Parking   \n",
       "3               2             P        Parking   \n",
       "4               3             P        Parking   \n",
       "\n",
       "                                category_description  \\\n",
       "0  Network improvements, incentives, and technolo...   \n",
       "1  Network improvements, incentives, and technolo...   \n",
       "2           Extent of and charges for priced parking   \n",
       "3           Extent of and charges for priced parking   \n",
       "4           Extent of and charges for priced parking   \n",
       "\n",
       "                               category_instructions  \\\n",
       "0  The diversion of single-occupant vehicle trave...   \n",
       "1  The diversion of single-occupant vehicle trave...   \n",
       "2           The extent of paid parking and its price   \n",
       "3           The extent of paid parking and its price   \n",
       "4           The extent of paid parking and its price   \n",
       "\n",
       "                               file    geo  policy_name      policy_label  \\\n",
       "0  azone_prop_sov_dvmt_diverted.csv  azone            1              Base   \n",
       "1  azone_prop_sov_dvmt_diverted.csv  azone            2         Increased   \n",
       "2                 bzone_parking.csv  bzone            1              Base   \n",
       "3                 bzone_parking.csv  bzone            2  Increased by 50%   \n",
       "4                 bzone_parking.csv  bzone            3            Double   \n",
       "\n",
       "                                  policy_description  \n",
       "0  Baseline bicyling percentage of SOV tours less...  \n",
       "1  Increased bicyling percentage of SOV tours les...  \n",
       "2  Baseline average daily cost for long-term park...  \n",
       "3  Increased average daily cost for long-term par...  \n",
       "4  Double average daily cost for long-term parkin...  "
      ]
     },
     "execution_count": 225,
     "metadata": {},
     "output_type": "execute_result"
    }
   ],
   "source": [
    "cat_levels.head()"
   ]
  },
  {
   "cell_type": "code",
   "execution_count": 226,
   "metadata": {},
   "outputs": [
    {
     "data": {
      "text/plain": [
       "['strategy_label',\n",
       " 'strategy_description',\n",
       " 'strategy_level',\n",
       " 'category_name',\n",
       " 'category_label',\n",
       " 'category_description',\n",
       " 'category_instructions',\n",
       " 'file',\n",
       " 'geo',\n",
       " 'policy_name',\n",
       " 'policy_label',\n",
       " 'policy_description']"
      ]
     },
     "execution_count": 226,
     "metadata": {},
     "output_type": "execute_result"
    }
   ],
   "source": [
    "list(cat_levels.columns)"
   ]
  },
  {
   "cell_type": "code",
   "execution_count": 227,
   "metadata": {},
   "outputs": [],
   "source": [
    "# NAME, LABEL, DESCRIPTION, INSTRUCTIONS, LEVELS (NAME, LABEL, DESCRIPTION)\n",
    "levels = cat_levels[['policy_name', 'policy_label', 'policy_description']]"
   ]
  },
  {
   "cell_type": "code",
   "execution_count": 228,
   "metadata": {},
   "outputs": [],
   "source": [
    "levels = levels.rename(columns={'policy_name': 'NAME', 'policy_label': 'LABEL', 'policy_description':'DESCRIPTION'})"
   ]
  },
  {
   "cell_type": "code",
   "execution_count": 229,
   "metadata": {},
   "outputs": [
    {
     "data": {
      "text/html": [
       "<div>\n",
       "<style scoped>\n",
       "    .dataframe tbody tr th:only-of-type {\n",
       "        vertical-align: middle;\n",
       "    }\n",
       "\n",
       "    .dataframe tbody tr th {\n",
       "        vertical-align: top;\n",
       "    }\n",
       "\n",
       "    .dataframe thead th {\n",
       "        text-align: right;\n",
       "    }\n",
       "</style>\n",
       "<table border=\"1\" class=\"dataframe\">\n",
       "  <thead>\n",
       "    <tr style=\"text-align: right;\">\n",
       "      <th></th>\n",
       "      <th>NAME</th>\n",
       "      <th>LABEL</th>\n",
       "      <th>DESCRIPTION</th>\n",
       "    </tr>\n",
       "  </thead>\n",
       "  <tbody>\n",
       "    <tr>\n",
       "      <th>0</th>\n",
       "      <td>1</td>\n",
       "      <td>Base</td>\n",
       "      <td>Baseline bicyling percentage of SOV tours less...</td>\n",
       "    </tr>\n",
       "    <tr>\n",
       "      <th>1</th>\n",
       "      <td>2</td>\n",
       "      <td>Increased</td>\n",
       "      <td>Increased bicyling percentage of SOV tours les...</td>\n",
       "    </tr>\n",
       "    <tr>\n",
       "      <th>2</th>\n",
       "      <td>1</td>\n",
       "      <td>Base</td>\n",
       "      <td>Baseline average daily cost for long-term park...</td>\n",
       "    </tr>\n",
       "    <tr>\n",
       "      <th>3</th>\n",
       "      <td>2</td>\n",
       "      <td>Increased by 50%</td>\n",
       "      <td>Increased average daily cost for long-term par...</td>\n",
       "    </tr>\n",
       "    <tr>\n",
       "      <th>4</th>\n",
       "      <td>3</td>\n",
       "      <td>Double</td>\n",
       "      <td>Double average daily cost for long-term parkin...</td>\n",
       "    </tr>\n",
       "  </tbody>\n",
       "</table>\n",
       "</div>"
      ],
      "text/plain": [
       "   NAME             LABEL                                        DESCRIPTION\n",
       "0     1              Base  Baseline bicyling percentage of SOV tours less...\n",
       "1     2         Increased  Increased bicyling percentage of SOV tours les...\n",
       "2     1              Base  Baseline average daily cost for long-term park...\n",
       "3     2  Increased by 50%  Increased average daily cost for long-term par...\n",
       "4     3            Double  Double average daily cost for long-term parkin..."
      ]
     },
     "execution_count": 229,
     "metadata": {},
     "output_type": "execute_result"
    }
   ],
   "source": [
    "levels.head()"
   ]
  },
  {
   "cell_type": "code",
   "execution_count": 230,
   "metadata": {},
   "outputs": [
    {
     "data": {
      "text/plain": [
       "{'NAME': [1],\n",
       " 'LABEL': ['Base'],\n",
       " 'DESCRIPTION': ['Baseline bicyling percentage of SOV tours less than 20 miles (19%)']}"
      ]
     },
     "execution_count": 230,
     "metadata": {},
     "output_type": "execute_result"
    }
   ],
   "source": [
    "level_output = rows_to_dicts(levels, data_info='scenario')\n",
    "level_output[0]"
   ]
  },
  {
   "cell_type": "code",
   "execution_count": 231,
   "metadata": {},
   "outputs": [
    {
     "data": {
      "text/plain": [
       "dict"
      ]
     },
     "execution_count": 231,
     "metadata": {},
     "output_type": "execute_result"
    }
   ],
   "source": [
    "type(level_output[0])"
   ]
  },
  {
   "cell_type": "code",
   "execution_count": 232,
   "metadata": {},
   "outputs": [],
   "source": [
    "categories = cat_levels[['category_name','category_label','category_description','category_instructions']]\n",
    "categories = categories.rename(columns={'category_name': 'NAME', \n",
    "                                        'category_label': 'LABEL', \n",
    "                                        'category_description':'DESCRIPTION',\n",
    "                                        'category_instructions': 'INSTRUCTIONS'})"
   ]
  },
  {
   "cell_type": "code",
   "execution_count": 233,
   "metadata": {},
   "outputs": [
    {
     "data": {
      "text/plain": [
       "{'NAME': ['B'],\n",
       " 'LABEL': ['Bicycles'],\n",
       " 'DESCRIPTION': ['Network improvements, incentives, and technologies that encourage bicycling and other light-weight vehicle travel'],\n",
       " 'INSTRUCTIONS': ['The diversion of single-occupant vehicle travel to bicycles, electric bicycles and other light-weight vehicles']}"
      ]
     },
     "execution_count": 233,
     "metadata": {},
     "output_type": "execute_result"
    }
   ],
   "source": [
    "category_output = rows_to_dicts(categories, data_info='scenario')\n",
    "category_output[0]"
   ]
  },
  {
   "cell_type": "code",
   "execution_count": 207,
   "metadata": {},
   "outputs": [],
   "source": [
    "def list_levels_in_cat(cat, cat_levels_df):\n",
    "    df = cat_levels_df.loc[cat_levels_df['category_name'] == cat]\n",
    "    df = df[['policy_name', 'policy_label', 'policy_description']]\n",
    "    df = df.rename(columns={'policy_name': 'NAME',\n",
    "                            'policy_label': 'LABEL',\n",
    "                            'policy_description':'DESCRIPTION'})\n",
    "    out = rows_to_dicts(df, data_info='scenario')\n",
    "    return out"
   ]
  },
  {
   "cell_type": "code",
   "execution_count": 208,
   "metadata": {},
   "outputs": [],
   "source": [
    "def list_cateory_info(cat, cat_levels_df):\n",
    "    df = cat_levels_df.loc[cat_levels_df['category_name'] == cat]\n",
    "    df = df[['category_name','category_label','category_description','category_instructions']].drop_duplicates()\n",
    "    df = df.rename(columns={'category_name': 'NAME', \n",
    "                            'category_label': 'LABEL', \n",
    "                            'category_description':'DESCRIPTION',\n",
    "                            'category_instructions': 'INSTRUCTIONS'})\n",
    "    out = rows_to_dicts(df, data_info='scenario')\n",
    "    return out    "
   ]
  },
  {
   "cell_type": "code",
   "execution_count": 234,
   "metadata": {},
   "outputs": [],
   "source": [
    "cat_levels.policy_name = cat_levels.policy_name.astype(str)"
   ]
  },
  {
   "cell_type": "code",
   "execution_count": 235,
   "metadata": {
    "scrolled": true
   },
   "outputs": [
    {
     "data": {
      "text/plain": [
       "[{'NAME': ['1'],\n",
       "  'LABEL': ['Base'],\n",
       "  'DESCRIPTION': ['Baseline bicyling percentage of SOV tours less than 20 miles (19%)']},\n",
       " {'NAME': ['2'],\n",
       "  'LABEL': ['Increased'],\n",
       "  'DESCRIPTION': ['Increased bicyling percentage of SOV tours less than 20 miles']}]"
      ]
     },
     "execution_count": 235,
     "metadata": {},
     "output_type": "execute_result"
    }
   ],
   "source": [
    "list_levels_in_cat('B', cat_levels)"
   ]
  },
  {
   "cell_type": "code",
   "execution_count": 236,
   "metadata": {},
   "outputs": [
    {
     "data": {
      "text/html": [
       "<div>\n",
       "<style scoped>\n",
       "    .dataframe tbody tr th:only-of-type {\n",
       "        vertical-align: middle;\n",
       "    }\n",
       "\n",
       "    .dataframe tbody tr th {\n",
       "        vertical-align: top;\n",
       "    }\n",
       "\n",
       "    .dataframe thead th {\n",
       "        text-align: right;\n",
       "    }\n",
       "</style>\n",
       "<table border=\"1\" class=\"dataframe\">\n",
       "  <thead>\n",
       "    <tr style=\"text-align: right;\">\n",
       "      <th></th>\n",
       "      <th>category_name</th>\n",
       "      <th>category_label</th>\n",
       "      <th>category_description</th>\n",
       "      <th>category_instructions</th>\n",
       "    </tr>\n",
       "  </thead>\n",
       "  <tbody>\n",
       "    <tr>\n",
       "      <th>0</th>\n",
       "      <td>B</td>\n",
       "      <td>Bicycles</td>\n",
       "      <td>Network improvements, incentives, and technolo...</td>\n",
       "      <td>The diversion of single-occupant vehicle trave...</td>\n",
       "    </tr>\n",
       "    <tr>\n",
       "      <th>2</th>\n",
       "      <td>P</td>\n",
       "      <td>Parking</td>\n",
       "      <td>Extent of and charges for priced parking</td>\n",
       "      <td>The extent of paid parking and its price</td>\n",
       "    </tr>\n",
       "    <tr>\n",
       "      <th>5</th>\n",
       "      <td>T</td>\n",
       "      <td>Transit</td>\n",
       "      <td>Level of public transit service</td>\n",
       "      <td>The extent and frequency of transit service</td>\n",
       "    </tr>\n",
       "    <tr>\n",
       "      <th>8</th>\n",
       "      <td>D</td>\n",
       "      <td>Demand Management</td>\n",
       "      <td>Programs to encourage less private vehicle travel</td>\n",
       "      <td>Programs and incentives which encourage people...</td>\n",
       "    </tr>\n",
       "    <tr>\n",
       "      <th>11</th>\n",
       "      <td>E</td>\n",
       "      <td>Driving Efficiency</td>\n",
       "      <td>Driving efficiency by increasing implementatio...</td>\n",
       "      <td>DVMT affected by operations for different road...</td>\n",
       "    </tr>\n",
       "  </tbody>\n",
       "</table>\n",
       "</div>"
      ],
      "text/plain": [
       "   category_name      category_label  \\\n",
       "0              B            Bicycles   \n",
       "2              P             Parking   \n",
       "5              T             Transit   \n",
       "8              D   Demand Management   \n",
       "11             E  Driving Efficiency   \n",
       "\n",
       "                                 category_description  \\\n",
       "0   Network improvements, incentives, and technolo...   \n",
       "2            Extent of and charges for priced parking   \n",
       "5                     Level of public transit service   \n",
       "8   Programs to encourage less private vehicle travel   \n",
       "11  Driving efficiency by increasing implementatio...   \n",
       "\n",
       "                                category_instructions  \n",
       "0   The diversion of single-occupant vehicle trave...  \n",
       "2            The extent of paid parking and its price  \n",
       "5         The extent and frequency of transit service  \n",
       "8   Programs and incentives which encourage people...  \n",
       "11  DVMT affected by operations for different road...  "
      ]
     },
     "execution_count": 236,
     "metadata": {},
     "output_type": "execute_result"
    }
   ],
   "source": [
    "cat_levels[['category_name','category_label','category_description','category_instructions']].drop_duplicates().head()"
   ]
  },
  {
   "cell_type": "code",
   "execution_count": 237,
   "metadata": {},
   "outputs": [
    {
     "data": {
      "text/plain": [
       "[{'NAME': ['B'],\n",
       "  'LABEL': ['Bicycles'],\n",
       "  'DESCRIPTION': ['Network improvements, incentives, and technologies that encourage bicycling and other light-weight vehicle travel'],\n",
       "  'INSTRUCTIONS': ['The diversion of single-occupant vehicle travel to bicycles, electric bicycles and other light-weight vehicles']}]"
      ]
     },
     "execution_count": 237,
     "metadata": {},
     "output_type": "execute_result"
    }
   ],
   "source": [
    "list_cateory_info('B', cat_levels)"
   ]
  },
  {
   "cell_type": "code",
   "execution_count": 213,
   "metadata": {},
   "outputs": [],
   "source": [
    "def add_nested_dicts(cat_dict, level_list):\n",
    "    cat_dict['LEVELS'] = level_list\n",
    "    return cat_dict"
   ]
  },
  {
   "cell_type": "code",
   "execution_count": 214,
   "metadata": {},
   "outputs": [],
   "source": [
    "def collect_scenario_info(cat_levels_df):\n",
    "    out = []\n",
    "    for cat in list(cat_levels_df.category_name.unique()):\n",
    "        list1 = list_cateory_info(cat, cat_levels_df)\n",
    "        list2 = list_levels_in_cat(cat, cat_levels_df)\n",
    "        out.append(add_nested_dicts(list1[0], list2))\n",
    "    return out"
   ]
  },
  {
   "cell_type": "code",
   "execution_count": 238,
   "metadata": {
    "scrolled": false
   },
   "outputs": [
    {
     "data": {
      "text/plain": [
       "{'NAME': ['B'],\n",
       " 'LABEL': ['Bicycles'],\n",
       " 'DESCRIPTION': ['Network improvements, incentives, and technologies that encourage bicycling and other light-weight vehicle travel'],\n",
       " 'INSTRUCTIONS': ['The diversion of single-occupant vehicle travel to bicycles, electric bicycles and other light-weight vehicles'],\n",
       " 'LEVELS': [{'NAME': ['1'],\n",
       "   'LABEL': ['Base'],\n",
       "   'DESCRIPTION': ['Baseline bicyling percentage of SOV tours less than 20 miles (19%)']},\n",
       "  {'NAME': ['2'],\n",
       "   'LABEL': ['Increased'],\n",
       "   'DESCRIPTION': ['Increased bicyling percentage of SOV tours less than 20 miles']}]}"
      ]
     },
     "execution_count": 238,
     "metadata": {},
     "output_type": "execute_result"
    }
   ],
   "source": [
    "collect_scenario_info(cat_levels)[0]"
   ]
  },
  {
   "cell_type": "code",
   "execution_count": 239,
   "metadata": {},
   "outputs": [],
   "source": [
    "output3 = collect_scenario_info(cat_levels)"
   ]
  },
  {
   "cell_type": "code",
   "execution_count": 240,
   "metadata": {},
   "outputs": [],
   "source": [
    "with open(f'{inpath}/VEScenarioViewer/test_out3.json', 'w') as f:\n",
    "    json.dump(output3, f)"
   ]
  },
  {
   "cell_type": "code",
   "execution_count": 257,
   "metadata": {
    "scrolled": true
   },
   "outputs": [],
   "source": [
    "# organize average values for output measures\n",
    "scen_fields = set(list(meas.columns)).intersection(set(list(scen.loc[:,'Scenario'])))"
   ]
  },
  {
   "cell_type": "code",
   "execution_count": 258,
   "metadata": {},
   "outputs": [],
   "source": [
    "meas['Avg'] = meas.loc[:, scen_fields].mean(axis=1)"
   ]
  },
  {
   "cell_type": "code",
   "execution_count": 259,
   "metadata": {},
   "outputs": [],
   "source": [
    "meas_s = meas.loc[meas.Measure.isin(co2_vals),:][['Measure', 'Avg']]"
   ]
  },
  {
   "cell_type": "code",
   "execution_count": 260,
   "metadata": {},
   "outputs": [
    {
     "data": {
      "text/html": [
       "<div>\n",
       "<style scoped>\n",
       "    .dataframe tbody tr th:only-of-type {\n",
       "        vertical-align: middle;\n",
       "    }\n",
       "\n",
       "    .dataframe tbody tr th {\n",
       "        vertical-align: top;\n",
       "    }\n",
       "\n",
       "    .dataframe thead th {\n",
       "        text-align: right;\n",
       "    }\n",
       "</style>\n",
       "<table border=\"1\" class=\"dataframe\">\n",
       "  <thead>\n",
       "    <tr style=\"text-align: right;\">\n",
       "      <th></th>\n",
       "      <th>Measure</th>\n",
       "      <th>Avg</th>\n",
       "    </tr>\n",
       "  </thead>\n",
       "  <tbody>\n",
       "    <tr>\n",
       "      <th>18</th>\n",
       "      <td>UrbanBusCO2e</td>\n",
       "      <td>6354.245370</td>\n",
       "    </tr>\n",
       "    <tr>\n",
       "      <th>19</th>\n",
       "      <td>UrbanBusCO2eRate</td>\n",
       "      <td>1209.567941</td>\n",
       "    </tr>\n",
       "    <tr>\n",
       "      <th>22</th>\n",
       "      <td>UrbanComSvcCO2e</td>\n",
       "      <td>33416.530242</td>\n",
       "    </tr>\n",
       "    <tr>\n",
       "      <th>26</th>\n",
       "      <td>UrbanHhCO2e</td>\n",
       "      <td>447079.006752</td>\n",
       "    </tr>\n",
       "    <tr>\n",
       "      <th>64</th>\n",
       "      <td>UrbanHvyTrkAveCO2eRate</td>\n",
       "      <td>855.449000</td>\n",
       "    </tr>\n",
       "  </tbody>\n",
       "</table>\n",
       "</div>"
      ],
      "text/plain": [
       "                   Measure            Avg\n",
       "18            UrbanBusCO2e    6354.245370\n",
       "19        UrbanBusCO2eRate    1209.567941\n",
       "22         UrbanComSvcCO2e   33416.530242\n",
       "26             UrbanHhCO2e  447079.006752\n",
       "64  UrbanHvyTrkAveCO2eRate     855.449000"
      ]
     },
     "execution_count": 260,
     "metadata": {},
     "output_type": "execute_result"
    }
   ],
   "source": [
    "meas_s.head()"
   ]
  },
  {
   "cell_type": "code",
   "execution_count": 261,
   "metadata": {},
   "outputs": [],
   "source": [
    "output4 = {m: a for m, a in zip(meas_s.Measure, meas_s.Avg)}"
   ]
  },
  {
   "cell_type": "code",
   "execution_count": 262,
   "metadata": {},
   "outputs": [],
   "source": [
    "with open(f'{inpath}/VEScenarioViewer/test_out4.json', 'w') as f:\n",
    "    json.dump(output4, f)"
   ]
  },
  {
   "cell_type": "code",
   "execution_count": 263,
   "metadata": {},
   "outputs": [
    {
     "data": {
      "text/plain": [
       "{'UrbanBusCO2e': 6354.245369851838,\n",
       " 'UrbanBusCO2eRate': 1209.56794055266,\n",
       " 'UrbanComSvcCO2e': 33416.53024216243,\n",
       " 'UrbanHhCO2e': 447079.00675226597,\n",
       " 'UrbanHvyTrkAveCO2eRate': 855.4490001201823,\n",
       " 'UrbanHvyTrkCO2e': 632860.2522703665,\n",
       " 'UrbanLdvCO2e': 487727.67575726146,\n",
       " 'UrbanLdvCO2eRate': 0.00016009293958940958,\n",
       " 'UrbanRailCO2e': 0.0,\n",
       " 'UrbanVanCO2e': 7232.138762832708}"
      ]
     },
     "execution_count": 263,
     "metadata": {},
     "output_type": "execute_result"
    }
   ],
   "source": [
    "output4"
   ]
  },
  {
   "cell_type": "code",
   "execution_count": null,
   "metadata": {},
   "outputs": [],
   "source": []
  }
 ],
 "metadata": {
  "kernelspec": {
   "display_name": "Python 3",
   "language": "python",
   "name": "python3"
  },
  "language_info": {
   "codemirror_mode": {
    "name": "ipython",
    "version": 3
   },
   "file_extension": ".py",
   "mimetype": "text/x-python",
   "name": "python",
   "nbconvert_exporter": "python",
   "pygments_lexer": "ipython3",
   "version": "3.8.3"
  }
 },
 "nbformat": 4,
 "nbformat_minor": 4
}
