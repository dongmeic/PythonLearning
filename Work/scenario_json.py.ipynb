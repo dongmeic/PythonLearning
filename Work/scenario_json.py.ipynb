{
 "cells": [
  {
   "cell_type": "code",
   "execution_count": 1,
   "metadata": {},
   "outputs": [],
   "source": [
    "import json\n",
    "import pandas as pd"
   ]
  },
  {
   "cell_type": "code",
   "execution_count": 61,
   "metadata": {},
   "outputs": [],
   "source": [
    "inpath = '/Users/dongmeichen/OneDrive - lanecouncilofgovernments/VE-RSPM'"
   ]
  },
  {
   "cell_type": "code",
   "execution_count": 62,
   "metadata": {},
   "outputs": [],
   "source": [
    "scen = pd.read_csv(f'{inpath}/sensitivity_tests/scenario_list.csv')"
   ]
  },
  {
   "cell_type": "code",
   "execution_count": 63,
   "metadata": {},
   "outputs": [
    {
     "data": {
      "text/html": [
       "<div>\n",
       "<style scoped>\n",
       "    .dataframe tbody tr th:only-of-type {\n",
       "        vertical-align: middle;\n",
       "    }\n",
       "\n",
       "    .dataframe tbody tr th {\n",
       "        vertical-align: top;\n",
       "    }\n",
       "\n",
       "    .dataframe thead th {\n",
       "        text-align: right;\n",
       "    }\n",
       "</style>\n",
       "<table border=\"1\" class=\"dataframe\">\n",
       "  <thead>\n",
       "    <tr style=\"text-align: right;\">\n",
       "      <th></th>\n",
       "      <th>B</th>\n",
       "      <th>C</th>\n",
       "      <th>D</th>\n",
       "      <th>E</th>\n",
       "      <th>F</th>\n",
       "      <th>G</th>\n",
       "      <th>I</th>\n",
       "      <th>P</th>\n",
       "      <th>T</th>\n",
       "      <th>V</th>\n",
       "      <th>S</th>\n",
       "    </tr>\n",
       "  </thead>\n",
       "  <tbody>\n",
       "    <tr>\n",
       "      <th>0</th>\n",
       "      <td>0</td>\n",
       "      <td>1</td>\n",
       "      <td>1</td>\n",
       "      <td>1</td>\n",
       "      <td>0</td>\n",
       "      <td>1</td>\n",
       "      <td>1</td>\n",
       "      <td>0</td>\n",
       "      <td>1</td>\n",
       "      <td>1</td>\n",
       "      <td>B0C1D1E1F0G1I1P0T1V1</td>\n",
       "    </tr>\n",
       "    <tr>\n",
       "      <th>1</th>\n",
       "      <td>1</td>\n",
       "      <td>1</td>\n",
       "      <td>1</td>\n",
       "      <td>1</td>\n",
       "      <td>0</td>\n",
       "      <td>1</td>\n",
       "      <td>1</td>\n",
       "      <td>0</td>\n",
       "      <td>1</td>\n",
       "      <td>1</td>\n",
       "      <td>B1C1D1E1F0G1I1P0T1V1</td>\n",
       "    </tr>\n",
       "    <tr>\n",
       "      <th>2</th>\n",
       "      <td>2</td>\n",
       "      <td>1</td>\n",
       "      <td>1</td>\n",
       "      <td>1</td>\n",
       "      <td>0</td>\n",
       "      <td>1</td>\n",
       "      <td>1</td>\n",
       "      <td>0</td>\n",
       "      <td>1</td>\n",
       "      <td>1</td>\n",
       "      <td>B2C1D1E1F0G1I1P0T1V1</td>\n",
       "    </tr>\n",
       "    <tr>\n",
       "      <th>3</th>\n",
       "      <td>0</td>\n",
       "      <td>2</td>\n",
       "      <td>1</td>\n",
       "      <td>1</td>\n",
       "      <td>0</td>\n",
       "      <td>1</td>\n",
       "      <td>1</td>\n",
       "      <td>0</td>\n",
       "      <td>1</td>\n",
       "      <td>1</td>\n",
       "      <td>B0C2D1E1F0G1I1P0T1V1</td>\n",
       "    </tr>\n",
       "    <tr>\n",
       "      <th>4</th>\n",
       "      <td>1</td>\n",
       "      <td>2</td>\n",
       "      <td>1</td>\n",
       "      <td>1</td>\n",
       "      <td>0</td>\n",
       "      <td>1</td>\n",
       "      <td>1</td>\n",
       "      <td>0</td>\n",
       "      <td>1</td>\n",
       "      <td>1</td>\n",
       "      <td>B1C2D1E1F0G1I1P0T1V1</td>\n",
       "    </tr>\n",
       "  </tbody>\n",
       "</table>\n",
       "</div>"
      ],
      "text/plain": [
       "   B  C  D  E  F  G  I  P  T  V                     S\n",
       "0  0  1  1  1  0  1  1  0  1  1  B0C1D1E1F0G1I1P0T1V1\n",
       "1  1  1  1  1  0  1  1  0  1  1  B1C1D1E1F0G1I1P0T1V1\n",
       "2  2  1  1  1  0  1  1  0  1  1  B2C1D1E1F0G1I1P0T1V1\n",
       "3  0  2  1  1  0  1  1  0  1  1  B0C2D1E1F0G1I1P0T1V1\n",
       "4  1  2  1  1  0  1  1  0  1  1  B1C2D1E1F0G1I1P0T1V1"
      ]
     },
     "execution_count": 63,
     "metadata": {},
     "output_type": "execute_result"
    }
   ],
   "source": [
    "scen.head()"
   ]
  },
  {
   "cell_type": "code",
   "execution_count": 64,
   "metadata": {},
   "outputs": [
    {
     "data": {
      "text/html": [
       "<div>\n",
       "<style scoped>\n",
       "    .dataframe tbody tr th:only-of-type {\n",
       "        vertical-align: middle;\n",
       "    }\n",
       "\n",
       "    .dataframe tbody tr th {\n",
       "        vertical-align: top;\n",
       "    }\n",
       "\n",
       "    .dataframe thead th {\n",
       "        text-align: right;\n",
       "    }\n",
       "</style>\n",
       "<table border=\"1\" class=\"dataframe\">\n",
       "  <thead>\n",
       "    <tr style=\"text-align: right;\">\n",
       "      <th></th>\n",
       "      <th>B</th>\n",
       "      <th>C</th>\n",
       "      <th>D</th>\n",
       "      <th>E</th>\n",
       "      <th>F</th>\n",
       "      <th>G</th>\n",
       "      <th>I</th>\n",
       "      <th>P</th>\n",
       "      <th>T</th>\n",
       "      <th>V</th>\n",
       "      <th>Scenario</th>\n",
       "    </tr>\n",
       "  </thead>\n",
       "  <tbody>\n",
       "    <tr>\n",
       "      <th>0</th>\n",
       "      <td>0</td>\n",
       "      <td>1</td>\n",
       "      <td>1</td>\n",
       "      <td>1</td>\n",
       "      <td>0</td>\n",
       "      <td>1</td>\n",
       "      <td>1</td>\n",
       "      <td>0</td>\n",
       "      <td>1</td>\n",
       "      <td>1</td>\n",
       "      <td>B0C1D1E1F0G1I1P0T1V1</td>\n",
       "    </tr>\n",
       "    <tr>\n",
       "      <th>1</th>\n",
       "      <td>1</td>\n",
       "      <td>1</td>\n",
       "      <td>1</td>\n",
       "      <td>1</td>\n",
       "      <td>0</td>\n",
       "      <td>1</td>\n",
       "      <td>1</td>\n",
       "      <td>0</td>\n",
       "      <td>1</td>\n",
       "      <td>1</td>\n",
       "      <td>B1C1D1E1F0G1I1P0T1V1</td>\n",
       "    </tr>\n",
       "    <tr>\n",
       "      <th>2</th>\n",
       "      <td>2</td>\n",
       "      <td>1</td>\n",
       "      <td>1</td>\n",
       "      <td>1</td>\n",
       "      <td>0</td>\n",
       "      <td>1</td>\n",
       "      <td>1</td>\n",
       "      <td>0</td>\n",
       "      <td>1</td>\n",
       "      <td>1</td>\n",
       "      <td>B2C1D1E1F0G1I1P0T1V1</td>\n",
       "    </tr>\n",
       "    <tr>\n",
       "      <th>3</th>\n",
       "      <td>0</td>\n",
       "      <td>2</td>\n",
       "      <td>1</td>\n",
       "      <td>1</td>\n",
       "      <td>0</td>\n",
       "      <td>1</td>\n",
       "      <td>1</td>\n",
       "      <td>0</td>\n",
       "      <td>1</td>\n",
       "      <td>1</td>\n",
       "      <td>B0C2D1E1F0G1I1P0T1V1</td>\n",
       "    </tr>\n",
       "    <tr>\n",
       "      <th>4</th>\n",
       "      <td>1</td>\n",
       "      <td>2</td>\n",
       "      <td>1</td>\n",
       "      <td>1</td>\n",
       "      <td>0</td>\n",
       "      <td>1</td>\n",
       "      <td>1</td>\n",
       "      <td>0</td>\n",
       "      <td>1</td>\n",
       "      <td>1</td>\n",
       "      <td>B1C2D1E1F0G1I1P0T1V1</td>\n",
       "    </tr>\n",
       "  </tbody>\n",
       "</table>\n",
       "</div>"
      ],
      "text/plain": [
       "   B  C  D  E  F  G  I  P  T  V              Scenario\n",
       "0  0  1  1  1  0  1  1  0  1  1  B0C1D1E1F0G1I1P0T1V1\n",
       "1  1  1  1  1  0  1  1  0  1  1  B1C1D1E1F0G1I1P0T1V1\n",
       "2  2  1  1  1  0  1  1  0  1  1  B2C1D1E1F0G1I1P0T1V1\n",
       "3  0  2  1  1  0  1  1  0  1  1  B0C2D1E1F0G1I1P0T1V1\n",
       "4  1  2  1  1  0  1  1  0  1  1  B1C2D1E1F0G1I1P0T1V1"
      ]
     },
     "execution_count": 64,
     "metadata": {},
     "output_type": "execute_result"
    }
   ],
   "source": [
    "scen = scen.rename(columns={'S': 'Scenario'})\n",
    "#scen.rename(columns={'S': 'Scenario'}, inplace=True)\n",
    "scen.head()"
   ]
  },
  {
   "cell_type": "code",
   "execution_count": 5,
   "metadata": {},
   "outputs": [
    {
     "data": {
      "text/html": [
       "<div>\n",
       "<style scoped>\n",
       "    .dataframe tbody tr th:only-of-type {\n",
       "        vertical-align: middle;\n",
       "    }\n",
       "\n",
       "    .dataframe tbody tr th {\n",
       "        vertical-align: top;\n",
       "    }\n",
       "\n",
       "    .dataframe thead th {\n",
       "        text-align: right;\n",
       "    }\n",
       "</style>\n",
       "<table border=\"1\" class=\"dataframe\">\n",
       "  <thead>\n",
       "    <tr style=\"text-align: right;\">\n",
       "      <th></th>\n",
       "      <th>Measure</th>\n",
       "      <th>Units</th>\n",
       "      <th>Description</th>\n",
       "      <th>Value2010</th>\n",
       "      <th>B0C1D1E1F0G1I1P0T1V1</th>\n",
       "      <th>B1C1D1E1F0G1I1P0T1V1</th>\n",
       "      <th>B2C1D1E1F0G1I1P0T1V1</th>\n",
       "      <th>B0C2D1E1F0G1I1P0T1V1</th>\n",
       "      <th>B1C2D1E1F0G1I1P0T1V1</th>\n",
       "    </tr>\n",
       "  </thead>\n",
       "  <tbody>\n",
       "    <tr>\n",
       "      <th>0</th>\n",
       "      <td>HhTotDailyOthParkingCost</td>\n",
       "      <td>USD per day</td>\n",
       "      <td>Total daily non-work parking expenditures by h...</td>\n",
       "      <td>28241.275835</td>\n",
       "      <td>10480.754212</td>\n",
       "      <td>10480.754212</td>\n",
       "      <td>10480.754212</td>\n",
       "      <td>10480.754212</td>\n",
       "      <td>10480.754212</td>\n",
       "    </tr>\n",
       "    <tr>\n",
       "      <th>1</th>\n",
       "      <td>HhTotDailyWkrParkingCost</td>\n",
       "      <td>USD per day</td>\n",
       "      <td>Total daily work parking expenditures by house...</td>\n",
       "      <td>37225.367097</td>\n",
       "      <td>11550.788950</td>\n",
       "      <td>11550.788950</td>\n",
       "      <td>11550.788950</td>\n",
       "      <td>11550.788950</td>\n",
       "      <td>11550.788950</td>\n",
       "    </tr>\n",
       "    <tr>\n",
       "      <th>2</th>\n",
       "      <td>HhVehTravCostShare</td>\n",
       "      <td>Proportion</td>\n",
       "      <td>Household vehicle Own &amp; out-of-pocket costs sh...</td>\n",
       "      <td>0.171750</td>\n",
       "      <td>0.044480</td>\n",
       "      <td>0.044178</td>\n",
       "      <td>0.043809</td>\n",
       "      <td>0.044701</td>\n",
       "      <td>0.044397</td>\n",
       "    </tr>\n",
       "    <tr>\n",
       "      <th>3</th>\n",
       "      <td>HhVehTravCostShareLowInc</td>\n",
       "      <td>Proportion</td>\n",
       "      <td>Low income (0to20K 2010$) household vehicle Ow...</td>\n",
       "      <td>0.312967</td>\n",
       "      <td>0.337755</td>\n",
       "      <td>0.337755</td>\n",
       "      <td>0.337754</td>\n",
       "      <td>0.341369</td>\n",
       "      <td>0.341369</td>\n",
       "    </tr>\n",
       "    <tr>\n",
       "      <th>4</th>\n",
       "      <td>MareaCarSvcAutoDvmtProp</td>\n",
       "      <td>Proportion</td>\n",
       "      <td>Average proportion car service vehicle DVMT in...</td>\n",
       "      <td>1.000000</td>\n",
       "      <td>0.983049</td>\n",
       "      <td>0.983047</td>\n",
       "      <td>0.983043</td>\n",
       "      <td>0.981926</td>\n",
       "      <td>0.981928</td>\n",
       "    </tr>\n",
       "  </tbody>\n",
       "</table>\n",
       "</div>"
      ],
      "text/plain": [
       "                    Measure        Units  \\\n",
       "0  HhTotDailyOthParkingCost  USD per day   \n",
       "1  HhTotDailyWkrParkingCost  USD per day   \n",
       "2        HhVehTravCostShare   Proportion   \n",
       "3  HhVehTravCostShareLowInc   Proportion   \n",
       "4   MareaCarSvcAutoDvmtProp   Proportion   \n",
       "\n",
       "                                         Description     Value2010  \\\n",
       "0  Total daily non-work parking expenditures by h...  28241.275835   \n",
       "1  Total daily work parking expenditures by house...  37225.367097   \n",
       "2  Household vehicle Own & out-of-pocket costs sh...      0.171750   \n",
       "3  Low income (0to20K 2010$) household vehicle Ow...      0.312967   \n",
       "4  Average proportion car service vehicle DVMT in...      1.000000   \n",
       "\n",
       "   B0C1D1E1F0G1I1P0T1V1  B1C1D1E1F0G1I1P0T1V1  B2C1D1E1F0G1I1P0T1V1  \\\n",
       "0          10480.754212          10480.754212          10480.754212   \n",
       "1          11550.788950          11550.788950          11550.788950   \n",
       "2              0.044480              0.044178              0.043809   \n",
       "3              0.337755              0.337755              0.337754   \n",
       "4              0.983049              0.983047              0.983043   \n",
       "\n",
       "   B0C2D1E1F0G1I1P0T1V1  B1C2D1E1F0G1I1P0T1V1  \n",
       "0          10480.754212          10480.754212  \n",
       "1          11550.788950          11550.788950  \n",
       "2              0.044701              0.044397  \n",
       "3              0.341369              0.341369  \n",
       "4              0.981926              0.981928  "
      ]
     },
     "execution_count": 5,
     "metadata": {},
     "output_type": "execute_result"
    }
   ],
   "source": [
    "meas = pd.read_csv(f'{inpath}/output/Measures_Sensitivity_Output_2.csv')\n",
    "meas.head()"
   ]
  },
  {
   "cell_type": "code",
   "execution_count": 68,
   "metadata": {},
   "outputs": [
    {
     "name": "stdout",
     "output_type": "stream",
     "text": [
      "(0, B                              0\n",
      "C                              1\n",
      "D                              1\n",
      "E                              1\n",
      "F                              0\n",
      "G                              1\n",
      "I                              1\n",
      "P                              0\n",
      "T                              1\n",
      "V                              1\n",
      "Scenario    B0C1D1E1F0G1I1P0T1V1\n",
      "Name: 0, dtype: object)\n"
     ]
    }
   ],
   "source": [
    "for x in scen.iterrows():\n",
    "    print(x)\n",
    "    break"
   ]
  },
  {
   "cell_type": "code",
   "execution_count": 65,
   "metadata": {},
   "outputs": [],
   "source": [
    "def rows_to_dicts(df):\n",
    "    out = []\n",
    "    fields = list(df)\n",
    "    out = [{field:val for field, val in zip(fields, values)} \n",
    "           for _, values in df.iterrows()]\n",
    "    return out"
   ]
  },
  {
   "cell_type": "code",
   "execution_count": 108,
   "metadata": {},
   "outputs": [],
   "source": [
    "fields = list(scen)"
   ]
  },
  {
   "cell_type": "code",
   "execution_count": 109,
   "metadata": {},
   "outputs": [
    {
     "data": {
      "text/plain": [
       "['B', 'C', 'D', 'E', 'F', 'G', 'I', 'P', 'T', 'V', 'Scenario']"
      ]
     },
     "execution_count": 109,
     "metadata": {},
     "output_type": "execute_result"
    }
   ],
   "source": [
    "fields"
   ]
  },
  {
   "cell_type": "code",
   "execution_count": 66,
   "metadata": {},
   "outputs": [],
   "source": [
    "output = rows_to_dicts(scen)"
   ]
  },
  {
   "cell_type": "code",
   "execution_count": 69,
   "metadata": {},
   "outputs": [
    {
     "name": "stdout",
     "output_type": "stream",
     "text": [
      "69984\n"
     ]
    },
    {
     "data": {
      "text/plain": [
       "69984"
      ]
     },
     "execution_count": 69,
     "metadata": {},
     "output_type": "execute_result"
    }
   ],
   "source": [
    "print(len(output))\n",
    "len(scen.Scenario.unique())"
   ]
  },
  {
   "cell_type": "code",
   "execution_count": 70,
   "metadata": {},
   "outputs": [
    {
     "data": {
      "text/plain": [
       "['UrbanBusCO2e',\n",
       " 'UrbanBusCO2eRate',\n",
       " 'UrbanComSvcCO2e',\n",
       " 'UrbanHhCO2e',\n",
       " 'UrbanHvyTrkAveCO2eRate',\n",
       " 'UrbanHvyTrkCO2e',\n",
       " 'UrbanLdvCO2e',\n",
       " 'UrbanLdvCO2eRate',\n",
       " 'UrbanRailCO2e',\n",
       " 'UrbanVanCO2e']"
      ]
     },
     "execution_count": 70,
     "metadata": {},
     "output_type": "execute_result"
    }
   ],
   "source": [
    "co2_vals = [x for x in meas['Measure'] if 'CO2' in x]\n",
    "co2_vals"
   ]
  },
  {
   "cell_type": "code",
   "execution_count": 71,
   "metadata": {},
   "outputs": [
    {
     "data": {
      "text/plain": [
       "10"
      ]
     },
     "execution_count": 71,
     "metadata": {},
     "output_type": "execute_result"
    }
   ],
   "source": [
    "len(co2_vals)"
   ]
  },
  {
   "cell_type": "code",
   "execution_count": 72,
   "metadata": {},
   "outputs": [],
   "source": [
    "def vals_from_scenario(scenario, meas_df, subset=None):\n",
    "    subset = meas_df.Measure.unique() if subset is None else subset\n",
    "    try:\n",
    "        out = {field: meas_df.loc[meas_df.Measure == field, scenario].values[0]\n",
    "              for field in subset}\n",
    "        return out\n",
    "    except KeyError:\n",
    "        return {}\n",
    "    except:\n",
    "        raise"
   ]
  },
  {
   "cell_type": "code",
   "execution_count": 73,
   "metadata": {},
   "outputs": [
    {
     "data": {
      "text/plain": [
       "{'UrbanBusCO2e': 6469.76823895145,\n",
       " 'UrbanBusCO2eRate': 1231.55839744099,\n",
       " 'UrbanComSvcCO2e': 34237.365820358,\n",
       " 'UrbanHhCO2e': 458407.02164538,\n",
       " 'UrbanHvyTrkAveCO2eRate': 855.711475785546,\n",
       " 'UrbanHvyTrkCO2e': 633054.431485929,\n",
       " 'UrbanLdvCO2e': 500437.687112108,\n",
       " 'UrbanLdvCO2eRate': 0.00016033916729636498,\n",
       " 'UrbanRailCO2e': 0.0,\n",
       " 'UrbanVanCO2e': 7793.299646370079}"
      ]
     },
     "execution_count": 73,
     "metadata": {},
     "output_type": "execute_result"
    }
   ],
   "source": [
    "vals_from_scenario('B0C1D1E1F0G1I1P0T1V1', meas, co2_vals)"
   ]
  },
  {
   "cell_type": "code",
   "execution_count": 74,
   "metadata": {},
   "outputs": [],
   "source": [
    "def append_scenario_vals(outputs, meas_df, subset=None):\n",
    "    for d in outputs:\n",
    "        scenario = d['Scenario']\n",
    "        scenario_vals = vals_from_scenario(scenario, meas_df, subset)\n",
    "        d.update(scenario_vals)\n",
    "    return outputs"
   ]
  },
  {
   "cell_type": "code",
   "execution_count": 75,
   "metadata": {},
   "outputs": [],
   "source": [
    "test = append_scenario_vals(output, meas, co2_vals)"
   ]
  },
  {
   "cell_type": "code",
   "execution_count": 76,
   "metadata": {},
   "outputs": [
    {
     "data": {
      "text/plain": [
       "{'B': 0,\n",
       " 'C': 1,\n",
       " 'D': 1,\n",
       " 'E': 1,\n",
       " 'F': 0,\n",
       " 'G': 1,\n",
       " 'I': 1,\n",
       " 'P': 0,\n",
       " 'T': 1,\n",
       " 'V': 1,\n",
       " 'Scenario': 'B0C1D1E1F0G1I1P0T1V1',\n",
       " 'UrbanBusCO2e': 6469.76823895145,\n",
       " 'UrbanBusCO2eRate': 1231.55839744099,\n",
       " 'UrbanComSvcCO2e': 34237.365820358,\n",
       " 'UrbanHhCO2e': 458407.02164538,\n",
       " 'UrbanHvyTrkAveCO2eRate': 855.711475785546,\n",
       " 'UrbanHvyTrkCO2e': 633054.431485929,\n",
       " 'UrbanLdvCO2e': 500437.687112108,\n",
       " 'UrbanLdvCO2eRate': 0.00016033916729636498,\n",
       " 'UrbanRailCO2e': 0.0,\n",
       " 'UrbanVanCO2e': 7793.299646370079}"
      ]
     },
     "execution_count": 76,
     "metadata": {},
     "output_type": "execute_result"
    }
   ],
   "source": [
    "test[0]"
   ]
  },
  {
   "cell_type": "code",
   "execution_count": 77,
   "metadata": {},
   "outputs": [
    {
     "data": {
      "text/plain": [
       "{'B': 2,\n",
       " 'C': 3,\n",
       " 'D': 3,\n",
       " 'E': 3,\n",
       " 'F': 3,\n",
       " 'G': 3,\n",
       " 'I': 3,\n",
       " 'P': 3,\n",
       " 'T': 3,\n",
       " 'V': 2,\n",
       " 'Scenario': 'B2C3D3E3F3G3I3P3T3V2'}"
      ]
     },
     "execution_count": 77,
     "metadata": {},
     "output_type": "execute_result"
    }
   ],
   "source": [
    "test[-1]"
   ]
  },
  {
   "cell_type": "code",
   "execution_count": 78,
   "metadata": {},
   "outputs": [],
   "source": [
    "with open(f'{inpath}/VEScenarioViewer/test_out.json', 'w') as f:\n",
    "    json.dump(test, f)"
   ]
  },
  {
   "cell_type": "code",
   "execution_count": 38,
   "metadata": {},
   "outputs": [],
   "source": [
    "#!open ./test_out.json"
   ]
  },
  {
   "cell_type": "code",
   "execution_count": 39,
   "metadata": {},
   "outputs": [],
   "source": [
    "#!rm ./test_out.json"
   ]
  },
  {
   "cell_type": "code",
   "execution_count": 90,
   "metadata": {},
   "outputs": [],
   "source": [
    "# organize measure notes\n",
    "meas_notes = meas[[\"Measure\", \"Units\", \"Description\"]]"
   ]
  },
  {
   "cell_type": "code",
   "execution_count": 91,
   "metadata": {},
   "outputs": [
    {
     "data": {
      "text/html": [
       "<div>\n",
       "<style scoped>\n",
       "    .dataframe tbody tr th:only-of-type {\n",
       "        vertical-align: middle;\n",
       "    }\n",
       "\n",
       "    .dataframe tbody tr th {\n",
       "        vertical-align: top;\n",
       "    }\n",
       "\n",
       "    .dataframe thead th {\n",
       "        text-align: right;\n",
       "    }\n",
       "</style>\n",
       "<table border=\"1\" class=\"dataframe\">\n",
       "  <thead>\n",
       "    <tr style=\"text-align: right;\">\n",
       "      <th></th>\n",
       "      <th>Measure</th>\n",
       "      <th>Units</th>\n",
       "      <th>Description</th>\n",
       "    </tr>\n",
       "  </thead>\n",
       "  <tbody>\n",
       "    <tr>\n",
       "      <th>0</th>\n",
       "      <td>HhTotDailyOthParkingCost</td>\n",
       "      <td>USD per day</td>\n",
       "      <td>Total daily non-work parking expenditures by h...</td>\n",
       "    </tr>\n",
       "    <tr>\n",
       "      <th>1</th>\n",
       "      <td>HhTotDailyWkrParkingCost</td>\n",
       "      <td>USD per day</td>\n",
       "      <td>Total daily work parking expenditures by house...</td>\n",
       "    </tr>\n",
       "    <tr>\n",
       "      <th>2</th>\n",
       "      <td>HhVehTravCostShare</td>\n",
       "      <td>Proportion</td>\n",
       "      <td>Household vehicle Own &amp; out-of-pocket costs sh...</td>\n",
       "    </tr>\n",
       "    <tr>\n",
       "      <th>3</th>\n",
       "      <td>HhVehTravCostShareLowInc</td>\n",
       "      <td>Proportion</td>\n",
       "      <td>Low income (0to20K 2010$) household vehicle Ow...</td>\n",
       "    </tr>\n",
       "    <tr>\n",
       "      <th>4</th>\n",
       "      <td>MareaCarSvcAutoDvmtProp</td>\n",
       "      <td>Proportion</td>\n",
       "      <td>Average proportion car service vehicle DVMT in...</td>\n",
       "    </tr>\n",
       "  </tbody>\n",
       "</table>\n",
       "</div>"
      ],
      "text/plain": [
       "                    Measure        Units  \\\n",
       "0  HhTotDailyOthParkingCost  USD per day   \n",
       "1  HhTotDailyWkrParkingCost  USD per day   \n",
       "2        HhVehTravCostShare   Proportion   \n",
       "3  HhVehTravCostShareLowInc   Proportion   \n",
       "4   MareaCarSvcAutoDvmtProp   Proportion   \n",
       "\n",
       "                                         Description  \n",
       "0  Total daily non-work parking expenditures by h...  \n",
       "1  Total daily work parking expenditures by house...  \n",
       "2  Household vehicle Own & out-of-pocket costs sh...  \n",
       "3  Low income (0to20K 2010$) household vehicle Ow...  \n",
       "4  Average proportion car service vehicle DVMT in...  "
      ]
     },
     "execution_count": 91,
     "metadata": {},
     "output_type": "execute_result"
    }
   ],
   "source": [
    "meas_notes.head()"
   ]
  },
  {
   "cell_type": "code",
   "execution_count": 92,
   "metadata": {},
   "outputs": [],
   "source": [
    "# NAME, LABEL, DESCRIPTION, INSTRUCTIONS, METRIC, UNIT, COLUMN\n",
    "meas_notes = meas_notes.rename(columns={'Measure': 'NAME', 'Units': 'UNIT', 'Description':'DESCRIPTION'})"
   ]
  },
  {
   "cell_type": "code",
   "execution_count": 93,
   "metadata": {},
   "outputs": [
    {
     "data": {
      "text/html": [
       "<div>\n",
       "<style scoped>\n",
       "    .dataframe tbody tr th:only-of-type {\n",
       "        vertical-align: middle;\n",
       "    }\n",
       "\n",
       "    .dataframe tbody tr th {\n",
       "        vertical-align: top;\n",
       "    }\n",
       "\n",
       "    .dataframe thead th {\n",
       "        text-align: right;\n",
       "    }\n",
       "</style>\n",
       "<table border=\"1\" class=\"dataframe\">\n",
       "  <thead>\n",
       "    <tr style=\"text-align: right;\">\n",
       "      <th></th>\n",
       "      <th>NAME</th>\n",
       "      <th>UNIT</th>\n",
       "      <th>DESCRIPTION</th>\n",
       "    </tr>\n",
       "  </thead>\n",
       "  <tbody>\n",
       "    <tr>\n",
       "      <th>0</th>\n",
       "      <td>HhTotDailyOthParkingCost</td>\n",
       "      <td>USD per day</td>\n",
       "      <td>Total daily non-work parking expenditures by h...</td>\n",
       "    </tr>\n",
       "    <tr>\n",
       "      <th>1</th>\n",
       "      <td>HhTotDailyWkrParkingCost</td>\n",
       "      <td>USD per day</td>\n",
       "      <td>Total daily work parking expenditures by house...</td>\n",
       "    </tr>\n",
       "    <tr>\n",
       "      <th>2</th>\n",
       "      <td>HhVehTravCostShare</td>\n",
       "      <td>Proportion</td>\n",
       "      <td>Household vehicle Own &amp; out-of-pocket costs sh...</td>\n",
       "    </tr>\n",
       "    <tr>\n",
       "      <th>3</th>\n",
       "      <td>HhVehTravCostShareLowInc</td>\n",
       "      <td>Proportion</td>\n",
       "      <td>Low income (0to20K 2010$) household vehicle Ow...</td>\n",
       "    </tr>\n",
       "    <tr>\n",
       "      <th>4</th>\n",
       "      <td>MareaCarSvcAutoDvmtProp</td>\n",
       "      <td>Proportion</td>\n",
       "      <td>Average proportion car service vehicle DVMT in...</td>\n",
       "    </tr>\n",
       "  </tbody>\n",
       "</table>\n",
       "</div>"
      ],
      "text/plain": [
       "                       NAME         UNIT  \\\n",
       "0  HhTotDailyOthParkingCost  USD per day   \n",
       "1  HhTotDailyWkrParkingCost  USD per day   \n",
       "2        HhVehTravCostShare   Proportion   \n",
       "3  HhVehTravCostShareLowInc   Proportion   \n",
       "4   MareaCarSvcAutoDvmtProp   Proportion   \n",
       "\n",
       "                                         DESCRIPTION  \n",
       "0  Total daily non-work parking expenditures by h...  \n",
       "1  Total daily work parking expenditures by house...  \n",
       "2  Household vehicle Own & out-of-pocket costs sh...  \n",
       "3  Low income (0to20K 2010$) household vehicle Ow...  \n",
       "4  Average proportion car service vehicle DVMT in...  "
      ]
     },
     "execution_count": 93,
     "metadata": {},
     "output_type": "execute_result"
    }
   ],
   "source": [
    "meas_notes.head()"
   ]
  },
  {
   "cell_type": "code",
   "execution_count": 99,
   "metadata": {},
   "outputs": [],
   "source": [
    "meas_notes.loc[:,'LABEL'] = meas_notes.loc[:,'NAME']\n",
    "meas_notes.loc[:,'COLUMN']= meas_notes.loc[:,'NAME']"
   ]
  },
  {
   "cell_type": "code",
   "execution_count": 100,
   "metadata": {},
   "outputs": [
    {
     "data": {
      "text/html": [
       "<div>\n",
       "<style scoped>\n",
       "    .dataframe tbody tr th:only-of-type {\n",
       "        vertical-align: middle;\n",
       "    }\n",
       "\n",
       "    .dataframe tbody tr th {\n",
       "        vertical-align: top;\n",
       "    }\n",
       "\n",
       "    .dataframe thead th {\n",
       "        text-align: right;\n",
       "    }\n",
       "</style>\n",
       "<table border=\"1\" class=\"dataframe\">\n",
       "  <thead>\n",
       "    <tr style=\"text-align: right;\">\n",
       "      <th></th>\n",
       "      <th>NAME</th>\n",
       "      <th>UNIT</th>\n",
       "      <th>DESCRIPTION</th>\n",
       "      <th>LABEL</th>\n",
       "      <th>COLUMN</th>\n",
       "    </tr>\n",
       "  </thead>\n",
       "  <tbody>\n",
       "    <tr>\n",
       "      <th>0</th>\n",
       "      <td>HhTotDailyOthParkingCost</td>\n",
       "      <td>USD per day</td>\n",
       "      <td>Total daily non-work parking expenditures by h...</td>\n",
       "      <td>HhTotDailyOthParkingCost</td>\n",
       "      <td>HhTotDailyOthParkingCost</td>\n",
       "    </tr>\n",
       "    <tr>\n",
       "      <th>1</th>\n",
       "      <td>HhTotDailyWkrParkingCost</td>\n",
       "      <td>USD per day</td>\n",
       "      <td>Total daily work parking expenditures by house...</td>\n",
       "      <td>HhTotDailyWkrParkingCost</td>\n",
       "      <td>HhTotDailyWkrParkingCost</td>\n",
       "    </tr>\n",
       "    <tr>\n",
       "      <th>2</th>\n",
       "      <td>HhVehTravCostShare</td>\n",
       "      <td>Proportion</td>\n",
       "      <td>Household vehicle Own &amp; out-of-pocket costs sh...</td>\n",
       "      <td>HhVehTravCostShare</td>\n",
       "      <td>HhVehTravCostShare</td>\n",
       "    </tr>\n",
       "    <tr>\n",
       "      <th>3</th>\n",
       "      <td>HhVehTravCostShareLowInc</td>\n",
       "      <td>Proportion</td>\n",
       "      <td>Low income (0to20K 2010$) household vehicle Ow...</td>\n",
       "      <td>HhVehTravCostShareLowInc</td>\n",
       "      <td>HhVehTravCostShareLowInc</td>\n",
       "    </tr>\n",
       "    <tr>\n",
       "      <th>4</th>\n",
       "      <td>MareaCarSvcAutoDvmtProp</td>\n",
       "      <td>Proportion</td>\n",
       "      <td>Average proportion car service vehicle DVMT in...</td>\n",
       "      <td>MareaCarSvcAutoDvmtProp</td>\n",
       "      <td>MareaCarSvcAutoDvmtProp</td>\n",
       "    </tr>\n",
       "  </tbody>\n",
       "</table>\n",
       "</div>"
      ],
      "text/plain": [
       "                       NAME         UNIT  \\\n",
       "0  HhTotDailyOthParkingCost  USD per day   \n",
       "1  HhTotDailyWkrParkingCost  USD per day   \n",
       "2        HhVehTravCostShare   Proportion   \n",
       "3  HhVehTravCostShareLowInc   Proportion   \n",
       "4   MareaCarSvcAutoDvmtProp   Proportion   \n",
       "\n",
       "                                         DESCRIPTION  \\\n",
       "0  Total daily non-work parking expenditures by h...   \n",
       "1  Total daily work parking expenditures by house...   \n",
       "2  Household vehicle Own & out-of-pocket costs sh...   \n",
       "3  Low income (0to20K 2010$) household vehicle Ow...   \n",
       "4  Average proportion car service vehicle DVMT in...   \n",
       "\n",
       "                      LABEL                    COLUMN  \n",
       "0  HhTotDailyOthParkingCost  HhTotDailyOthParkingCost  \n",
       "1  HhTotDailyWkrParkingCost  HhTotDailyWkrParkingCost  \n",
       "2        HhVehTravCostShare        HhVehTravCostShare  \n",
       "3  HhVehTravCostShareLowInc  HhVehTravCostShareLowInc  \n",
       "4   MareaCarSvcAutoDvmtProp   MareaCarSvcAutoDvmtProp  "
      ]
     },
     "execution_count": 100,
     "metadata": {},
     "output_type": "execute_result"
    }
   ],
   "source": [
    "meas_notes.head()"
   ]
  },
  {
   "cell_type": "code",
   "execution_count": 101,
   "metadata": {},
   "outputs": [],
   "source": [
    "meas_notes.loc[:,'INSTRUCTIONS'] = meas_notes.loc[:,'DESCRIPTION']"
   ]
  },
  {
   "cell_type": "code",
   "execution_count": 102,
   "metadata": {},
   "outputs": [],
   "source": [
    "meas_notes.loc[:,'METRIC'] = 'Average'"
   ]
  },
  {
   "cell_type": "code",
   "execution_count": 103,
   "metadata": {},
   "outputs": [],
   "source": [
    "meas_notes = meas_notes[['NAME', 'LABEL', 'DESCRIPTION', 'INSTRUCTIONS', 'METRIC', 'UNIT', 'COLUMN']]"
   ]
  },
  {
   "cell_type": "code",
   "execution_count": 104,
   "metadata": {},
   "outputs": [
    {
     "data": {
      "text/html": [
       "<div>\n",
       "<style scoped>\n",
       "    .dataframe tbody tr th:only-of-type {\n",
       "        vertical-align: middle;\n",
       "    }\n",
       "\n",
       "    .dataframe tbody tr th {\n",
       "        vertical-align: top;\n",
       "    }\n",
       "\n",
       "    .dataframe thead th {\n",
       "        text-align: right;\n",
       "    }\n",
       "</style>\n",
       "<table border=\"1\" class=\"dataframe\">\n",
       "  <thead>\n",
       "    <tr style=\"text-align: right;\">\n",
       "      <th></th>\n",
       "      <th>NAME</th>\n",
       "      <th>LABEL</th>\n",
       "      <th>DESCRIPTION</th>\n",
       "      <th>INSTRUCTIONS</th>\n",
       "      <th>METRIC</th>\n",
       "      <th>UNIT</th>\n",
       "      <th>COLUMN</th>\n",
       "    </tr>\n",
       "  </thead>\n",
       "  <tbody>\n",
       "    <tr>\n",
       "      <th>0</th>\n",
       "      <td>HhTotDailyOthParkingCost</td>\n",
       "      <td>HhTotDailyOthParkingCost</td>\n",
       "      <td>Total daily non-work parking expenditures by h...</td>\n",
       "      <td>Total daily non-work parking expenditures by h...</td>\n",
       "      <td>Average</td>\n",
       "      <td>USD per day</td>\n",
       "      <td>HhTotDailyOthParkingCost</td>\n",
       "    </tr>\n",
       "    <tr>\n",
       "      <th>1</th>\n",
       "      <td>HhTotDailyWkrParkingCost</td>\n",
       "      <td>HhTotDailyWkrParkingCost</td>\n",
       "      <td>Total daily work parking expenditures by house...</td>\n",
       "      <td>Total daily work parking expenditures by house...</td>\n",
       "      <td>Average</td>\n",
       "      <td>USD per day</td>\n",
       "      <td>HhTotDailyWkrParkingCost</td>\n",
       "    </tr>\n",
       "    <tr>\n",
       "      <th>2</th>\n",
       "      <td>HhVehTravCostShare</td>\n",
       "      <td>HhVehTravCostShare</td>\n",
       "      <td>Household vehicle Own &amp; out-of-pocket costs sh...</td>\n",
       "      <td>Household vehicle Own &amp; out-of-pocket costs sh...</td>\n",
       "      <td>Average</td>\n",
       "      <td>Proportion</td>\n",
       "      <td>HhVehTravCostShare</td>\n",
       "    </tr>\n",
       "    <tr>\n",
       "      <th>3</th>\n",
       "      <td>HhVehTravCostShareLowInc</td>\n",
       "      <td>HhVehTravCostShareLowInc</td>\n",
       "      <td>Low income (0to20K 2010$) household vehicle Ow...</td>\n",
       "      <td>Low income (0to20K 2010$) household vehicle Ow...</td>\n",
       "      <td>Average</td>\n",
       "      <td>Proportion</td>\n",
       "      <td>HhVehTravCostShareLowInc</td>\n",
       "    </tr>\n",
       "    <tr>\n",
       "      <th>4</th>\n",
       "      <td>MareaCarSvcAutoDvmtProp</td>\n",
       "      <td>MareaCarSvcAutoDvmtProp</td>\n",
       "      <td>Average proportion car service vehicle DVMT in...</td>\n",
       "      <td>Average proportion car service vehicle DVMT in...</td>\n",
       "      <td>Average</td>\n",
       "      <td>Proportion</td>\n",
       "      <td>MareaCarSvcAutoDvmtProp</td>\n",
       "    </tr>\n",
       "  </tbody>\n",
       "</table>\n",
       "</div>"
      ],
      "text/plain": [
       "                       NAME                     LABEL  \\\n",
       "0  HhTotDailyOthParkingCost  HhTotDailyOthParkingCost   \n",
       "1  HhTotDailyWkrParkingCost  HhTotDailyWkrParkingCost   \n",
       "2        HhVehTravCostShare        HhVehTravCostShare   \n",
       "3  HhVehTravCostShareLowInc  HhVehTravCostShareLowInc   \n",
       "4   MareaCarSvcAutoDvmtProp   MareaCarSvcAutoDvmtProp   \n",
       "\n",
       "                                         DESCRIPTION  \\\n",
       "0  Total daily non-work parking expenditures by h...   \n",
       "1  Total daily work parking expenditures by house...   \n",
       "2  Household vehicle Own & out-of-pocket costs sh...   \n",
       "3  Low income (0to20K 2010$) household vehicle Ow...   \n",
       "4  Average proportion car service vehicle DVMT in...   \n",
       "\n",
       "                                        INSTRUCTIONS   METRIC         UNIT  \\\n",
       "0  Total daily non-work parking expenditures by h...  Average  USD per day   \n",
       "1  Total daily work parking expenditures by house...  Average  USD per day   \n",
       "2  Household vehicle Own & out-of-pocket costs sh...  Average   Proportion   \n",
       "3  Low income (0to20K 2010$) household vehicle Ow...  Average   Proportion   \n",
       "4  Average proportion car service vehicle DVMT in...  Average   Proportion   \n",
       "\n",
       "                     COLUMN  \n",
       "0  HhTotDailyOthParkingCost  \n",
       "1  HhTotDailyWkrParkingCost  \n",
       "2        HhVehTravCostShare  \n",
       "3  HhVehTravCostShareLowInc  \n",
       "4   MareaCarSvcAutoDvmtProp  "
      ]
     },
     "execution_count": 104,
     "metadata": {},
     "output_type": "execute_result"
    }
   ],
   "source": [
    "meas_notes.head()"
   ]
  },
  {
   "cell_type": "code",
   "execution_count": 117,
   "metadata": {},
   "outputs": [],
   "source": [
    "meas_notes_subset = meas_notes.loc[meas_notes['NAME'].isin(co2_vals)]"
   ]
  },
  {
   "cell_type": "code",
   "execution_count": 118,
   "metadata": {},
   "outputs": [],
   "source": [
    "output2 = rows_to_dicts(meas_notes_subset)"
   ]
  },
  {
   "cell_type": "code",
   "execution_count": 119,
   "metadata": {},
   "outputs": [
    {
     "data": {
      "text/plain": [
       "{'NAME': 'UrbanBusCO2e',\n",
       " 'LABEL': 'UrbanBusCO2e',\n",
       " 'DESCRIPTION': 'Average annual production of greenhouse gas emissions from public transit bus travel in the urban area',\n",
       " 'INSTRUCTIONS': 'Average annual production of greenhouse gas emissions from public transit bus travel in the urban area',\n",
       " 'METRIC': 'Average',\n",
       " 'UNIT': 'Metric tons CO2e per year',\n",
       " 'COLUMN': 'UrbanBusCO2e'}"
      ]
     },
     "execution_count": 119,
     "metadata": {},
     "output_type": "execute_result"
    }
   ],
   "source": [
    "output2[0]"
   ]
  },
  {
   "cell_type": "code",
   "execution_count": 120,
   "metadata": {},
   "outputs": [],
   "source": [
    "with open(f'{inpath}/VEScenarioViewer/test_out2.json', 'w') as f:\n",
    "    json.dump(output2, f)"
   ]
  },
  {
   "cell_type": "code",
   "execution_count": 122,
   "metadata": {},
   "outputs": [],
   "source": [
    "# organize category and levels\n",
    "cat_levels = pd.read_csv(f'{inpath}/sensitivity_tests/sensitivity_scenarios.csv')"
   ]
  },
  {
   "cell_type": "code",
   "execution_count": 123,
   "metadata": {},
   "outputs": [
    {
     "data": {
      "text/html": [
       "<div>\n",
       "<style scoped>\n",
       "    .dataframe tbody tr th:only-of-type {\n",
       "        vertical-align: middle;\n",
       "    }\n",
       "\n",
       "    .dataframe tbody tr th {\n",
       "        vertical-align: top;\n",
       "    }\n",
       "\n",
       "    .dataframe thead th {\n",
       "        text-align: right;\n",
       "    }\n",
       "</style>\n",
       "<table border=\"1\" class=\"dataframe\">\n",
       "  <thead>\n",
       "    <tr style=\"text-align: right;\">\n",
       "      <th></th>\n",
       "      <th>strategy_label</th>\n",
       "      <th>strategy_description</th>\n",
       "      <th>strategy_level</th>\n",
       "      <th>category_name</th>\n",
       "      <th>category_label</th>\n",
       "      <th>category_description</th>\n",
       "      <th>category_instructions</th>\n",
       "      <th>file</th>\n",
       "      <th>geo</th>\n",
       "      <th>city</th>\n",
       "      <th>variable</th>\n",
       "      <th>policy_name</th>\n",
       "      <th>policy_label</th>\n",
       "      <th>policy_description</th>\n",
       "      <th>value</th>\n",
       "    </tr>\n",
       "  </thead>\n",
       "  <tbody>\n",
       "    <tr>\n",
       "      <th>0</th>\n",
       "      <td>Community Design</td>\n",
       "      <td>Local policies to enable shorter trips and tra...</td>\n",
       "      <td>0</td>\n",
       "      <td>B</td>\n",
       "      <td>Bicycles</td>\n",
       "      <td>Network improvements, incentives, and technolo...</td>\n",
       "      <td>The diversion of single-occupant vehicle trave...</td>\n",
       "      <td>azone_prop_sov_dvmt_diverted.csv</td>\n",
       "      <td>azone</td>\n",
       "      <td>NaN</td>\n",
       "      <td>PropSovDvmtDiverted</td>\n",
       "      <td>0</td>\n",
       "      <td>Reduced</td>\n",
       "      <td>Reduced bicyling percentage of SOV tours less ...</td>\n",
       "      <td>0.1</td>\n",
       "    </tr>\n",
       "    <tr>\n",
       "      <th>1</th>\n",
       "      <td>Community Design</td>\n",
       "      <td>Local policies to enable shorter trips and tra...</td>\n",
       "      <td>1</td>\n",
       "      <td>B</td>\n",
       "      <td>Bicycles</td>\n",
       "      <td>Network improvements, incentives, and technolo...</td>\n",
       "      <td>The diversion of single-occupant vehicle trave...</td>\n",
       "      <td>azone_prop_sov_dvmt_diverted.csv</td>\n",
       "      <td>azone</td>\n",
       "      <td>NaN</td>\n",
       "      <td>PropSovDvmtDiverted</td>\n",
       "      <td>1</td>\n",
       "      <td>Base</td>\n",
       "      <td>Baseline bicyling percentage of SOV tours less...</td>\n",
       "      <td>0.19</td>\n",
       "    </tr>\n",
       "    <tr>\n",
       "      <th>2</th>\n",
       "      <td>Community Design</td>\n",
       "      <td>Local policies to enable shorter trips and tra...</td>\n",
       "      <td>2</td>\n",
       "      <td>B</td>\n",
       "      <td>Bicycles</td>\n",
       "      <td>Network improvements, incentives, and technolo...</td>\n",
       "      <td>The diversion of single-occupant vehicle trave...</td>\n",
       "      <td>azone_prop_sov_dvmt_diverted.csv</td>\n",
       "      <td>azone</td>\n",
       "      <td>NaN</td>\n",
       "      <td>PropSovDvmtDiverted</td>\n",
       "      <td>2</td>\n",
       "      <td>Increased</td>\n",
       "      <td>Increased bicyling percentage of SOV tours les...</td>\n",
       "      <td>0.3</td>\n",
       "    </tr>\n",
       "    <tr>\n",
       "      <th>3</th>\n",
       "      <td>Community Design</td>\n",
       "      <td>Local policies to enable shorter trips and tra...</td>\n",
       "      <td>0</td>\n",
       "      <td>P</td>\n",
       "      <td>Parking</td>\n",
       "      <td>Extent of and charges for priced parking</td>\n",
       "      <td>The extent of paid parking and its price</td>\n",
       "      <td>bzone_parking.csv</td>\n",
       "      <td>bzone</td>\n",
       "      <td>NaN</td>\n",
       "      <td>PkgCost.2005</td>\n",
       "      <td>0</td>\n",
       "      <td>Reduced</td>\n",
       "      <td>Reduced average daily cost for long-term parki...</td>\n",
       "      <td>1.44</td>\n",
       "    </tr>\n",
       "    <tr>\n",
       "      <th>4</th>\n",
       "      <td>Community Design</td>\n",
       "      <td>Local policies to enable shorter trips and tra...</td>\n",
       "      <td>1</td>\n",
       "      <td>P</td>\n",
       "      <td>Parking</td>\n",
       "      <td>Extent of and charges for priced parking</td>\n",
       "      <td>The extent of paid parking and its price</td>\n",
       "      <td>bzone_parking.csv</td>\n",
       "      <td>bzone</td>\n",
       "      <td>NaN</td>\n",
       "      <td>PkgCost.2005</td>\n",
       "      <td>1</td>\n",
       "      <td>Base</td>\n",
       "      <td>Baseline average daily cost for long-term park...</td>\n",
       "      <td>2.88</td>\n",
       "    </tr>\n",
       "  </tbody>\n",
       "</table>\n",
       "</div>"
      ],
      "text/plain": [
       "     strategy_label                               strategy_description  \\\n",
       "0  Community Design  Local policies to enable shorter trips and tra...   \n",
       "1  Community Design  Local policies to enable shorter trips and tra...   \n",
       "2  Community Design  Local policies to enable shorter trips and tra...   \n",
       "3  Community Design  Local policies to enable shorter trips and tra...   \n",
       "4  Community Design  Local policies to enable shorter trips and tra...   \n",
       "\n",
       "   strategy_level category_name category_label  \\\n",
       "0               0             B       Bicycles   \n",
       "1               1             B       Bicycles   \n",
       "2               2             B       Bicycles   \n",
       "3               0             P        Parking   \n",
       "4               1             P        Parking   \n",
       "\n",
       "                                category_description  \\\n",
       "0  Network improvements, incentives, and technolo...   \n",
       "1  Network improvements, incentives, and technolo...   \n",
       "2  Network improvements, incentives, and technolo...   \n",
       "3           Extent of and charges for priced parking   \n",
       "4           Extent of and charges for priced parking   \n",
       "\n",
       "                               category_instructions  \\\n",
       "0  The diversion of single-occupant vehicle trave...   \n",
       "1  The diversion of single-occupant vehicle trave...   \n",
       "2  The diversion of single-occupant vehicle trave...   \n",
       "3           The extent of paid parking and its price   \n",
       "4           The extent of paid parking and its price   \n",
       "\n",
       "                               file    geo city             variable  \\\n",
       "0  azone_prop_sov_dvmt_diverted.csv  azone  NaN  PropSovDvmtDiverted   \n",
       "1  azone_prop_sov_dvmt_diverted.csv  azone  NaN  PropSovDvmtDiverted   \n",
       "2  azone_prop_sov_dvmt_diverted.csv  azone  NaN  PropSovDvmtDiverted   \n",
       "3                 bzone_parking.csv  bzone  NaN         PkgCost.2005   \n",
       "4                 bzone_parking.csv  bzone  NaN         PkgCost.2005   \n",
       "\n",
       "   policy_name policy_label  \\\n",
       "0            0      Reduced   \n",
       "1            1         Base   \n",
       "2            2    Increased   \n",
       "3            0      Reduced   \n",
       "4            1         Base   \n",
       "\n",
       "                                  policy_description value  \n",
       "0  Reduced bicyling percentage of SOV tours less ...   0.1  \n",
       "1  Baseline bicyling percentage of SOV tours less...  0.19  \n",
       "2  Increased bicyling percentage of SOV tours les...   0.3  \n",
       "3  Reduced average daily cost for long-term parki...  1.44  \n",
       "4  Baseline average daily cost for long-term park...  2.88  "
      ]
     },
     "execution_count": 123,
     "metadata": {},
     "output_type": "execute_result"
    }
   ],
   "source": [
    "cat_levels.head()"
   ]
  },
  {
   "cell_type": "code",
   "execution_count": 124,
   "metadata": {},
   "outputs": [
    {
     "data": {
      "text/plain": [
       "['strategy_label',\n",
       " 'strategy_description',\n",
       " 'strategy_level',\n",
       " 'category_name',\n",
       " 'category_label',\n",
       " 'category_description',\n",
       " 'category_instructions',\n",
       " 'file',\n",
       " 'geo',\n",
       " 'city',\n",
       " 'variable',\n",
       " 'policy_name',\n",
       " 'policy_label',\n",
       " 'policy_description',\n",
       " 'value']"
      ]
     },
     "execution_count": 124,
     "metadata": {},
     "output_type": "execute_result"
    }
   ],
   "source": [
    "list(cat_levels.columns)"
   ]
  },
  {
   "cell_type": "code",
   "execution_count": 125,
   "metadata": {},
   "outputs": [],
   "source": [
    "# NAME, LABEL, DESCRIPTION, INSTRUCTIONS, LEVELS (NAME, LABEL, DESCRIPTION)\n",
    "levels = cat_levels[['policy_name', 'policy_label', 'policy_description']]"
   ]
  },
  {
   "cell_type": "code",
   "execution_count": 126,
   "metadata": {},
   "outputs": [],
   "source": [
    "levels = levels.rename(columns={'policy_name': 'NAME', 'policy_label': 'LABEL', 'policy_description':'DESCRIPTION'})"
   ]
  },
  {
   "cell_type": "code",
   "execution_count": 127,
   "metadata": {},
   "outputs": [
    {
     "data": {
      "text/html": [
       "<div>\n",
       "<style scoped>\n",
       "    .dataframe tbody tr th:only-of-type {\n",
       "        vertical-align: middle;\n",
       "    }\n",
       "\n",
       "    .dataframe tbody tr th {\n",
       "        vertical-align: top;\n",
       "    }\n",
       "\n",
       "    .dataframe thead th {\n",
       "        text-align: right;\n",
       "    }\n",
       "</style>\n",
       "<table border=\"1\" class=\"dataframe\">\n",
       "  <thead>\n",
       "    <tr style=\"text-align: right;\">\n",
       "      <th></th>\n",
       "      <th>NAME</th>\n",
       "      <th>LABEL</th>\n",
       "      <th>DESCRIPTION</th>\n",
       "    </tr>\n",
       "  </thead>\n",
       "  <tbody>\n",
       "    <tr>\n",
       "      <th>0</th>\n",
       "      <td>0</td>\n",
       "      <td>Reduced</td>\n",
       "      <td>Reduced bicyling percentage of SOV tours less ...</td>\n",
       "    </tr>\n",
       "    <tr>\n",
       "      <th>1</th>\n",
       "      <td>1</td>\n",
       "      <td>Base</td>\n",
       "      <td>Baseline bicyling percentage of SOV tours less...</td>\n",
       "    </tr>\n",
       "    <tr>\n",
       "      <th>2</th>\n",
       "      <td>2</td>\n",
       "      <td>Increased</td>\n",
       "      <td>Increased bicyling percentage of SOV tours les...</td>\n",
       "    </tr>\n",
       "    <tr>\n",
       "      <th>3</th>\n",
       "      <td>0</td>\n",
       "      <td>Reduced</td>\n",
       "      <td>Reduced average daily cost for long-term parki...</td>\n",
       "    </tr>\n",
       "    <tr>\n",
       "      <th>4</th>\n",
       "      <td>1</td>\n",
       "      <td>Base</td>\n",
       "      <td>Baseline average daily cost for long-term park...</td>\n",
       "    </tr>\n",
       "  </tbody>\n",
       "</table>\n",
       "</div>"
      ],
      "text/plain": [
       "   NAME      LABEL                                        DESCRIPTION\n",
       "0     0    Reduced  Reduced bicyling percentage of SOV tours less ...\n",
       "1     1       Base  Baseline bicyling percentage of SOV tours less...\n",
       "2     2  Increased  Increased bicyling percentage of SOV tours les...\n",
       "3     0    Reduced  Reduced average daily cost for long-term parki...\n",
       "4     1       Base  Baseline average daily cost for long-term park..."
      ]
     },
     "execution_count": 127,
     "metadata": {},
     "output_type": "execute_result"
    }
   ],
   "source": [
    "levels.head()"
   ]
  },
  {
   "cell_type": "code",
   "execution_count": 128,
   "metadata": {},
   "outputs": [
    {
     "data": {
      "text/plain": [
       "{'NAME': 0,\n",
       " 'LABEL': 'Reduced',\n",
       " 'DESCRIPTION': 'Reduced bicyling percentage of SOV tours less than 20 miles'}"
      ]
     },
     "execution_count": 128,
     "metadata": {},
     "output_type": "execute_result"
    }
   ],
   "source": [
    "level_output = rows_to_dicts(levels)\n",
    "level_output[0]"
   ]
  },
  {
   "cell_type": "code",
   "execution_count": 129,
   "metadata": {},
   "outputs": [
    {
     "data": {
      "text/plain": [
       "dict"
      ]
     },
     "execution_count": 129,
     "metadata": {},
     "output_type": "execute_result"
    }
   ],
   "source": [
    "type(level_output[0])"
   ]
  },
  {
   "cell_type": "code",
   "execution_count": 130,
   "metadata": {},
   "outputs": [],
   "source": [
    "categories = cat_levels[['category_name','category_label','category_description','category_instructions']]\n",
    "categories = categories.rename(columns={'category_name': 'NAME', \n",
    "                                        'category_label': 'LABEL', \n",
    "                                        'category_description':'DESCRIPTION',\n",
    "                                        'category_instructions': 'INSTRUCTIONS'})"
   ]
  },
  {
   "cell_type": "code",
   "execution_count": 131,
   "metadata": {},
   "outputs": [
    {
     "data": {
      "text/plain": [
       "{'NAME': 'B',\n",
       " 'LABEL': 'Bicycles',\n",
       " 'DESCRIPTION': 'Network improvements, incentives, and technologies that encourage bicycling and other light-weight vehicle travel',\n",
       " 'INSTRUCTIONS': 'The diversion of single-occupant vehicle travel to bicycles, electric bicycles and other light-weight vehicles'}"
      ]
     },
     "execution_count": 131,
     "metadata": {},
     "output_type": "execute_result"
    }
   ],
   "source": [
    "category_output = rows_to_dicts(categories)\n",
    "category_output[0]"
   ]
  },
  {
   "cell_type": "code",
   "execution_count": 135,
   "metadata": {},
   "outputs": [],
   "source": [
    "def list_levels_in_cat(cat, cat_levels_df):\n",
    "    df = cat_levels_df.loc[cat_levels_df['category_name'] == cat]\n",
    "    df = df[['policy_name', 'policy_label', 'policy_description']]\n",
    "    df = df.rename(columns={'policy_name': 'NAME',\n",
    "                            'policy_label': 'LABEL',\n",
    "                            'policy_description':'DESCRIPTION'})\n",
    "    out = rows_to_dicts(df)\n",
    "    return out"
   ]
  },
  {
   "cell_type": "code",
   "execution_count": 151,
   "metadata": {},
   "outputs": [],
   "source": [
    "def list_cateory_info(cat, cat_levels_df):\n",
    "    df = cat_levels_df.loc[cat_levels_df['category_name'] == cat]\n",
    "    df = df[['category_name','category_label','category_description','category_instructions']].drop_duplicates()\n",
    "    df = df.rename(columns={'category_name': 'NAME', \n",
    "                            'category_label': 'LABEL', \n",
    "                            'category_description':'DESCRIPTION',\n",
    "                            'category_instructions': 'INSTRUCTIONS'})\n",
    "    out = rows_to_dicts(df)\n",
    "    return out    "
   ]
  },
  {
   "cell_type": "code",
   "execution_count": 136,
   "metadata": {
    "scrolled": true
   },
   "outputs": [
    {
     "data": {
      "text/plain": [
       "[{'NAME': 0,\n",
       "  'LABEL': 'Reduced',\n",
       "  'DESCRIPTION': 'Reduced bicyling percentage of SOV tours less than 20 miles'},\n",
       " {'NAME': 1,\n",
       "  'LABEL': 'Base',\n",
       "  'DESCRIPTION': 'Baseline bicyling percentage of SOV tours less than 20 miles (19%)'},\n",
       " {'NAME': 2,\n",
       "  'LABEL': 'Increased',\n",
       "  'DESCRIPTION': 'Increased bicyling percentage of SOV tours less than 20 miles'}]"
      ]
     },
     "execution_count": 136,
     "metadata": {},
     "output_type": "execute_result"
    }
   ],
   "source": [
    "list_levels_in_cat('B', cat_levels)"
   ]
  },
  {
   "cell_type": "code",
   "execution_count": 150,
   "metadata": {},
   "outputs": [
    {
     "data": {
      "text/html": [
       "<div>\n",
       "<style scoped>\n",
       "    .dataframe tbody tr th:only-of-type {\n",
       "        vertical-align: middle;\n",
       "    }\n",
       "\n",
       "    .dataframe tbody tr th {\n",
       "        vertical-align: top;\n",
       "    }\n",
       "\n",
       "    .dataframe thead th {\n",
       "        text-align: right;\n",
       "    }\n",
       "</style>\n",
       "<table border=\"1\" class=\"dataframe\">\n",
       "  <thead>\n",
       "    <tr style=\"text-align: right;\">\n",
       "      <th></th>\n",
       "      <th>category_name</th>\n",
       "      <th>category_label</th>\n",
       "      <th>category_description</th>\n",
       "      <th>category_instructions</th>\n",
       "    </tr>\n",
       "  </thead>\n",
       "  <tbody>\n",
       "    <tr>\n",
       "      <th>0</th>\n",
       "      <td>B</td>\n",
       "      <td>Bicycles</td>\n",
       "      <td>Network improvements, incentives, and technolo...</td>\n",
       "      <td>The diversion of single-occupant vehicle trave...</td>\n",
       "    </tr>\n",
       "    <tr>\n",
       "      <th>3</th>\n",
       "      <td>P</td>\n",
       "      <td>Parking</td>\n",
       "      <td>Extent of and charges for priced parking</td>\n",
       "      <td>The extent of paid parking and its price</td>\n",
       "    </tr>\n",
       "    <tr>\n",
       "      <th>15</th>\n",
       "      <td>T</td>\n",
       "      <td>Transit</td>\n",
       "      <td>Level of public transit service</td>\n",
       "      <td>The extent and frequency of transit service</td>\n",
       "    </tr>\n",
       "    <tr>\n",
       "      <th>23</th>\n",
       "      <td>D</td>\n",
       "      <td>Demand Management</td>\n",
       "      <td>Programs to encourage less private vehicle travel</td>\n",
       "      <td>Programs and incentives which encourage people...</td>\n",
       "    </tr>\n",
       "    <tr>\n",
       "      <th>33</th>\n",
       "      <td>E</td>\n",
       "      <td>Driving Efficiency</td>\n",
       "      <td>Driving efficiency by increasing implementatio...</td>\n",
       "      <td>DVMT affected by operations for different road...</td>\n",
       "    </tr>\n",
       "  </tbody>\n",
       "</table>\n",
       "</div>"
      ],
      "text/plain": [
       "   category_name      category_label  \\\n",
       "0              B            Bicycles   \n",
       "3              P             Parking   \n",
       "15             T             Transit   \n",
       "23             D   Demand Management   \n",
       "33             E  Driving Efficiency   \n",
       "\n",
       "                                 category_description  \\\n",
       "0   Network improvements, incentives, and technolo...   \n",
       "3            Extent of and charges for priced parking   \n",
       "15                    Level of public transit service   \n",
       "23  Programs to encourage less private vehicle travel   \n",
       "33  Driving efficiency by increasing implementatio...   \n",
       "\n",
       "                                category_instructions  \n",
       "0   The diversion of single-occupant vehicle trave...  \n",
       "3            The extent of paid parking and its price  \n",
       "15        The extent and frequency of transit service  \n",
       "23  Programs and incentives which encourage people...  \n",
       "33  DVMT affected by operations for different road...  "
      ]
     },
     "execution_count": 150,
     "metadata": {},
     "output_type": "execute_result"
    }
   ],
   "source": [
    "cat_levels[['category_name','category_label','category_description','category_instructions']].drop_duplicates().head()"
   ]
  },
  {
   "cell_type": "code",
   "execution_count": 152,
   "metadata": {},
   "outputs": [
    {
     "data": {
      "text/plain": [
       "[{'NAME': 'B',\n",
       "  'LABEL': 'Bicycles',\n",
       "  'DESCRIPTION': 'Network improvements, incentives, and technologies that encourage bicycling and other light-weight vehicle travel',\n",
       "  'INSTRUCTIONS': 'The diversion of single-occupant vehicle travel to bicycles, electric bicycles and other light-weight vehicles'}]"
      ]
     },
     "execution_count": 152,
     "metadata": {},
     "output_type": "execute_result"
    }
   ],
   "source": [
    "list_cateory_info('B', cat_levels)"
   ]
  },
  {
   "cell_type": "code",
   "execution_count": 162,
   "metadata": {},
   "outputs": [],
   "source": [
    "def add_nested_dicts(dict1, dict2):\n",
    "    dict1['LEVELS'] = dict2\n",
    "    return dict1"
   ]
  },
  {
   "cell_type": "code",
   "execution_count": 171,
   "metadata": {},
   "outputs": [],
   "source": [
    "def collect_scenario_info(cat_levels_df):\n",
    "    out = []\n",
    "    for cat in list(cat_levels_df.category_name.unique()):\n",
    "        dict1 = list_cateory_info(cat, cat_levels_df)\n",
    "        dict2 = list_levels_in_cat(cat, cat_levels_df)\n",
    "        out.append(add_nested_dicts(dict1[0], dict2[0]))\n",
    "    return out"
   ]
  },
  {
   "cell_type": "code",
   "execution_count": 158,
   "metadata": {},
   "outputs": [],
   "source": [
    "dict1 = list_cateory_info('B', cat_levels)\n",
    "dict2 = list_levels_in_cat('B', cat_levels)"
   ]
  },
  {
   "cell_type": "code",
   "execution_count": 160,
   "metadata": {},
   "outputs": [
    {
     "data": {
      "text/plain": [
       "[{'NAME': 'B',\n",
       "  'LABEL': 'Bicycles',\n",
       "  'DESCRIPTION': 'Network improvements, incentives, and technologies that encourage bicycling and other light-weight vehicle travel',\n",
       "  'INSTRUCTIONS': 'The diversion of single-occupant vehicle travel to bicycles, electric bicycles and other light-weight vehicles'}]"
      ]
     },
     "execution_count": 160,
     "metadata": {},
     "output_type": "execute_result"
    }
   ],
   "source": [
    "dict1"
   ]
  },
  {
   "cell_type": "code",
   "execution_count": 161,
   "metadata": {},
   "outputs": [
    {
     "data": {
      "text/plain": [
       "[{'NAME': 0,\n",
       "  'LABEL': 'Reduced',\n",
       "  'DESCRIPTION': 'Reduced bicyling percentage of SOV tours less than 20 miles'},\n",
       " {'NAME': 1,\n",
       "  'LABEL': 'Base',\n",
       "  'DESCRIPTION': 'Baseline bicyling percentage of SOV tours less than 20 miles (19%)'},\n",
       " {'NAME': 2,\n",
       "  'LABEL': 'Increased',\n",
       "  'DESCRIPTION': 'Increased bicyling percentage of SOV tours less than 20 miles'}]"
      ]
     },
     "execution_count": 161,
     "metadata": {},
     "output_type": "execute_result"
    }
   ],
   "source": [
    "dict2"
   ]
  },
  {
   "cell_type": "code",
   "execution_count": 165,
   "metadata": {},
   "outputs": [
    {
     "data": {
      "text/plain": [
       "list"
      ]
     },
     "execution_count": 165,
     "metadata": {},
     "output_type": "execute_result"
    }
   ],
   "source": [
    "type(dict2)"
   ]
  },
  {
   "cell_type": "code",
   "execution_count": 166,
   "metadata": {},
   "outputs": [
    {
     "data": {
      "text/plain": [
       "{'NAME': 'B',\n",
       " 'LABEL': 'Bicycles',\n",
       " 'DESCRIPTION': 'Network improvements, incentives, and technologies that encourage bicycling and other light-weight vehicle travel',\n",
       " 'INSTRUCTIONS': 'The diversion of single-occupant vehicle travel to bicycles, electric bicycles and other light-weight vehicles',\n",
       " 'LEVELS': {'NAME': 0,\n",
       "  'LABEL': 'Reduced',\n",
       "  'DESCRIPTION': 'Reduced bicyling percentage of SOV tours less than 20 miles'}}"
      ]
     },
     "execution_count": 166,
     "metadata": {},
     "output_type": "execute_result"
    }
   ],
   "source": [
    "add_nested_dicts(dict1[0], dict2[0])"
   ]
  },
  {
   "cell_type": "code",
   "execution_count": 168,
   "metadata": {
    "scrolled": true
   },
   "outputs": [
    {
     "data": {
      "text/plain": [
       "{'NAME': 'B',\n",
       " 'LABEL': 'Bicycles',\n",
       " 'DESCRIPTION': 'Network improvements, incentives, and technologies that encourage bicycling and other light-weight vehicle travel',\n",
       " 'INSTRUCTIONS': 'The diversion of single-occupant vehicle travel to bicycles, electric bicycles and other light-weight vehicles',\n",
       " 'LEVELS': {'NAME': 0,\n",
       "  'LABEL': 'Reduced',\n",
       "  'DESCRIPTION': 'Reduced bicyling percentage of SOV tours less than 20 miles'}}"
      ]
     },
     "execution_count": 168,
     "metadata": {},
     "output_type": "execute_result"
    }
   ],
   "source": [
    "collect_scenario_info(cat_levels)[0]"
   ]
  },
  {
   "cell_type": "code",
   "execution_count": 172,
   "metadata": {},
   "outputs": [],
   "source": [
    "output3 = collect_scenario_info(cat_levels)"
   ]
  },
  {
   "cell_type": "code",
   "execution_count": 173,
   "metadata": {},
   "outputs": [],
   "source": [
    "with open(f'{inpath}/VEScenarioViewer/test_out3.json', 'w') as f:\n",
    "    json.dump(output3, f)"
   ]
  },
  {
   "cell_type": "code",
   "execution_count": null,
   "metadata": {},
   "outputs": [],
   "source": []
  }
 ],
 "metadata": {
  "kernelspec": {
   "display_name": "Python 3",
   "language": "python",
   "name": "python3"
  },
  "language_info": {
   "codemirror_mode": {
    "name": "ipython",
    "version": 3
   },
   "file_extension": ".py",
   "mimetype": "text/x-python",
   "name": "python",
   "nbconvert_exporter": "python",
   "pygments_lexer": "ipython3",
   "version": "3.8.3"
  }
 },
 "nbformat": 4,
 "nbformat_minor": 4
}
