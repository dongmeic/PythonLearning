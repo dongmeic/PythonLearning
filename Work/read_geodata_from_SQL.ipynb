{
 "cells": [
  {
   "cell_type": "code",
   "execution_count": 1,
   "metadata": {},
   "outputs": [],
   "source": [
    "import sys"
   ]
  },
  {
   "cell_type": "code",
   "execution_count": 2,
   "metadata": {},
   "outputs": [
    {
     "name": "stdout",
     "output_type": "stream",
     "text": [
      "3.7.9 [MSC v.1922 64 bit (AMD64)]\n"
     ]
    }
   ],
   "source": [
    "print(sys.version)"
   ]
  },
  {
   "cell_type": "code",
   "execution_count": 3,
   "metadata": {},
   "outputs": [
    {
     "name": "stdout",
     "output_type": "stream",
     "text": [
      "Package                           Version\n",
      "--------------------------------- -------------------\n",
      "appdirs                           1.4.4\n",
      "arcgis                            1.8.3\n",
      "argon2-cffi                       20.1.0\n",
      "asn1crypto                        1.4.0\n",
      "async-generator                   1.10\n",
      "atomicwrites                      1.4.0\n",
      "attrs                             20.2.0\n",
      "backcall                          0.2.0\n",
      "beautifulsoup4                    4.9.3\n",
      "black                             19.10b0\n",
      "bleach                            3.2.1\n",
      "blinker                           1.4\n",
      "brotlipy                          0.7.0\n",
      "cached-property                   1.5.2\n",
      "certifi                           2020.6.20\n",
      "cffi                              1.14.3\n",
      "cftime                            1.0.0b1\n",
      "chardet                           3.0.4\n",
      "click                             7.1.2\n",
      "click-plugins                     1.1.1\n",
      "cligj                             0.7.1\n",
      "colorama                          0.4.3\n",
      "cryptography                      2.8\n",
      "cycler                            0.10.0\n",
      "decorator                         4.4.2\n",
      "defusedxml                        0.6.0\n",
      "despatch                          0.1.0\n",
      "docopt                            0.6.2\n",
      "entrypoints                       0.3\n",
      "et-xmlfile                        1.0.1\n",
      "fastcache                         1.1.0\n",
      "Fiona                             1.8.18\n",
      "flake8                            3.8.3\n",
      "future                            0.18.2\n",
      "GDAL                              3.1.4\n",
      "geopandas                         0.8.1\n",
      "h5py                              2.10.0\n",
      "html5lib                          1.1\n",
      "idna                              2.10\n",
      "importlib-metadata                1.7.0\n",
      "iniconfig                         0.0.0\n",
      "ipykernel                         5.3.4\n",
      "ipython                           7.18.1\n",
      "ipython-genutils                  0.2.0\n",
      "ipywidgets                        7.5.1\n",
      "jdcal                             1.4.1\n",
      "jedi                              0.17.2\n",
      "Jinja2                            2.11.2\n",
      "Js2Py                             0.70\n",
      "json5                             0.9.4\n",
      "jsonschema                        3.2.0\n",
      "jupyter-client                    6.1.7\n",
      "jupyter-console                   6.2.0\n",
      "jupyter-contrib-core              0.3.3\n",
      "jupyter-contrib-nbextensions      0.5.1\n",
      "jupyter-core                      4.6.3\n",
      "jupyter-highlight-selected-word   0.2.0\n",
      "jupyter-latex-envs                1.4.4\n",
      "jupyter-nbextensions-configurator 0.4.1\n",
      "jupyterlab                        2.2.7\n",
      "jupyterlab-pygments               0.1.1\n",
      "jupyterlab-server                 1.2.0\n",
      "keyring                           21.4.0\n",
      "kiwisolver                        1.2.0\n",
      "lerc                              2.2\n",
      "lxml                              4.5.2\n",
      "MarkupSafe                        1.1.1\n",
      "matplotlib                        3.3.1\n",
      "mccabe                            0.6.1\n",
      "mistune                           0.8.4\n",
      "mkl-fft                           1.2.0\n",
      "mkl-random                        1.2.0\n",
      "mkl-service                       2.3.0\n",
      "mpmath                            1.1.0\n",
      "munch                             2.5.0\n",
      "mypy-extensions                   0.4.3\n",
      "nbclient                          0.5.0\n",
      "nbconvert                         5.6.1\n",
      "nbformat                          5.0.7\n",
      "nest-asyncio                      1.3.2\n",
      "netCDF4                           1.5.4\n",
      "networkx                          2.5\n",
      "nose                              1.3.7\n",
      "notebook                          5.7.10\n",
      "ntlm-auth                         1.4.0\n",
      "numexpr                           2.7.1\n",
      "numpy                             1.19.1\n",
      "oauthlib                          3.1.0\n",
      "olefile                           0.46\n",
      "openpyxl                          3.0.5\n",
      "packaging                         20.4\n",
      "pandas                            1.1.1\n",
      "pandocfilters                     1.4.2\n",
      "parso                             0.7.0\n",
      "pathspec                          0.7.0\n",
      "pefile                            2019.4.18\n",
      "pickleshare                       0.7.5\n",
      "Pillow                            7.1.2\n",
      "pip                               20.2.2\n",
      "pipwin                            0.5.0\n",
      "pluggy                            0.13.1\n",
      "pro-notebook-integration          2.5\n",
      "prometheus-client                 0.8.0\n",
      "prompt-toolkit                    3.0.5\n",
      "psutil                            5.7.2\n",
      "py                                1.9.0\n",
      "pycodestyle                       2.6.0\n",
      "pycparser                         2.20\n",
      "pyflakes                          2.2.0\n",
      "Pygments                          2.7.0\n",
      "pyjsparser                        2.7.1\n",
      "PyJWT                             1.7.1\n",
      "pyodbc                            4.0.30\n",
      "pyOpenSSL                         19.1.0\n",
      "pyparsing                         2.4.7\n",
      "PyPrind                           2.11.2\n",
      "pyproj                            3.0.0.post1\n",
      "pyrsistent                        0.17.3\n",
      "pyshp                             2.1.2\n",
      "pySmartDL                         1.3.4\n",
      "PySocks                           1.7.1\n",
      "pytest                            0.0.0\n",
      "python-certifi-win32              0.0.0\n",
      "python-dateutil                   2.8.1\n",
      "pytz                              2020.1\n",
      "pywin32-ctypes                    0.2.0\n",
      "pywinpty                          0.5.7\n",
      "PyYAML                            5.3.1\n",
      "pyzmq                             19.0.2\n",
      "regex                             2020.7.14\n",
      "requests                          2.24.0\n",
      "requests-kerberos                 0.12.0\n",
      "requests-negotiate-sspi           0.0.0\n",
      "requests-ntlm                     1.1.0\n",
      "requests-oauthlib                 1.3.0\n",
      "requests-toolbelt                 0.9.1\n",
      "Rtree                             0.9.7\n",
      "scipy                             1.5.2\n",
      "Send2Trash                        1.5.0\n",
      "setuptools                        49.6.0.post20200814\n",
      "Shapely                           1.7.1\n",
      "simplegeneric                     0.8.1\n",
      "six                               1.15.0\n",
      "soupsieve                         2.1\n",
      "SQLAlchemy                        1.3.22\n",
      "sympy                             1.5.1\n",
      "terminado                         0.8.3\n",
      "testpath                          0.4.4\n",
      "toml                              0.10.1\n",
      "tornado                           6.0.4\n",
      "traitlets                         4.3.3\n",
      "typed-ast                         1.4.1\n",
      "typing-extensions                 3.7.4.3\n",
      "tzlocal                           2.1\n",
      "ujson                             3.1.0\n",
      "urllib3                           1.25.10\n",
      "wcwidth                           0.2.5\n",
      "webencodings                      0.5.1\n",
      "wheel                             0.35.1\n",
      "widgetsnbextension                3.5.1\n",
      "win-inet-pton                     1.1.0\n",
      "wincertstore                      0.2\n",
      "winkerberos                       0.7.0\n",
      "wrapt                             1.12.1\n",
      "x86cpu                            0.4\n",
      "xarray                            0.16.0\n",
      "xlrd                              1.2.0\n",
      "xlwt                              1.3.0\n",
      "zipp                              3.1.0\n"
     ]
    }
   ],
   "source": [
    "! pip list"
   ]
  },
  {
   "cell_type": "code",
   "execution_count": 4,
   "metadata": {},
   "outputs": [],
   "source": [
    "import pyodbc\n",
    "import pandas as pd"
   ]
  },
  {
   "cell_type": "code",
   "execution_count": 5,
   "metadata": {},
   "outputs": [],
   "source": [
    "cnxn = pyodbc.connect(\"Driver={SQL Server};\"\n",
    "                      \"Server=rliddb.int.lcog.org,5433;\"\n",
    "                      \"Database=RLIDGeo;\"\n",
    "                      \"Trusted_Connection=yes;\")"
   ]
  },
  {
   "cell_type": "code",
   "execution_count": 6,
   "metadata": {},
   "outputs": [
    {
     "data": {
      "text/html": [
       "<div>\n",
       "<style scoped>\n",
       "    .dataframe tbody tr th:only-of-type {\n",
       "        vertical-align: middle;\n",
       "    }\n",
       "\n",
       "    .dataframe tbody tr th {\n",
       "        vertical-align: top;\n",
       "    }\n",
       "\n",
       "    .dataframe thead th {\n",
       "        text-align: right;\n",
       "    }\n",
       "</style>\n",
       "<table border=\"1\" class=\"dataframe\">\n",
       "  <thead>\n",
       "    <tr style=\"text-align: right;\">\n",
       "      <th></th>\n",
       "      <th>OBJECTID</th>\n",
       "      <th>Shape</th>\n",
       "      <th>bike_segid</th>\n",
       "      <th>eug_id</th>\n",
       "      <th>name</th>\n",
       "      <th>ftype</th>\n",
       "      <th>ftypedes</th>\n",
       "      <th>lane_type</th>\n",
       "      <th>lane_typedes</th>\n",
       "      <th>status</th>\n",
       "      <th>maint</th>\n",
       "      <th>source</th>\n",
       "      <th>easement</th>\n",
       "      <th>lane_num</th>\n",
       "      <th>lane_placement</th>\n",
       "      <th>geofeature_id</th>\n",
       "    </tr>\n",
       "  </thead>\n",
       "  <tbody>\n",
       "    <tr>\n",
       "      <th>0</th>\n",
       "      <td>3028</td>\n",
       "      <td>b'b\\x0b\\x00\\x00\\x01\\x04\\x05\\x00\\x00\\x00`\\x86\\x...</td>\n",
       "      <td>1811.0</td>\n",
       "      <td>NaN</td>\n",
       "      <td>None</td>\n",
       "      <td>Lane</td>\n",
       "      <td>Bike Lane</td>\n",
       "      <td>None</td>\n",
       "      <td>None</td>\n",
       "      <td>Built</td>\n",
       "      <td>EUG</td>\n",
       "      <td>LCOG</td>\n",
       "      <td>None</td>\n",
       "      <td>NaN</td>\n",
       "      <td>curbside</td>\n",
       "      <td>90AF8AF0-19AE-4BE1-B90C-FF0095E63250</td>\n",
       "    </tr>\n",
       "    <tr>\n",
       "      <th>1</th>\n",
       "      <td>3029</td>\n",
       "      <td>b\"b\\x0b\\x00\\x00\\x01\\x04\\x1e\\x00\\x00\\x00`\\x01Vx...</td>\n",
       "      <td>1922.0</td>\n",
       "      <td>NaN</td>\n",
       "      <td>None</td>\n",
       "      <td>Lane</td>\n",
       "      <td>Bike Lane</td>\n",
       "      <td>None</td>\n",
       "      <td>None</td>\n",
       "      <td>Built</td>\n",
       "      <td>UNK</td>\n",
       "      <td>EUG</td>\n",
       "      <td>None</td>\n",
       "      <td>NaN</td>\n",
       "      <td>curbside</td>\n",
       "      <td>1686071C-3265-4E41-ACA1-32D58B56880E</td>\n",
       "    </tr>\n",
       "    <tr>\n",
       "      <th>2</th>\n",
       "      <td>3030</td>\n",
       "      <td>b\"b\\x0b\\x00\\x00\\x01\\x04\\x15\\x00\\x00\\x00@ \\x10\\...</td>\n",
       "      <td>334.0</td>\n",
       "      <td>3.0</td>\n",
       "      <td>MLK Conn</td>\n",
       "      <td>Path</td>\n",
       "      <td>Shared Use Path</td>\n",
       "      <td>None</td>\n",
       "      <td>None</td>\n",
       "      <td>Built</td>\n",
       "      <td>UNK</td>\n",
       "      <td>LCOG</td>\n",
       "      <td>None</td>\n",
       "      <td>NaN</td>\n",
       "      <td>None</td>\n",
       "      <td>03984125-786B-4E27-9E11-B8C802F2A2AE</td>\n",
       "    </tr>\n",
       "    <tr>\n",
       "      <th>3</th>\n",
       "      <td>3031</td>\n",
       "      <td>b'b\\x0b\\x00\\x00\\x01\\x04\\x05\\x00\\x00\\x00\\xc0\\x0...</td>\n",
       "      <td>1386.0</td>\n",
       "      <td>8.0</td>\n",
       "      <td>Amazon West Side Path</td>\n",
       "      <td>Path</td>\n",
       "      <td>Shared Use Path</td>\n",
       "      <td>None</td>\n",
       "      <td>None</td>\n",
       "      <td>Built</td>\n",
       "      <td>UNK</td>\n",
       "      <td>LCOG</td>\n",
       "      <td>None</td>\n",
       "      <td>NaN</td>\n",
       "      <td>None</td>\n",
       "      <td>B565B612-325A-438D-B544-08552945D217</td>\n",
       "    </tr>\n",
       "    <tr>\n",
       "      <th>4</th>\n",
       "      <td>3032</td>\n",
       "      <td>b'b\\x0b\\x00\\x00\\x01\\x04 \\x00\\x00\\x00p_\\xda?P\\'...</td>\n",
       "      <td>1088.0</td>\n",
       "      <td>NaN</td>\n",
       "      <td>Division Ave Conn Path</td>\n",
       "      <td>Path</td>\n",
       "      <td>Shared Use Path</td>\n",
       "      <td>None</td>\n",
       "      <td>None</td>\n",
       "      <td>Built</td>\n",
       "      <td>EUG/ODOT</td>\n",
       "      <td>EUG</td>\n",
       "      <td>None</td>\n",
       "      <td>NaN</td>\n",
       "      <td>None</td>\n",
       "      <td>82059377-1567-4DE9-BA15-E09179370577</td>\n",
       "    </tr>\n",
       "  </tbody>\n",
       "</table>\n",
       "</div>"
      ],
      "text/plain": [
       "   OBJECTID                                              Shape  bike_segid  \\\n",
       "0      3028  b'b\\x0b\\x00\\x00\\x01\\x04\\x05\\x00\\x00\\x00`\\x86\\x...      1811.0   \n",
       "1      3029  b\"b\\x0b\\x00\\x00\\x01\\x04\\x1e\\x00\\x00\\x00`\\x01Vx...      1922.0   \n",
       "2      3030  b\"b\\x0b\\x00\\x00\\x01\\x04\\x15\\x00\\x00\\x00@ \\x10\\...       334.0   \n",
       "3      3031  b'b\\x0b\\x00\\x00\\x01\\x04\\x05\\x00\\x00\\x00\\xc0\\x0...      1386.0   \n",
       "4      3032  b'b\\x0b\\x00\\x00\\x01\\x04 \\x00\\x00\\x00p_\\xda?P\\'...      1088.0   \n",
       "\n",
       "   eug_id                    name ftype         ftypedes lane_type  \\\n",
       "0     NaN                    None  Lane        Bike Lane      None   \n",
       "1     NaN                    None  Lane        Bike Lane      None   \n",
       "2     3.0                MLK Conn  Path  Shared Use Path      None   \n",
       "3     8.0   Amazon West Side Path  Path  Shared Use Path      None   \n",
       "4     NaN  Division Ave Conn Path  Path  Shared Use Path      None   \n",
       "\n",
       "  lane_typedes status     maint source easement  lane_num lane_placement  \\\n",
       "0         None  Built       EUG   LCOG     None       NaN       curbside   \n",
       "1         None  Built       UNK    EUG     None       NaN       curbside   \n",
       "2         None  Built       UNK   LCOG     None       NaN           None   \n",
       "3         None  Built       UNK   LCOG     None       NaN           None   \n",
       "4         None  Built  EUG/ODOT    EUG     None       NaN           None   \n",
       "\n",
       "                          geofeature_id  \n",
       "0  90AF8AF0-19AE-4BE1-B90C-FF0095E63250  \n",
       "1  1686071C-3265-4E41-ACA1-32D58B56880E  \n",
       "2  03984125-786B-4E27-9E11-B8C802F2A2AE  \n",
       "3  B565B612-325A-438D-B544-08552945D217  \n",
       "4  82059377-1567-4DE9-BA15-E09179370577  "
      ]
     },
     "execution_count": 6,
     "metadata": {},
     "output_type": "execute_result"
    }
   ],
   "source": [
    "df = pd.read_sql_query('select * from dbo.BikeFacility', cnxn)\n",
    "df.head()"
   ]
  },
  {
   "cell_type": "code",
   "execution_count": 7,
   "metadata": {},
   "outputs": [
    {
     "data": {
      "text/plain": [
       "['OBJECTID',\n",
       " 'Shape',\n",
       " 'bike_segid',\n",
       " 'eug_id',\n",
       " 'name',\n",
       " 'ftype',\n",
       " 'ftypedes',\n",
       " 'lane_type',\n",
       " 'lane_typedes',\n",
       " 'status',\n",
       " 'maint',\n",
       " 'source',\n",
       " 'easement',\n",
       " 'lane_num',\n",
       " 'lane_placement',\n",
       " 'geofeature_id']"
      ]
     },
     "execution_count": 7,
     "metadata": {},
     "output_type": "execute_result"
    }
   ],
   "source": [
    "list(df)"
   ]
  },
  {
   "cell_type": "code",
   "execution_count": 8,
   "metadata": {},
   "outputs": [
    {
     "data": {
      "text/plain": [
       "array(['Lane', 'Path', 'Route', 'Shoulder', 'Connection', 'Pedway',\n",
       "       'Sidewalk', None, 'Neighborhood Greenway'], dtype=object)"
      ]
     },
     "execution_count": 8,
     "metadata": {},
     "output_type": "execute_result"
    }
   ],
   "source": [
    "df.ftype.unique()"
   ]
  },
  {
   "cell_type": "code",
   "execution_count": 9,
   "metadata": {},
   "outputs": [
    {
     "data": {
      "text/html": [
       "<div>\n",
       "<style scoped>\n",
       "    .dataframe tbody tr th:only-of-type {\n",
       "        vertical-align: middle;\n",
       "    }\n",
       "\n",
       "    .dataframe tbody tr th {\n",
       "        vertical-align: top;\n",
       "    }\n",
       "\n",
       "    .dataframe thead th {\n",
       "        text-align: right;\n",
       "    }\n",
       "</style>\n",
       "<table border=\"1\" class=\"dataframe\">\n",
       "  <thead>\n",
       "    <tr style=\"text-align: right;\">\n",
       "      <th></th>\n",
       "      <th>ftype</th>\n",
       "      <th>ftypedes</th>\n",
       "      <th>count</th>\n",
       "    </tr>\n",
       "  </thead>\n",
       "  <tbody>\n",
       "    <tr>\n",
       "      <th>0</th>\n",
       "      <td>Connection</td>\n",
       "      <td>Connectivity for Routing</td>\n",
       "      <td>214</td>\n",
       "    </tr>\n",
       "    <tr>\n",
       "      <th>1</th>\n",
       "      <td>Lane</td>\n",
       "      <td>Bike Lane</td>\n",
       "      <td>1501</td>\n",
       "    </tr>\n",
       "    <tr>\n",
       "      <th>2</th>\n",
       "      <td>Neighborhood Greenway</td>\n",
       "      <td>Neighborhood Greenway</td>\n",
       "      <td>86</td>\n",
       "    </tr>\n",
       "    <tr>\n",
       "      <th>3</th>\n",
       "      <td>Path</td>\n",
       "      <td>Shared Use Path</td>\n",
       "      <td>598</td>\n",
       "    </tr>\n",
       "    <tr>\n",
       "      <th>4</th>\n",
       "      <td>Pedway</td>\n",
       "      <td>Pedestrian and Bicycle Access Way</td>\n",
       "      <td>244</td>\n",
       "    </tr>\n",
       "    <tr>\n",
       "      <th>5</th>\n",
       "      <td>Route</td>\n",
       "      <td>Bike Route</td>\n",
       "      <td>345</td>\n",
       "    </tr>\n",
       "    <tr>\n",
       "      <th>6</th>\n",
       "      <td>Shoulder</td>\n",
       "      <td>Paved Shoulder</td>\n",
       "      <td>58</td>\n",
       "    </tr>\n",
       "    <tr>\n",
       "      <th>7</th>\n",
       "      <td>Sidewalk</td>\n",
       "      <td>Sidewalk</td>\n",
       "      <td>56</td>\n",
       "    </tr>\n",
       "  </tbody>\n",
       "</table>\n",
       "</div>"
      ],
      "text/plain": [
       "                   ftype                           ftypedes  count\n",
       "0             Connection           Connectivity for Routing    214\n",
       "1                   Lane                          Bike Lane   1501\n",
       "2  Neighborhood Greenway              Neighborhood Greenway     86\n",
       "3                   Path                    Shared Use Path    598\n",
       "4                 Pedway  Pedestrian and Bicycle Access Way    244\n",
       "5                  Route                         Bike Route    345\n",
       "6               Shoulder                     Paved Shoulder     58\n",
       "7               Sidewalk                           Sidewalk     56"
      ]
     },
     "execution_count": 9,
     "metadata": {},
     "output_type": "execute_result"
    }
   ],
   "source": [
    "df.groupby(['ftype','ftypedes']).size().reset_index().rename(columns={0:'count'})"
   ]
  },
  {
   "cell_type": "code",
   "execution_count": 10,
   "metadata": {},
   "outputs": [],
   "source": [
    "import geopandas as gpd\n",
    "from sqlalchemy import create_engine"
   ]
  },
  {
   "cell_type": "code",
   "execution_count": 11,
   "metadata": {},
   "outputs": [],
   "source": [
    "engine = create_engine(\"mssql+pyodbc:///?odbc_connect=Driver%3D%7BODBC+Driver+17+for+SQL+Server%7D%3BServer%3Drliddb.int.lcog.org%2C5433%3BDatabase%3DRLIDGeo%3BTrusted_Connection%3Dyes%3BApplicationIntent%3DReadWrite%3BWSID%3Dclwrk4087.int.lcog.org%3B\")"
   ]
  },
  {
   "cell_type": "code",
   "execution_count": 12,
   "metadata": {},
   "outputs": [
    {
     "data": {
      "text/plain": [
       "Engine(mssql+pyodbc:///?odbc_connect=Driver%3D%7BODBC+Driver+17+for+SQL+Server%7D%3BServer%3Drliddb.int.lcog.org%2C5433%3BDatabase%3DRLIDGeo%3BTrusted_Connection%3Dyes%3BApplicationIntent%3DReadWrite%3BWSID%3Dclwrk4087.int.lcog.org%3B)"
      ]
     },
     "execution_count": 12,
     "metadata": {},
     "output_type": "execute_result"
    }
   ],
   "source": [
    "engine"
   ]
  },
  {
   "cell_type": "code",
   "execution_count": 13,
   "metadata": {},
   "outputs": [],
   "source": [
    "sql = 'select * from dbo.BikeFacility'"
   ]
  },
  {
   "cell_type": "code",
   "execution_count": 15,
   "metadata": {},
   "outputs": [
    {
     "ename": "ProgrammingError",
     "evalue": "(pyodbc.ProgrammingError) ('ODBC SQL type -151 is not yet supported.  column-index=1  type=-151', 'HY106')\n(Background on this error at: http://sqlalche.me/e/13/f405)",
     "output_type": "error",
     "traceback": [
      "\u001b[1;31m---------------------------------------------------------------------------\u001b[0m",
      "\u001b[1;31mProgrammingError\u001b[0m                          Traceback (most recent call last)",
      "\u001b[1;32m~\\AppData\\Local\\Programs\\ArcGIS\\Pro\\bin\\Python\\envs\\arcgispro-py3\\lib\\site-packages\\sqlalchemy\\engine\\result.py\u001b[0m in \u001b[0;36mfetchall\u001b[1;34m(self)\u001b[0m\n\u001b[0;32m   1283\u001b[0m         \u001b[1;32mtry\u001b[0m\u001b[1;33m:\u001b[0m\u001b[1;33m\u001b[0m\u001b[1;33m\u001b[0m\u001b[0m\n\u001b[1;32m-> 1284\u001b[1;33m             \u001b[0ml\u001b[0m \u001b[1;33m=\u001b[0m \u001b[0mself\u001b[0m\u001b[1;33m.\u001b[0m\u001b[0mprocess_rows\u001b[0m\u001b[1;33m(\u001b[0m\u001b[0mself\u001b[0m\u001b[1;33m.\u001b[0m\u001b[0m_fetchall_impl\u001b[0m\u001b[1;33m(\u001b[0m\u001b[1;33m)\u001b[0m\u001b[1;33m)\u001b[0m\u001b[1;33m\u001b[0m\u001b[1;33m\u001b[0m\u001b[0m\n\u001b[0m\u001b[0;32m   1285\u001b[0m             \u001b[0mself\u001b[0m\u001b[1;33m.\u001b[0m\u001b[0m_soft_close\u001b[0m\u001b[1;33m(\u001b[0m\u001b[1;33m)\u001b[0m\u001b[1;33m\u001b[0m\u001b[1;33m\u001b[0m\u001b[0m\n",
      "\u001b[1;32m~\\AppData\\Local\\Programs\\ArcGIS\\Pro\\bin\\Python\\envs\\arcgispro-py3\\lib\\site-packages\\sqlalchemy\\engine\\result.py\u001b[0m in \u001b[0;36m_fetchall_impl\u001b[1;34m(self)\u001b[0m\n\u001b[0;32m   1229\u001b[0m         \u001b[1;32mtry\u001b[0m\u001b[1;33m:\u001b[0m\u001b[1;33m\u001b[0m\u001b[1;33m\u001b[0m\u001b[0m\n\u001b[1;32m-> 1230\u001b[1;33m             \u001b[1;32mreturn\u001b[0m \u001b[0mself\u001b[0m\u001b[1;33m.\u001b[0m\u001b[0mcursor\u001b[0m\u001b[1;33m.\u001b[0m\u001b[0mfetchall\u001b[0m\u001b[1;33m(\u001b[0m\u001b[1;33m)\u001b[0m\u001b[1;33m\u001b[0m\u001b[1;33m\u001b[0m\u001b[0m\n\u001b[0m\u001b[0;32m   1231\u001b[0m         \u001b[1;32mexcept\u001b[0m \u001b[0mAttributeError\u001b[0m \u001b[1;32mas\u001b[0m \u001b[0merr\u001b[0m\u001b[1;33m:\u001b[0m\u001b[1;33m\u001b[0m\u001b[1;33m\u001b[0m\u001b[0m\n",
      "\u001b[1;31mProgrammingError\u001b[0m: ('ODBC SQL type -151 is not yet supported.  column-index=1  type=-151', 'HY106')",
      "\nThe above exception was the direct cause of the following exception:\n",
      "\u001b[1;31mProgrammingError\u001b[0m                          Traceback (most recent call last)",
      "\u001b[1;32m<ipython-input-15-52e859621add>\u001b[0m in \u001b[0;36m<module>\u001b[1;34m\u001b[0m\n\u001b[1;32m----> 1\u001b[1;33m \u001b[0mBikeFacility\u001b[0m \u001b[1;33m=\u001b[0m \u001b[0mgpd\u001b[0m\u001b[1;33m.\u001b[0m\u001b[0mGeoDataFrame\u001b[0m\u001b[1;33m.\u001b[0m\u001b[0mfrom_postgis\u001b[0m\u001b[1;33m(\u001b[0m\u001b[0msql\u001b[0m\u001b[1;33m,\u001b[0m \u001b[0mengine\u001b[0m\u001b[1;33m,\u001b[0m \u001b[0mgeom_col\u001b[0m\u001b[1;33m=\u001b[0m\u001b[1;34m'geofeature_id'\u001b[0m \u001b[1;33m)\u001b[0m\u001b[1;33m\u001b[0m\u001b[1;33m\u001b[0m\u001b[0m\n\u001b[0m",
      "\u001b[1;32m~\\AppData\\Local\\Programs\\ArcGIS\\Pro\\bin\\Python\\envs\\arcgispro-py3\\lib\\site-packages\\geopandas\\geodataframe.py\u001b[0m in \u001b[0;36mfrom_postgis\u001b[1;34m(cls, sql, con, geom_col, crs, index_col, coerce_float, parse_dates, params, chunksize)\u001b[0m\n\u001b[0;32m    494\u001b[0m             \u001b[0mparse_dates\u001b[0m\u001b[1;33m=\u001b[0m\u001b[0mparse_dates\u001b[0m\u001b[1;33m,\u001b[0m\u001b[1;33m\u001b[0m\u001b[1;33m\u001b[0m\u001b[0m\n\u001b[0;32m    495\u001b[0m             \u001b[0mparams\u001b[0m\u001b[1;33m=\u001b[0m\u001b[0mparams\u001b[0m\u001b[1;33m,\u001b[0m\u001b[1;33m\u001b[0m\u001b[1;33m\u001b[0m\u001b[0m\n\u001b[1;32m--> 496\u001b[1;33m             \u001b[0mchunksize\u001b[0m\u001b[1;33m=\u001b[0m\u001b[0mchunksize\u001b[0m\u001b[1;33m,\u001b[0m\u001b[1;33m\u001b[0m\u001b[1;33m\u001b[0m\u001b[0m\n\u001b[0m\u001b[0;32m    497\u001b[0m         )\n\u001b[0;32m    498\u001b[0m \u001b[1;33m\u001b[0m\u001b[0m\n",
      "\u001b[1;32m~\\AppData\\Local\\Programs\\ArcGIS\\Pro\\bin\\Python\\envs\\arcgispro-py3\\lib\\site-packages\\geopandas\\io\\sql.py\u001b[0m in \u001b[0;36m_read_postgis\u001b[1;34m(sql, con, geom_col, crs, index_col, coerce_float, parse_dates, params, chunksize)\u001b[0m\n\u001b[0;32m    122\u001b[0m             \u001b[0mparse_dates\u001b[0m\u001b[1;33m=\u001b[0m\u001b[0mparse_dates\u001b[0m\u001b[1;33m,\u001b[0m\u001b[1;33m\u001b[0m\u001b[1;33m\u001b[0m\u001b[0m\n\u001b[0;32m    123\u001b[0m             \u001b[0mparams\u001b[0m\u001b[1;33m=\u001b[0m\u001b[0mparams\u001b[0m\u001b[1;33m,\u001b[0m\u001b[1;33m\u001b[0m\u001b[1;33m\u001b[0m\u001b[0m\n\u001b[1;32m--> 124\u001b[1;33m             \u001b[0mchunksize\u001b[0m\u001b[1;33m=\u001b[0m\u001b[0mchunksize\u001b[0m\u001b[1;33m,\u001b[0m\u001b[1;33m\u001b[0m\u001b[1;33m\u001b[0m\u001b[0m\n\u001b[0m\u001b[0;32m    125\u001b[0m         )\n\u001b[0;32m    126\u001b[0m         \u001b[1;32mreturn\u001b[0m \u001b[0m_df_to_geodf\u001b[0m\u001b[1;33m(\u001b[0m\u001b[0mdf\u001b[0m\u001b[1;33m,\u001b[0m \u001b[0mgeom_col\u001b[0m\u001b[1;33m=\u001b[0m\u001b[0mgeom_col\u001b[0m\u001b[1;33m,\u001b[0m \u001b[0mcrs\u001b[0m\u001b[1;33m=\u001b[0m\u001b[0mcrs\u001b[0m\u001b[1;33m)\u001b[0m\u001b[1;33m\u001b[0m\u001b[1;33m\u001b[0m\u001b[0m\n",
      "\u001b[1;32m~\\AppData\\Local\\Programs\\ArcGIS\\Pro\\bin\\Python\\envs\\arcgispro-py3\\lib\\site-packages\\pandas\\io\\sql.py\u001b[0m in \u001b[0;36mread_sql\u001b[1;34m(sql, con, index_col, coerce_float, params, parse_dates, columns, chunksize)\u001b[0m\n\u001b[0;32m    513\u001b[0m             \u001b[0mcoerce_float\u001b[0m\u001b[1;33m=\u001b[0m\u001b[0mcoerce_float\u001b[0m\u001b[1;33m,\u001b[0m\u001b[1;33m\u001b[0m\u001b[1;33m\u001b[0m\u001b[0m\n\u001b[0;32m    514\u001b[0m             \u001b[0mparse_dates\u001b[0m\u001b[1;33m=\u001b[0m\u001b[0mparse_dates\u001b[0m\u001b[1;33m,\u001b[0m\u001b[1;33m\u001b[0m\u001b[1;33m\u001b[0m\u001b[0m\n\u001b[1;32m--> 515\u001b[1;33m             \u001b[0mchunksize\u001b[0m\u001b[1;33m=\u001b[0m\u001b[0mchunksize\u001b[0m\u001b[1;33m,\u001b[0m\u001b[1;33m\u001b[0m\u001b[1;33m\u001b[0m\u001b[0m\n\u001b[0m\u001b[0;32m    516\u001b[0m         )\n\u001b[0;32m    517\u001b[0m \u001b[1;33m\u001b[0m\u001b[0m\n",
      "\u001b[1;32m~\\AppData\\Local\\Programs\\ArcGIS\\Pro\\bin\\Python\\envs\\arcgispro-py3\\lib\\site-packages\\pandas\\io\\sql.py\u001b[0m in \u001b[0;36mread_query\u001b[1;34m(self, sql, index_col, coerce_float, parse_dates, params, chunksize)\u001b[0m\n\u001b[0;32m   1306\u001b[0m             )\n\u001b[0;32m   1307\u001b[0m         \u001b[1;32melse\u001b[0m\u001b[1;33m:\u001b[0m\u001b[1;33m\u001b[0m\u001b[1;33m\u001b[0m\u001b[0m\n\u001b[1;32m-> 1308\u001b[1;33m             \u001b[0mdata\u001b[0m \u001b[1;33m=\u001b[0m \u001b[0mresult\u001b[0m\u001b[1;33m.\u001b[0m\u001b[0mfetchall\u001b[0m\u001b[1;33m(\u001b[0m\u001b[1;33m)\u001b[0m\u001b[1;33m\u001b[0m\u001b[1;33m\u001b[0m\u001b[0m\n\u001b[0m\u001b[0;32m   1309\u001b[0m             frame = _wrap_result(\n\u001b[0;32m   1310\u001b[0m                 \u001b[0mdata\u001b[0m\u001b[1;33m,\u001b[0m\u001b[1;33m\u001b[0m\u001b[1;33m\u001b[0m\u001b[0m\n",
      "\u001b[1;32m~\\AppData\\Local\\Programs\\ArcGIS\\Pro\\bin\\Python\\envs\\arcgispro-py3\\lib\\site-packages\\sqlalchemy\\engine\\result.py\u001b[0m in \u001b[0;36mfetchall\u001b[1;34m(self)\u001b[0m\n\u001b[0;32m   1287\u001b[0m         \u001b[1;32mexcept\u001b[0m \u001b[0mBaseException\u001b[0m \u001b[1;32mas\u001b[0m \u001b[0me\u001b[0m\u001b[1;33m:\u001b[0m\u001b[1;33m\u001b[0m\u001b[1;33m\u001b[0m\u001b[0m\n\u001b[0;32m   1288\u001b[0m             self.connection._handle_dbapi_exception(\n\u001b[1;32m-> 1289\u001b[1;33m                 \u001b[0me\u001b[0m\u001b[1;33m,\u001b[0m \u001b[1;32mNone\u001b[0m\u001b[1;33m,\u001b[0m \u001b[1;32mNone\u001b[0m\u001b[1;33m,\u001b[0m \u001b[0mself\u001b[0m\u001b[1;33m.\u001b[0m\u001b[0mcursor\u001b[0m\u001b[1;33m,\u001b[0m \u001b[0mself\u001b[0m\u001b[1;33m.\u001b[0m\u001b[0mcontext\u001b[0m\u001b[1;33m\u001b[0m\u001b[1;33m\u001b[0m\u001b[0m\n\u001b[0m\u001b[0;32m   1290\u001b[0m             )\n\u001b[0;32m   1291\u001b[0m \u001b[1;33m\u001b[0m\u001b[0m\n",
      "\u001b[1;32m~\\AppData\\Local\\Programs\\ArcGIS\\Pro\\bin\\Python\\envs\\arcgispro-py3\\lib\\site-packages\\sqlalchemy\\engine\\base.py\u001b[0m in \u001b[0;36m_handle_dbapi_exception\u001b[1;34m(self, e, statement, parameters, cursor, context)\u001b[0m\n\u001b[0;32m   1509\u001b[0m             \u001b[1;32melif\u001b[0m \u001b[0mshould_wrap\u001b[0m\u001b[1;33m:\u001b[0m\u001b[1;33m\u001b[0m\u001b[1;33m\u001b[0m\u001b[0m\n\u001b[0;32m   1510\u001b[0m                 util.raise_(\n\u001b[1;32m-> 1511\u001b[1;33m                     \u001b[0msqlalchemy_exception\u001b[0m\u001b[1;33m,\u001b[0m \u001b[0mwith_traceback\u001b[0m\u001b[1;33m=\u001b[0m\u001b[0mexc_info\u001b[0m\u001b[1;33m[\u001b[0m\u001b[1;36m2\u001b[0m\u001b[1;33m]\u001b[0m\u001b[1;33m,\u001b[0m \u001b[0mfrom_\u001b[0m\u001b[1;33m=\u001b[0m\u001b[0me\u001b[0m\u001b[1;33m\u001b[0m\u001b[1;33m\u001b[0m\u001b[0m\n\u001b[0m\u001b[0;32m   1512\u001b[0m                 )\n\u001b[0;32m   1513\u001b[0m             \u001b[1;32melse\u001b[0m\u001b[1;33m:\u001b[0m\u001b[1;33m\u001b[0m\u001b[1;33m\u001b[0m\u001b[0m\n",
      "\u001b[1;32m~\\AppData\\Local\\Programs\\ArcGIS\\Pro\\bin\\Python\\envs\\arcgispro-py3\\lib\\site-packages\\sqlalchemy\\util\\compat.py\u001b[0m in \u001b[0;36mraise_\u001b[1;34m(***failed resolving arguments***)\u001b[0m\n\u001b[0;32m    180\u001b[0m \u001b[1;33m\u001b[0m\u001b[0m\n\u001b[0;32m    181\u001b[0m         \u001b[1;32mtry\u001b[0m\u001b[1;33m:\u001b[0m\u001b[1;33m\u001b[0m\u001b[1;33m\u001b[0m\u001b[0m\n\u001b[1;32m--> 182\u001b[1;33m             \u001b[1;32mraise\u001b[0m \u001b[0mexception\u001b[0m\u001b[1;33m\u001b[0m\u001b[1;33m\u001b[0m\u001b[0m\n\u001b[0m\u001b[0;32m    183\u001b[0m         \u001b[1;32mfinally\u001b[0m\u001b[1;33m:\u001b[0m\u001b[1;33m\u001b[0m\u001b[1;33m\u001b[0m\u001b[0m\n\u001b[0;32m    184\u001b[0m             \u001b[1;31m# credit to\u001b[0m\u001b[1;33m\u001b[0m\u001b[1;33m\u001b[0m\u001b[1;33m\u001b[0m\u001b[0m\n",
      "\u001b[1;32m~\\AppData\\Local\\Programs\\ArcGIS\\Pro\\bin\\Python\\envs\\arcgispro-py3\\lib\\site-packages\\sqlalchemy\\engine\\result.py\u001b[0m in \u001b[0;36mfetchall\u001b[1;34m(self)\u001b[0m\n\u001b[0;32m   1282\u001b[0m \u001b[1;33m\u001b[0m\u001b[0m\n\u001b[0;32m   1283\u001b[0m         \u001b[1;32mtry\u001b[0m\u001b[1;33m:\u001b[0m\u001b[1;33m\u001b[0m\u001b[1;33m\u001b[0m\u001b[0m\n\u001b[1;32m-> 1284\u001b[1;33m             \u001b[0ml\u001b[0m \u001b[1;33m=\u001b[0m \u001b[0mself\u001b[0m\u001b[1;33m.\u001b[0m\u001b[0mprocess_rows\u001b[0m\u001b[1;33m(\u001b[0m\u001b[0mself\u001b[0m\u001b[1;33m.\u001b[0m\u001b[0m_fetchall_impl\u001b[0m\u001b[1;33m(\u001b[0m\u001b[1;33m)\u001b[0m\u001b[1;33m)\u001b[0m\u001b[1;33m\u001b[0m\u001b[1;33m\u001b[0m\u001b[0m\n\u001b[0m\u001b[0;32m   1285\u001b[0m             \u001b[0mself\u001b[0m\u001b[1;33m.\u001b[0m\u001b[0m_soft_close\u001b[0m\u001b[1;33m(\u001b[0m\u001b[1;33m)\u001b[0m\u001b[1;33m\u001b[0m\u001b[1;33m\u001b[0m\u001b[0m\n\u001b[0;32m   1286\u001b[0m             \u001b[1;32mreturn\u001b[0m \u001b[0ml\u001b[0m\u001b[1;33m\u001b[0m\u001b[1;33m\u001b[0m\u001b[0m\n",
      "\u001b[1;32m~\\AppData\\Local\\Programs\\ArcGIS\\Pro\\bin\\Python\\envs\\arcgispro-py3\\lib\\site-packages\\sqlalchemy\\engine\\result.py\u001b[0m in \u001b[0;36m_fetchall_impl\u001b[1;34m(self)\u001b[0m\n\u001b[0;32m   1228\u001b[0m     \u001b[1;32mdef\u001b[0m \u001b[0m_fetchall_impl\u001b[0m\u001b[1;33m(\u001b[0m\u001b[0mself\u001b[0m\u001b[1;33m)\u001b[0m\u001b[1;33m:\u001b[0m\u001b[1;33m\u001b[0m\u001b[1;33m\u001b[0m\u001b[0m\n\u001b[0;32m   1229\u001b[0m         \u001b[1;32mtry\u001b[0m\u001b[1;33m:\u001b[0m\u001b[1;33m\u001b[0m\u001b[1;33m\u001b[0m\u001b[0m\n\u001b[1;32m-> 1230\u001b[1;33m             \u001b[1;32mreturn\u001b[0m \u001b[0mself\u001b[0m\u001b[1;33m.\u001b[0m\u001b[0mcursor\u001b[0m\u001b[1;33m.\u001b[0m\u001b[0mfetchall\u001b[0m\u001b[1;33m(\u001b[0m\u001b[1;33m)\u001b[0m\u001b[1;33m\u001b[0m\u001b[1;33m\u001b[0m\u001b[0m\n\u001b[0m\u001b[0;32m   1231\u001b[0m         \u001b[1;32mexcept\u001b[0m \u001b[0mAttributeError\u001b[0m \u001b[1;32mas\u001b[0m \u001b[0merr\u001b[0m\u001b[1;33m:\u001b[0m\u001b[1;33m\u001b[0m\u001b[1;33m\u001b[0m\u001b[0m\n\u001b[0;32m   1232\u001b[0m             \u001b[1;32mreturn\u001b[0m \u001b[0mself\u001b[0m\u001b[1;33m.\u001b[0m\u001b[0m_non_result\u001b[0m\u001b[1;33m(\u001b[0m\u001b[1;33m[\u001b[0m\u001b[1;33m]\u001b[0m\u001b[1;33m,\u001b[0m \u001b[0merr\u001b[0m\u001b[1;33m)\u001b[0m\u001b[1;33m\u001b[0m\u001b[1;33m\u001b[0m\u001b[0m\n",
      "\u001b[1;31mProgrammingError\u001b[0m: (pyodbc.ProgrammingError) ('ODBC SQL type -151 is not yet supported.  column-index=1  type=-151', 'HY106')\n(Background on this error at: http://sqlalche.me/e/13/f405)"
     ]
    }
   ],
   "source": [
    "BikeFacility = gpd.GeoDataFrame.from_postgis(sql, engine, geom_col='Shape' )"
   ]
  },
  {
   "cell_type": "code",
   "execution_count": 11,
   "metadata": {},
   "outputs": [],
   "source": [
    "import arcpy"
   ]
  },
  {
   "cell_type": "code",
   "execution_count": 12,
   "metadata": {},
   "outputs": [
    {
     "ename": "RuntimeError",
     "evalue": "Object: Could not open SDE workspace Database Connections\\Connection to rliddb.int.lcog.org,5433.sde",
     "output_type": "error",
     "traceback": [
      "\u001b[1;31m---------------------------------------------------------------------------\u001b[0m",
      "\u001b[1;31mRuntimeError\u001b[0m                              Traceback (most recent call last)",
      "\u001b[1;32m<ipython-input-12-63a2c25e22f6>\u001b[0m in \u001b[0;36m<module>\u001b[1;34m\u001b[0m\n\u001b[0;32m      1\u001b[0m \u001b[0megdb\u001b[0m \u001b[1;33m=\u001b[0m \u001b[1;34mr'Database Connections\\Connection to rliddb.int.lcog.org,5433.sde'\u001b[0m\u001b[1;33m\u001b[0m\u001b[1;33m\u001b[0m\u001b[0m\n\u001b[1;32m----> 2\u001b[1;33m \u001b[0megdb_conn\u001b[0m \u001b[1;33m=\u001b[0m \u001b[0marcpy\u001b[0m\u001b[1;33m.\u001b[0m\u001b[0mArcSDESQLExecute\u001b[0m\u001b[1;33m(\u001b[0m\u001b[0megdb\u001b[0m\u001b[1;33m)\u001b[0m\u001b[1;33m\u001b[0m\u001b[1;33m\u001b[0m\u001b[0m\n\u001b[0m",
      "\u001b[1;32m~\\AppData\\Local\\Programs\\ArcGIS\\Pro\\Resources\\ArcPy\\arcpy\\arcobjects\\mixins.py\u001b[0m in \u001b[0;36m__init__\u001b[1;34m(self, server, instance, database, user, password)\u001b[0m\n\u001b[0;32m    903\u001b[0m            The password for the user name.\"\"\"\n\u001b[0;32m    904\u001b[0m         \u001b[1;32mfrom\u001b[0m \u001b[0marcpy\u001b[0m\u001b[1;33m.\u001b[0m\u001b[0mgeoprocessing\u001b[0m\u001b[1;33m.\u001b[0m\u001b[0m_base\u001b[0m \u001b[1;32mimport\u001b[0m \u001b[0mgp_fixargs\u001b[0m\u001b[1;33m\u001b[0m\u001b[1;33m\u001b[0m\u001b[0m\n\u001b[1;32m--> 905\u001b[1;33m         \u001b[0m_BaseArcObject\u001b[0m\u001b[1;33m.\u001b[0m\u001b[0m__init__\u001b[0m\u001b[1;33m(\u001b[0m\u001b[0mself\u001b[0m\u001b[1;33m,\u001b[0m \u001b[1;33m*\u001b[0m\u001b[0mgp_fixargs\u001b[0m\u001b[1;33m(\u001b[0m\u001b[1;33m(\u001b[0m\u001b[0mserver\u001b[0m\u001b[1;33m,\u001b[0m \u001b[0minstance\u001b[0m\u001b[1;33m,\u001b[0m \u001b[0mdatabase\u001b[0m\u001b[1;33m,\u001b[0m \u001b[0muser\u001b[0m\u001b[1;33m,\u001b[0m \u001b[0mpassword\u001b[0m\u001b[1;33m)\u001b[0m\u001b[1;33m,\u001b[0m \u001b[1;32mTrue\u001b[0m\u001b[1;33m)\u001b[0m\u001b[1;33m)\u001b[0m\u001b[1;33m\u001b[0m\u001b[1;33m\u001b[0m\u001b[0m\n\u001b[0m\u001b[0;32m    906\u001b[0m \u001b[1;33m\u001b[0m\u001b[0m\n\u001b[0;32m    907\u001b[0m \u001b[1;32mclass\u001b[0m \u001b[0mNetCDFFilePropertiesMixin\u001b[0m\u001b[1;33m(\u001b[0m\u001b[0mobject\u001b[0m\u001b[1;33m)\u001b[0m\u001b[1;33m:\u001b[0m\u001b[1;33m\u001b[0m\u001b[1;33m\u001b[0m\u001b[0m\n",
      "\u001b[1;32m~\\AppData\\Local\\Programs\\ArcGIS\\Pro\\Resources\\ArcPy\\arcpy\\arcobjects\\_base.py\u001b[0m in \u001b[0;36m__init__\u001b[1;34m(self, *args, **kwargs)\u001b[0m\n\u001b[0;32m     45\u001b[0m         self._arc_object = gp._gp.CreateObject(self.__class__.__name__,\n\u001b[0;32m     46\u001b[0m                     *((arg._arc_object if hasattr(arg, '_arc_object') else arg)\n\u001b[1;32m---> 47\u001b[1;33m                         for arg in args))\n\u001b[0m\u001b[0;32m     48\u001b[0m         \u001b[1;32mfor\u001b[0m \u001b[0mattr\u001b[0m\u001b[1;33m,\u001b[0m \u001b[0mvalue\u001b[0m \u001b[1;32min\u001b[0m \u001b[0mkwargs\u001b[0m\u001b[1;33m.\u001b[0m\u001b[0mitems\u001b[0m\u001b[1;33m(\u001b[0m\u001b[1;33m)\u001b[0m\u001b[1;33m:\u001b[0m\u001b[1;33m\u001b[0m\u001b[1;33m\u001b[0m\u001b[0m\n\u001b[0;32m     49\u001b[0m             \u001b[0msetattr\u001b[0m\u001b[1;33m(\u001b[0m\u001b[0mself\u001b[0m\u001b[1;33m.\u001b[0m\u001b[0m_arc_object\u001b[0m\u001b[1;33m,\u001b[0m \u001b[0mattr\u001b[0m\u001b[1;33m,\u001b[0m \u001b[0mvalue\u001b[0m\u001b[1;33m)\u001b[0m\u001b[1;33m\u001b[0m\u001b[1;33m\u001b[0m\u001b[0m\n",
      "\u001b[1;31mRuntimeError\u001b[0m: Object: Could not open SDE workspace Database Connections\\Connection to rliddb.int.lcog.org,5433.sde"
     ]
    }
   ],
   "source": [
    "egdb = r'Database Connections\\Connection to rliddb.int.lcog.org,5433.sde'\n",
    "egdb_conn = arcpy.ArcSDESQLExecute(egdb)"
   ]
  },
  {
   "cell_type": "code",
   "execution_count": null,
   "metadata": {},
   "outputs": [],
   "source": []
  }
 ],
 "metadata": {
  "kernelspec": {
   "display_name": "Python 3",
   "language": "python",
   "name": "python3"
  },
  "language_info": {
   "codemirror_mode": {
    "name": "ipython",
    "version": 3
   },
   "file_extension": ".py",
   "mimetype": "text/x-python",
   "name": "python",
   "nbconvert_exporter": "python",
   "pygments_lexer": "ipython3",
   "version": "3.7.9"
  }
 },
 "nbformat": 4,
 "nbformat_minor": 4
}
